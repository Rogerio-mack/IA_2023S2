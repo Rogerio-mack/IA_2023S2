{
  "nbformat": 4,
  "nbformat_minor": 0,
  "metadata": {
    "colab": {
      "provenance": [],
      "authorship_tag": "ABX9TyPvwFJBsp0YI2tDNKUxRpjs",
      "include_colab_link": true
    },
    "kernelspec": {
      "name": "python3",
      "display_name": "Python 3"
    },
    "language_info": {
      "name": "python"
    }
  },
  "cells": [
    {
      "cell_type": "markdown",
      "metadata": {
        "id": "view-in-github",
        "colab_type": "text"
      },
      "source": [
        "<a href=\"https://colab.research.google.com/github/Rogerio-mack/IA_2023S2/blob/main/IA_N2_2023S2_solucao.ipynb\" target=\"_parent\"><img src=\"https://colab.research.google.com/assets/colab-badge.svg\" alt=\"Open In Colab\"/></a>"
      ]
    },
    {
      "cell_type": "markdown",
      "metadata": {
        "id": "J3LMBfpeHTwb"
      },
      "source": [
        "<head>\n",
        "  <meta name=\"author\" content=\"Rogério de Oliveira\">\n",
        "  <meta institution=\"author\" content=\"Universidade Presbiteriana Mackenzie\">\n",
        "</head>\n",
        "\n",
        "<img src=\"http://meusite.mackenzie.br/rogerio/mackenzie_logo/UPM.2_horizontal_vermelho.jpg\" width=300, align=\"right\">\n",
        "<!-- <h1 align=left><font size = 6, style=\"color:rgb(200,0,0)\"> optional title </font></h1> -->\n"
      ]
    },
    {
      "cell_type": "code",
      "source": [
        "import pandas as pd\n",
        "import numpy as np\n",
        "import matplotlib.pyplot as plt\n",
        "%matplotlib inline\n",
        "import seaborn as sns"
      ],
      "metadata": {
        "id": "5ANHJL3HMbxN"
      },
      "execution_count": null,
      "outputs": []
    },
    {
      "cell_type": "markdown",
      "source": [
        "# Case: **Student Stress**\n",
        "\n",
        "Neste case você vai empregar dados relacionados a estudantes para determinar o seu nível de stress."
      ],
      "metadata": {
        "id": "OxK-2fEsyV7J"
      }
    },
    {
      "cell_type": "code",
      "source": [
        "df_train = pd.read_csv('https://github.com/Rogerio-mack/IA_2023S2/raw/main/StressStudentsTrain.csv')\n",
        "display(df_train.head(), df_train.shape)\n",
        "\n",
        "df_test = pd.read_csv('https://github.com/Rogerio-mack/IA_2023S2/raw/main/StressStudentsTest.csv')\n",
        "display(df_test.head(), df_test.shape)"
      ],
      "metadata": {
        "colab": {
          "base_uri": "https://localhost:8080/",
          "height": 509
        },
        "id": "e9fsGpwGuLX7",
        "outputId": "2f23ecc1-9f35-479a-adc8-87e7e9f75700"
      },
      "execution_count": null,
      "outputs": [
        {
          "output_type": "display_data",
          "data": {
            "text/plain": [
              "   anxiety_level  self_esteem  mental_health_history  depression  headache  \\\n",
              "0              0           28                      0           3         1   \n",
              "1             14           30                      0           9         2   \n",
              "2             21           11                      1          20         3   \n",
              "3             21            4                      1          26         3   \n",
              "4              3            0                      1           4         1   \n",
              "\n",
              "   blood_pressure  sleep_quality  breathing_problem  noise_level  \\\n",
              "0               2              4                  2            1   \n",
              "1               3              5                  5            1   \n",
              "2               3              1                  4            5   \n",
              "3               3              1                  3            3   \n",
              "4               3              1                  5            4   \n",
              "\n",
              "   living_conditions  ...  basic_needs  academic_performance  study_load  \\\n",
              "0                  3  ...            5                     4           2   \n",
              "1                  4  ...            3                     5           0   \n",
              "2                  1  ...            1                     1           3   \n",
              "3                  2  ...            2                     2           5   \n",
              "4                  3  ...            3                     1           1   \n",
              "\n",
              "   teacher_student_relationship  future_career_concerns  social_support  \\\n",
              "0                             5                       1               3   \n",
              "1                             0                       4               1   \n",
              "2                             2                       5               1   \n",
              "3                             1                       5               1   \n",
              "4                             2                       1               1   \n",
              "\n",
              "   peer_pressure  extracurricular_activities  bullying  stress_level  \n",
              "0              1                           1         1             0  \n",
              "1              2                           3         0             0  \n",
              "2              5                           5         4             2  \n",
              "3              5                           4         4             2  \n",
              "4              0                           4         4             2  \n",
              "\n",
              "[5 rows x 21 columns]"
            ],
            "text/html": [
              "\n",
              "  <div id=\"df-47a8df5d-06bd-49f2-b07f-5f6ecee74b2e\" class=\"colab-df-container\">\n",
              "    <div>\n",
              "<style scoped>\n",
              "    .dataframe tbody tr th:only-of-type {\n",
              "        vertical-align: middle;\n",
              "    }\n",
              "\n",
              "    .dataframe tbody tr th {\n",
              "        vertical-align: top;\n",
              "    }\n",
              "\n",
              "    .dataframe thead th {\n",
              "        text-align: right;\n",
              "    }\n",
              "</style>\n",
              "<table border=\"1\" class=\"dataframe\">\n",
              "  <thead>\n",
              "    <tr style=\"text-align: right;\">\n",
              "      <th></th>\n",
              "      <th>anxiety_level</th>\n",
              "      <th>self_esteem</th>\n",
              "      <th>mental_health_history</th>\n",
              "      <th>depression</th>\n",
              "      <th>headache</th>\n",
              "      <th>blood_pressure</th>\n",
              "      <th>sleep_quality</th>\n",
              "      <th>breathing_problem</th>\n",
              "      <th>noise_level</th>\n",
              "      <th>living_conditions</th>\n",
              "      <th>...</th>\n",
              "      <th>basic_needs</th>\n",
              "      <th>academic_performance</th>\n",
              "      <th>study_load</th>\n",
              "      <th>teacher_student_relationship</th>\n",
              "      <th>future_career_concerns</th>\n",
              "      <th>social_support</th>\n",
              "      <th>peer_pressure</th>\n",
              "      <th>extracurricular_activities</th>\n",
              "      <th>bullying</th>\n",
              "      <th>stress_level</th>\n",
              "    </tr>\n",
              "  </thead>\n",
              "  <tbody>\n",
              "    <tr>\n",
              "      <th>0</th>\n",
              "      <td>0</td>\n",
              "      <td>28</td>\n",
              "      <td>0</td>\n",
              "      <td>3</td>\n",
              "      <td>1</td>\n",
              "      <td>2</td>\n",
              "      <td>4</td>\n",
              "      <td>2</td>\n",
              "      <td>1</td>\n",
              "      <td>3</td>\n",
              "      <td>...</td>\n",
              "      <td>5</td>\n",
              "      <td>4</td>\n",
              "      <td>2</td>\n",
              "      <td>5</td>\n",
              "      <td>1</td>\n",
              "      <td>3</td>\n",
              "      <td>1</td>\n",
              "      <td>1</td>\n",
              "      <td>1</td>\n",
              "      <td>0</td>\n",
              "    </tr>\n",
              "    <tr>\n",
              "      <th>1</th>\n",
              "      <td>14</td>\n",
              "      <td>30</td>\n",
              "      <td>0</td>\n",
              "      <td>9</td>\n",
              "      <td>2</td>\n",
              "      <td>3</td>\n",
              "      <td>5</td>\n",
              "      <td>5</td>\n",
              "      <td>1</td>\n",
              "      <td>4</td>\n",
              "      <td>...</td>\n",
              "      <td>3</td>\n",
              "      <td>5</td>\n",
              "      <td>0</td>\n",
              "      <td>0</td>\n",
              "      <td>4</td>\n",
              "      <td>1</td>\n",
              "      <td>2</td>\n",
              "      <td>3</td>\n",
              "      <td>0</td>\n",
              "      <td>0</td>\n",
              "    </tr>\n",
              "    <tr>\n",
              "      <th>2</th>\n",
              "      <td>21</td>\n",
              "      <td>11</td>\n",
              "      <td>1</td>\n",
              "      <td>20</td>\n",
              "      <td>3</td>\n",
              "      <td>3</td>\n",
              "      <td>1</td>\n",
              "      <td>4</td>\n",
              "      <td>5</td>\n",
              "      <td>1</td>\n",
              "      <td>...</td>\n",
              "      <td>1</td>\n",
              "      <td>1</td>\n",
              "      <td>3</td>\n",
              "      <td>2</td>\n",
              "      <td>5</td>\n",
              "      <td>1</td>\n",
              "      <td>5</td>\n",
              "      <td>5</td>\n",
              "      <td>4</td>\n",
              "      <td>2</td>\n",
              "    </tr>\n",
              "    <tr>\n",
              "      <th>3</th>\n",
              "      <td>21</td>\n",
              "      <td>4</td>\n",
              "      <td>1</td>\n",
              "      <td>26</td>\n",
              "      <td>3</td>\n",
              "      <td>3</td>\n",
              "      <td>1</td>\n",
              "      <td>3</td>\n",
              "      <td>3</td>\n",
              "      <td>2</td>\n",
              "      <td>...</td>\n",
              "      <td>2</td>\n",
              "      <td>2</td>\n",
              "      <td>5</td>\n",
              "      <td>1</td>\n",
              "      <td>5</td>\n",
              "      <td>1</td>\n",
              "      <td>5</td>\n",
              "      <td>4</td>\n",
              "      <td>4</td>\n",
              "      <td>2</td>\n",
              "    </tr>\n",
              "    <tr>\n",
              "      <th>4</th>\n",
              "      <td>3</td>\n",
              "      <td>0</td>\n",
              "      <td>1</td>\n",
              "      <td>4</td>\n",
              "      <td>1</td>\n",
              "      <td>3</td>\n",
              "      <td>1</td>\n",
              "      <td>5</td>\n",
              "      <td>4</td>\n",
              "      <td>3</td>\n",
              "      <td>...</td>\n",
              "      <td>3</td>\n",
              "      <td>1</td>\n",
              "      <td>1</td>\n",
              "      <td>2</td>\n",
              "      <td>1</td>\n",
              "      <td>1</td>\n",
              "      <td>0</td>\n",
              "      <td>4</td>\n",
              "      <td>4</td>\n",
              "      <td>2</td>\n",
              "    </tr>\n",
              "  </tbody>\n",
              "</table>\n",
              "<p>5 rows × 21 columns</p>\n",
              "</div>\n",
              "    <div class=\"colab-df-buttons\">\n",
              "\n",
              "  <div class=\"colab-df-container\">\n",
              "    <button class=\"colab-df-convert\" onclick=\"convertToInteractive('df-47a8df5d-06bd-49f2-b07f-5f6ecee74b2e')\"\n",
              "            title=\"Convert this dataframe to an interactive table.\"\n",
              "            style=\"display:none;\">\n",
              "\n",
              "  <svg xmlns=\"http://www.w3.org/2000/svg\" height=\"24px\" viewBox=\"0 -960 960 960\">\n",
              "    <path d=\"M120-120v-720h720v720H120Zm60-500h600v-160H180v160Zm220 220h160v-160H400v160Zm0 220h160v-160H400v160ZM180-400h160v-160H180v160Zm440 0h160v-160H620v160ZM180-180h160v-160H180v160Zm440 0h160v-160H620v160Z\"/>\n",
              "  </svg>\n",
              "    </button>\n",
              "\n",
              "  <style>\n",
              "    .colab-df-container {\n",
              "      display:flex;\n",
              "      gap: 12px;\n",
              "    }\n",
              "\n",
              "    .colab-df-convert {\n",
              "      background-color: #E8F0FE;\n",
              "      border: none;\n",
              "      border-radius: 50%;\n",
              "      cursor: pointer;\n",
              "      display: none;\n",
              "      fill: #1967D2;\n",
              "      height: 32px;\n",
              "      padding: 0 0 0 0;\n",
              "      width: 32px;\n",
              "    }\n",
              "\n",
              "    .colab-df-convert:hover {\n",
              "      background-color: #E2EBFA;\n",
              "      box-shadow: 0px 1px 2px rgba(60, 64, 67, 0.3), 0px 1px 3px 1px rgba(60, 64, 67, 0.15);\n",
              "      fill: #174EA6;\n",
              "    }\n",
              "\n",
              "    .colab-df-buttons div {\n",
              "      margin-bottom: 4px;\n",
              "    }\n",
              "\n",
              "    [theme=dark] .colab-df-convert {\n",
              "      background-color: #3B4455;\n",
              "      fill: #D2E3FC;\n",
              "    }\n",
              "\n",
              "    [theme=dark] .colab-df-convert:hover {\n",
              "      background-color: #434B5C;\n",
              "      box-shadow: 0px 1px 3px 1px rgba(0, 0, 0, 0.15);\n",
              "      filter: drop-shadow(0px 1px 2px rgba(0, 0, 0, 0.3));\n",
              "      fill: #FFFFFF;\n",
              "    }\n",
              "  </style>\n",
              "\n",
              "    <script>\n",
              "      const buttonEl =\n",
              "        document.querySelector('#df-47a8df5d-06bd-49f2-b07f-5f6ecee74b2e button.colab-df-convert');\n",
              "      buttonEl.style.display =\n",
              "        google.colab.kernel.accessAllowed ? 'block' : 'none';\n",
              "\n",
              "      async function convertToInteractive(key) {\n",
              "        const element = document.querySelector('#df-47a8df5d-06bd-49f2-b07f-5f6ecee74b2e');\n",
              "        const dataTable =\n",
              "          await google.colab.kernel.invokeFunction('convertToInteractive',\n",
              "                                                    [key], {});\n",
              "        if (!dataTable) return;\n",
              "\n",
              "        const docLinkHtml = 'Like what you see? Visit the ' +\n",
              "          '<a target=\"_blank\" href=https://colab.research.google.com/notebooks/data_table.ipynb>data table notebook</a>'\n",
              "          + ' to learn more about interactive tables.';\n",
              "        element.innerHTML = '';\n",
              "        dataTable['output_type'] = 'display_data';\n",
              "        await google.colab.output.renderOutput(dataTable, element);\n",
              "        const docLink = document.createElement('div');\n",
              "        docLink.innerHTML = docLinkHtml;\n",
              "        element.appendChild(docLink);\n",
              "      }\n",
              "    </script>\n",
              "  </div>\n",
              "\n",
              "\n",
              "<div id=\"df-e229c002-00bf-4429-af51-19adb5faffff\">\n",
              "  <button class=\"colab-df-quickchart\" onclick=\"quickchart('df-e229c002-00bf-4429-af51-19adb5faffff')\"\n",
              "            title=\"Suggest charts\"\n",
              "            style=\"display:none;\">\n",
              "\n",
              "<svg xmlns=\"http://www.w3.org/2000/svg\" height=\"24px\"viewBox=\"0 0 24 24\"\n",
              "     width=\"24px\">\n",
              "    <g>\n",
              "        <path d=\"M19 3H5c-1.1 0-2 .9-2 2v14c0 1.1.9 2 2 2h14c1.1 0 2-.9 2-2V5c0-1.1-.9-2-2-2zM9 17H7v-7h2v7zm4 0h-2V7h2v10zm4 0h-2v-4h2v4z\"/>\n",
              "    </g>\n",
              "</svg>\n",
              "  </button>\n",
              "\n",
              "<style>\n",
              "  .colab-df-quickchart {\n",
              "      --bg-color: #E8F0FE;\n",
              "      --fill-color: #1967D2;\n",
              "      --hover-bg-color: #E2EBFA;\n",
              "      --hover-fill-color: #174EA6;\n",
              "      --disabled-fill-color: #AAA;\n",
              "      --disabled-bg-color: #DDD;\n",
              "  }\n",
              "\n",
              "  [theme=dark] .colab-df-quickchart {\n",
              "      --bg-color: #3B4455;\n",
              "      --fill-color: #D2E3FC;\n",
              "      --hover-bg-color: #434B5C;\n",
              "      --hover-fill-color: #FFFFFF;\n",
              "      --disabled-bg-color: #3B4455;\n",
              "      --disabled-fill-color: #666;\n",
              "  }\n",
              "\n",
              "  .colab-df-quickchart {\n",
              "    background-color: var(--bg-color);\n",
              "    border: none;\n",
              "    border-radius: 50%;\n",
              "    cursor: pointer;\n",
              "    display: none;\n",
              "    fill: var(--fill-color);\n",
              "    height: 32px;\n",
              "    padding: 0;\n",
              "    width: 32px;\n",
              "  }\n",
              "\n",
              "  .colab-df-quickchart:hover {\n",
              "    background-color: var(--hover-bg-color);\n",
              "    box-shadow: 0 1px 2px rgba(60, 64, 67, 0.3), 0 1px 3px 1px rgba(60, 64, 67, 0.15);\n",
              "    fill: var(--button-hover-fill-color);\n",
              "  }\n",
              "\n",
              "  .colab-df-quickchart-complete:disabled,\n",
              "  .colab-df-quickchart-complete:disabled:hover {\n",
              "    background-color: var(--disabled-bg-color);\n",
              "    fill: var(--disabled-fill-color);\n",
              "    box-shadow: none;\n",
              "  }\n",
              "\n",
              "  .colab-df-spinner {\n",
              "    border: 2px solid var(--fill-color);\n",
              "    border-color: transparent;\n",
              "    border-bottom-color: var(--fill-color);\n",
              "    animation:\n",
              "      spin 1s steps(1) infinite;\n",
              "  }\n",
              "\n",
              "  @keyframes spin {\n",
              "    0% {\n",
              "      border-color: transparent;\n",
              "      border-bottom-color: var(--fill-color);\n",
              "      border-left-color: var(--fill-color);\n",
              "    }\n",
              "    20% {\n",
              "      border-color: transparent;\n",
              "      border-left-color: var(--fill-color);\n",
              "      border-top-color: var(--fill-color);\n",
              "    }\n",
              "    30% {\n",
              "      border-color: transparent;\n",
              "      border-left-color: var(--fill-color);\n",
              "      border-top-color: var(--fill-color);\n",
              "      border-right-color: var(--fill-color);\n",
              "    }\n",
              "    40% {\n",
              "      border-color: transparent;\n",
              "      border-right-color: var(--fill-color);\n",
              "      border-top-color: var(--fill-color);\n",
              "    }\n",
              "    60% {\n",
              "      border-color: transparent;\n",
              "      border-right-color: var(--fill-color);\n",
              "    }\n",
              "    80% {\n",
              "      border-color: transparent;\n",
              "      border-right-color: var(--fill-color);\n",
              "      border-bottom-color: var(--fill-color);\n",
              "    }\n",
              "    90% {\n",
              "      border-color: transparent;\n",
              "      border-bottom-color: var(--fill-color);\n",
              "    }\n",
              "  }\n",
              "</style>\n",
              "\n",
              "  <script>\n",
              "    async function quickchart(key) {\n",
              "      const quickchartButtonEl =\n",
              "        document.querySelector('#' + key + ' button');\n",
              "      quickchartButtonEl.disabled = true;  // To prevent multiple clicks.\n",
              "      quickchartButtonEl.classList.add('colab-df-spinner');\n",
              "      try {\n",
              "        const charts = await google.colab.kernel.invokeFunction(\n",
              "            'suggestCharts', [key], {});\n",
              "      } catch (error) {\n",
              "        console.error('Error during call to suggestCharts:', error);\n",
              "      }\n",
              "      quickchartButtonEl.classList.remove('colab-df-spinner');\n",
              "      quickchartButtonEl.classList.add('colab-df-quickchart-complete');\n",
              "    }\n",
              "    (() => {\n",
              "      let quickchartButtonEl =\n",
              "        document.querySelector('#df-e229c002-00bf-4429-af51-19adb5faffff button');\n",
              "      quickchartButtonEl.style.display =\n",
              "        google.colab.kernel.accessAllowed ? 'block' : 'none';\n",
              "    })();\n",
              "  </script>\n",
              "</div>\n",
              "    </div>\n",
              "  </div>\n"
            ]
          },
          "metadata": {}
        },
        {
          "output_type": "display_data",
          "data": {
            "text/plain": [
              "(880, 21)"
            ]
          },
          "metadata": {}
        },
        {
          "output_type": "display_data",
          "data": {
            "text/plain": [
              "   anxiety_level  self_esteem  mental_health_history  depression  headache  \\\n",
              "0              7           30                      0           3         1   \n",
              "1             15            0                      1          27         3   \n",
              "2             14           19                      1          10         2   \n",
              "3             16            4                      1          26         4   \n",
              "4              7           29                      0           5         1   \n",
              "\n",
              "   blood_pressure  sleep_quality  breathing_problem  noise_level  \\\n",
              "0               2              5                  2            1   \n",
              "1               3              1                  5            5   \n",
              "2               1              2                  4            3   \n",
              "3               3              1                  4            5   \n",
              "4               2              4                  1            1   \n",
              "\n",
              "   living_conditions  ...  basic_needs  academic_performance  study_load  \\\n",
              "0                  4  ...            5                     5           1   \n",
              "1                  2  ...            1                     1           4   \n",
              "2                  2  ...            3                     2           2   \n",
              "3                  2  ...            1                     2           5   \n",
              "4                  3  ...            4                     5           1   \n",
              "\n",
              "   teacher_student_relationship  future_career_concerns  social_support  \\\n",
              "0                             4                       1               3   \n",
              "1                             2                       4               1   \n",
              "2                             2                       2               2   \n",
              "3                             1                       4               1   \n",
              "4                             5                       1               3   \n",
              "\n",
              "   peer_pressure  extracurricular_activities  bullying  stress_level  \n",
              "0              2                           1         1             0  \n",
              "1              4                           4         4             2  \n",
              "2              2                           3         3             1  \n",
              "3              5                           5         4             2  \n",
              "4              2                           1         1             0  \n",
              "\n",
              "[5 rows x 21 columns]"
            ],
            "text/html": [
              "\n",
              "  <div id=\"df-cce2ff68-9a81-4b3b-81b2-68a9ed53e8a1\" class=\"colab-df-container\">\n",
              "    <div>\n",
              "<style scoped>\n",
              "    .dataframe tbody tr th:only-of-type {\n",
              "        vertical-align: middle;\n",
              "    }\n",
              "\n",
              "    .dataframe tbody tr th {\n",
              "        vertical-align: top;\n",
              "    }\n",
              "\n",
              "    .dataframe thead th {\n",
              "        text-align: right;\n",
              "    }\n",
              "</style>\n",
              "<table border=\"1\" class=\"dataframe\">\n",
              "  <thead>\n",
              "    <tr style=\"text-align: right;\">\n",
              "      <th></th>\n",
              "      <th>anxiety_level</th>\n",
              "      <th>self_esteem</th>\n",
              "      <th>mental_health_history</th>\n",
              "      <th>depression</th>\n",
              "      <th>headache</th>\n",
              "      <th>blood_pressure</th>\n",
              "      <th>sleep_quality</th>\n",
              "      <th>breathing_problem</th>\n",
              "      <th>noise_level</th>\n",
              "      <th>living_conditions</th>\n",
              "      <th>...</th>\n",
              "      <th>basic_needs</th>\n",
              "      <th>academic_performance</th>\n",
              "      <th>study_load</th>\n",
              "      <th>teacher_student_relationship</th>\n",
              "      <th>future_career_concerns</th>\n",
              "      <th>social_support</th>\n",
              "      <th>peer_pressure</th>\n",
              "      <th>extracurricular_activities</th>\n",
              "      <th>bullying</th>\n",
              "      <th>stress_level</th>\n",
              "    </tr>\n",
              "  </thead>\n",
              "  <tbody>\n",
              "    <tr>\n",
              "      <th>0</th>\n",
              "      <td>7</td>\n",
              "      <td>30</td>\n",
              "      <td>0</td>\n",
              "      <td>3</td>\n",
              "      <td>1</td>\n",
              "      <td>2</td>\n",
              "      <td>5</td>\n",
              "      <td>2</td>\n",
              "      <td>1</td>\n",
              "      <td>4</td>\n",
              "      <td>...</td>\n",
              "      <td>5</td>\n",
              "      <td>5</td>\n",
              "      <td>1</td>\n",
              "      <td>4</td>\n",
              "      <td>1</td>\n",
              "      <td>3</td>\n",
              "      <td>2</td>\n",
              "      <td>1</td>\n",
              "      <td>1</td>\n",
              "      <td>0</td>\n",
              "    </tr>\n",
              "    <tr>\n",
              "      <th>1</th>\n",
              "      <td>15</td>\n",
              "      <td>0</td>\n",
              "      <td>1</td>\n",
              "      <td>27</td>\n",
              "      <td>3</td>\n",
              "      <td>3</td>\n",
              "      <td>1</td>\n",
              "      <td>5</td>\n",
              "      <td>5</td>\n",
              "      <td>2</td>\n",
              "      <td>...</td>\n",
              "      <td>1</td>\n",
              "      <td>1</td>\n",
              "      <td>4</td>\n",
              "      <td>2</td>\n",
              "      <td>4</td>\n",
              "      <td>1</td>\n",
              "      <td>4</td>\n",
              "      <td>4</td>\n",
              "      <td>4</td>\n",
              "      <td>2</td>\n",
              "    </tr>\n",
              "    <tr>\n",
              "      <th>2</th>\n",
              "      <td>14</td>\n",
              "      <td>19</td>\n",
              "      <td>1</td>\n",
              "      <td>10</td>\n",
              "      <td>2</td>\n",
              "      <td>1</td>\n",
              "      <td>2</td>\n",
              "      <td>4</td>\n",
              "      <td>3</td>\n",
              "      <td>2</td>\n",
              "      <td>...</td>\n",
              "      <td>3</td>\n",
              "      <td>2</td>\n",
              "      <td>2</td>\n",
              "      <td>2</td>\n",
              "      <td>2</td>\n",
              "      <td>2</td>\n",
              "      <td>2</td>\n",
              "      <td>3</td>\n",
              "      <td>3</td>\n",
              "      <td>1</td>\n",
              "    </tr>\n",
              "    <tr>\n",
              "      <th>3</th>\n",
              "      <td>16</td>\n",
              "      <td>4</td>\n",
              "      <td>1</td>\n",
              "      <td>26</td>\n",
              "      <td>4</td>\n",
              "      <td>3</td>\n",
              "      <td>1</td>\n",
              "      <td>4</td>\n",
              "      <td>5</td>\n",
              "      <td>2</td>\n",
              "      <td>...</td>\n",
              "      <td>1</td>\n",
              "      <td>2</td>\n",
              "      <td>5</td>\n",
              "      <td>1</td>\n",
              "      <td>4</td>\n",
              "      <td>1</td>\n",
              "      <td>5</td>\n",
              "      <td>5</td>\n",
              "      <td>4</td>\n",
              "      <td>2</td>\n",
              "    </tr>\n",
              "    <tr>\n",
              "      <th>4</th>\n",
              "      <td>7</td>\n",
              "      <td>29</td>\n",
              "      <td>0</td>\n",
              "      <td>5</td>\n",
              "      <td>1</td>\n",
              "      <td>2</td>\n",
              "      <td>4</td>\n",
              "      <td>1</td>\n",
              "      <td>1</td>\n",
              "      <td>3</td>\n",
              "      <td>...</td>\n",
              "      <td>4</td>\n",
              "      <td>5</td>\n",
              "      <td>1</td>\n",
              "      <td>5</td>\n",
              "      <td>1</td>\n",
              "      <td>3</td>\n",
              "      <td>2</td>\n",
              "      <td>1</td>\n",
              "      <td>1</td>\n",
              "      <td>0</td>\n",
              "    </tr>\n",
              "  </tbody>\n",
              "</table>\n",
              "<p>5 rows × 21 columns</p>\n",
              "</div>\n",
              "    <div class=\"colab-df-buttons\">\n",
              "\n",
              "  <div class=\"colab-df-container\">\n",
              "    <button class=\"colab-df-convert\" onclick=\"convertToInteractive('df-cce2ff68-9a81-4b3b-81b2-68a9ed53e8a1')\"\n",
              "            title=\"Convert this dataframe to an interactive table.\"\n",
              "            style=\"display:none;\">\n",
              "\n",
              "  <svg xmlns=\"http://www.w3.org/2000/svg\" height=\"24px\" viewBox=\"0 -960 960 960\">\n",
              "    <path d=\"M120-120v-720h720v720H120Zm60-500h600v-160H180v160Zm220 220h160v-160H400v160Zm0 220h160v-160H400v160ZM180-400h160v-160H180v160Zm440 0h160v-160H620v160ZM180-180h160v-160H180v160Zm440 0h160v-160H620v160Z\"/>\n",
              "  </svg>\n",
              "    </button>\n",
              "\n",
              "  <style>\n",
              "    .colab-df-container {\n",
              "      display:flex;\n",
              "      gap: 12px;\n",
              "    }\n",
              "\n",
              "    .colab-df-convert {\n",
              "      background-color: #E8F0FE;\n",
              "      border: none;\n",
              "      border-radius: 50%;\n",
              "      cursor: pointer;\n",
              "      display: none;\n",
              "      fill: #1967D2;\n",
              "      height: 32px;\n",
              "      padding: 0 0 0 0;\n",
              "      width: 32px;\n",
              "    }\n",
              "\n",
              "    .colab-df-convert:hover {\n",
              "      background-color: #E2EBFA;\n",
              "      box-shadow: 0px 1px 2px rgba(60, 64, 67, 0.3), 0px 1px 3px 1px rgba(60, 64, 67, 0.15);\n",
              "      fill: #174EA6;\n",
              "    }\n",
              "\n",
              "    .colab-df-buttons div {\n",
              "      margin-bottom: 4px;\n",
              "    }\n",
              "\n",
              "    [theme=dark] .colab-df-convert {\n",
              "      background-color: #3B4455;\n",
              "      fill: #D2E3FC;\n",
              "    }\n",
              "\n",
              "    [theme=dark] .colab-df-convert:hover {\n",
              "      background-color: #434B5C;\n",
              "      box-shadow: 0px 1px 3px 1px rgba(0, 0, 0, 0.15);\n",
              "      filter: drop-shadow(0px 1px 2px rgba(0, 0, 0, 0.3));\n",
              "      fill: #FFFFFF;\n",
              "    }\n",
              "  </style>\n",
              "\n",
              "    <script>\n",
              "      const buttonEl =\n",
              "        document.querySelector('#df-cce2ff68-9a81-4b3b-81b2-68a9ed53e8a1 button.colab-df-convert');\n",
              "      buttonEl.style.display =\n",
              "        google.colab.kernel.accessAllowed ? 'block' : 'none';\n",
              "\n",
              "      async function convertToInteractive(key) {\n",
              "        const element = document.querySelector('#df-cce2ff68-9a81-4b3b-81b2-68a9ed53e8a1');\n",
              "        const dataTable =\n",
              "          await google.colab.kernel.invokeFunction('convertToInteractive',\n",
              "                                                    [key], {});\n",
              "        if (!dataTable) return;\n",
              "\n",
              "        const docLinkHtml = 'Like what you see? Visit the ' +\n",
              "          '<a target=\"_blank\" href=https://colab.research.google.com/notebooks/data_table.ipynb>data table notebook</a>'\n",
              "          + ' to learn more about interactive tables.';\n",
              "        element.innerHTML = '';\n",
              "        dataTable['output_type'] = 'display_data';\n",
              "        await google.colab.output.renderOutput(dataTable, element);\n",
              "        const docLink = document.createElement('div');\n",
              "        docLink.innerHTML = docLinkHtml;\n",
              "        element.appendChild(docLink);\n",
              "      }\n",
              "    </script>\n",
              "  </div>\n",
              "\n",
              "\n",
              "<div id=\"df-2a45eb76-acb2-46b7-b295-d9a11dc22cab\">\n",
              "  <button class=\"colab-df-quickchart\" onclick=\"quickchart('df-2a45eb76-acb2-46b7-b295-d9a11dc22cab')\"\n",
              "            title=\"Suggest charts\"\n",
              "            style=\"display:none;\">\n",
              "\n",
              "<svg xmlns=\"http://www.w3.org/2000/svg\" height=\"24px\"viewBox=\"0 0 24 24\"\n",
              "     width=\"24px\">\n",
              "    <g>\n",
              "        <path d=\"M19 3H5c-1.1 0-2 .9-2 2v14c0 1.1.9 2 2 2h14c1.1 0 2-.9 2-2V5c0-1.1-.9-2-2-2zM9 17H7v-7h2v7zm4 0h-2V7h2v10zm4 0h-2v-4h2v4z\"/>\n",
              "    </g>\n",
              "</svg>\n",
              "  </button>\n",
              "\n",
              "<style>\n",
              "  .colab-df-quickchart {\n",
              "      --bg-color: #E8F0FE;\n",
              "      --fill-color: #1967D2;\n",
              "      --hover-bg-color: #E2EBFA;\n",
              "      --hover-fill-color: #174EA6;\n",
              "      --disabled-fill-color: #AAA;\n",
              "      --disabled-bg-color: #DDD;\n",
              "  }\n",
              "\n",
              "  [theme=dark] .colab-df-quickchart {\n",
              "      --bg-color: #3B4455;\n",
              "      --fill-color: #D2E3FC;\n",
              "      --hover-bg-color: #434B5C;\n",
              "      --hover-fill-color: #FFFFFF;\n",
              "      --disabled-bg-color: #3B4455;\n",
              "      --disabled-fill-color: #666;\n",
              "  }\n",
              "\n",
              "  .colab-df-quickchart {\n",
              "    background-color: var(--bg-color);\n",
              "    border: none;\n",
              "    border-radius: 50%;\n",
              "    cursor: pointer;\n",
              "    display: none;\n",
              "    fill: var(--fill-color);\n",
              "    height: 32px;\n",
              "    padding: 0;\n",
              "    width: 32px;\n",
              "  }\n",
              "\n",
              "  .colab-df-quickchart:hover {\n",
              "    background-color: var(--hover-bg-color);\n",
              "    box-shadow: 0 1px 2px rgba(60, 64, 67, 0.3), 0 1px 3px 1px rgba(60, 64, 67, 0.15);\n",
              "    fill: var(--button-hover-fill-color);\n",
              "  }\n",
              "\n",
              "  .colab-df-quickchart-complete:disabled,\n",
              "  .colab-df-quickchart-complete:disabled:hover {\n",
              "    background-color: var(--disabled-bg-color);\n",
              "    fill: var(--disabled-fill-color);\n",
              "    box-shadow: none;\n",
              "  }\n",
              "\n",
              "  .colab-df-spinner {\n",
              "    border: 2px solid var(--fill-color);\n",
              "    border-color: transparent;\n",
              "    border-bottom-color: var(--fill-color);\n",
              "    animation:\n",
              "      spin 1s steps(1) infinite;\n",
              "  }\n",
              "\n",
              "  @keyframes spin {\n",
              "    0% {\n",
              "      border-color: transparent;\n",
              "      border-bottom-color: var(--fill-color);\n",
              "      border-left-color: var(--fill-color);\n",
              "    }\n",
              "    20% {\n",
              "      border-color: transparent;\n",
              "      border-left-color: var(--fill-color);\n",
              "      border-top-color: var(--fill-color);\n",
              "    }\n",
              "    30% {\n",
              "      border-color: transparent;\n",
              "      border-left-color: var(--fill-color);\n",
              "      border-top-color: var(--fill-color);\n",
              "      border-right-color: var(--fill-color);\n",
              "    }\n",
              "    40% {\n",
              "      border-color: transparent;\n",
              "      border-right-color: var(--fill-color);\n",
              "      border-top-color: var(--fill-color);\n",
              "    }\n",
              "    60% {\n",
              "      border-color: transparent;\n",
              "      border-right-color: var(--fill-color);\n",
              "    }\n",
              "    80% {\n",
              "      border-color: transparent;\n",
              "      border-right-color: var(--fill-color);\n",
              "      border-bottom-color: var(--fill-color);\n",
              "    }\n",
              "    90% {\n",
              "      border-color: transparent;\n",
              "      border-bottom-color: var(--fill-color);\n",
              "    }\n",
              "  }\n",
              "</style>\n",
              "\n",
              "  <script>\n",
              "    async function quickchart(key) {\n",
              "      const quickchartButtonEl =\n",
              "        document.querySelector('#' + key + ' button');\n",
              "      quickchartButtonEl.disabled = true;  // To prevent multiple clicks.\n",
              "      quickchartButtonEl.classList.add('colab-df-spinner');\n",
              "      try {\n",
              "        const charts = await google.colab.kernel.invokeFunction(\n",
              "            'suggestCharts', [key], {});\n",
              "      } catch (error) {\n",
              "        console.error('Error during call to suggestCharts:', error);\n",
              "      }\n",
              "      quickchartButtonEl.classList.remove('colab-df-spinner');\n",
              "      quickchartButtonEl.classList.add('colab-df-quickchart-complete');\n",
              "    }\n",
              "    (() => {\n",
              "      let quickchartButtonEl =\n",
              "        document.querySelector('#df-2a45eb76-acb2-46b7-b295-d9a11dc22cab button');\n",
              "      quickchartButtonEl.style.display =\n",
              "        google.colab.kernel.accessAllowed ? 'block' : 'none';\n",
              "    })();\n",
              "  </script>\n",
              "</div>\n",
              "    </div>\n",
              "  </div>\n"
            ]
          },
          "metadata": {}
        },
        {
          "output_type": "display_data",
          "data": {
            "text/plain": [
              "(220, 21)"
            ]
          },
          "metadata": {}
        }
      ]
    },
    {
      "cell_type": "markdown",
      "source": [
        "# Exercício 1. **Decision Tree Classification $\\times$ Multilayer Perceptron**\n",
        "\n",
        "Neste exercício você fará um modelo de árvore de decisão e outro de MLP para predição o nível de stress dos estudantes.\n",
        "\n",
        "Para normalização dos dados empregue o `StandardScaler`. Em todos lugares onde for necessário para reprodutibilidade dos resultados, empregue o `random_state=1`.\n",
        "\n",
        "\n",
        "\n"
      ],
      "metadata": {
        "id": "t0cpLdbov0HK"
      }
    },
    {
      "cell_type": "markdown",
      "source": [
        "## Exercício 1.1.\n",
        "\n",
        "Separe os atributos preditores e o atributo objetivo dos conjuntos de treinamento e teste e, em seguida, normalize os dados.\n",
        "\n",
        "**Dica:** normalize os dados de treinamento e aplique o mesmo estimador ajustado aos dados de teste!"
      ],
      "metadata": {
        "id": "jQbSepHmypyD"
      }
    },
    {
      "cell_type": "code",
      "source": [
        "X_train = df_train.drop(columns='stress_level')\n",
        "X_test = df_test.drop(columns='stress_level')\n",
        "\n",
        "y_train = df_train['stress_level']\n",
        "y_test = df_test['stress_level']"
      ],
      "metadata": {
        "id": "kD6rl-MaK21m"
      },
      "execution_count": null,
      "outputs": []
    },
    {
      "cell_type": "code",
      "source": [
        "from sklearn.preprocessing import StandardScaler\n",
        "scaler =  StandardScaler()\n",
        "\n",
        "X_train = scaler.fit_transform(df_train.drop(columns='stress_level'))\n",
        "X_test = scaler.transform(df_test.drop(columns='stress_level'))"
      ],
      "metadata": {
        "id": "Mmo3Z7p3KTir"
      },
      "execution_count": null,
      "outputs": []
    },
    {
      "cell_type": "code",
      "source": [
        "#@markdown check if TRUE\n",
        "X_train.sum().sum() == -2.957634137601417e-13 and X_test.sum().sum() == -3.0458031228583113"
      ],
      "metadata": {
        "colab": {
          "base_uri": "https://localhost:8080/"
        },
        "cellView": "form",
        "id": "oiJJjZ96TMk6",
        "outputId": "f65211ae-2fc3-40a8-80be-77234ebda23b"
      },
      "execution_count": null,
      "outputs": [
        {
          "output_type": "execute_result",
          "data": {
            "text/plain": [
              "True"
            ]
          },
          "metadata": {},
          "execution_count": 5
        }
      ]
    },
    {
      "cell_type": "markdown",
      "source": [
        "## Exercício 1.2.\n",
        "\n",
        "Faça um modelo de Árvore de Decisão. Exceto o `random_state`, empregue todos os demais parâmetros padrão.\n",
        "\n",
        "**Q1. Qual a acuracidade do seu modelo de Árvore de Decisão obtida sobre o conjunto de teste?**"
      ],
      "metadata": {
        "id": "6MNej7ngTs9S"
      }
    },
    {
      "cell_type": "code",
      "source": [
        "from sklearn.tree import DecisionTreeClassifier\n",
        "from sklearn.metrics import classification_report\n",
        "\n",
        "dtree = DecisionTreeClassifier(random_state=1)\n",
        "dtree.fit(X_train, y_train)\n",
        "\n",
        "y_pred = dtree.predict(X_test)\n",
        "print(classification_report(y_test, y_pred))\n",
        "\n"
      ],
      "metadata": {
        "id": "8PvqOUjmPtp-",
        "outputId": "7a55ec84-a272-4a6e-dc11-051da32fafad",
        "colab": {
          "base_uri": "https://localhost:8080/"
        }
      },
      "execution_count": null,
      "outputs": [
        {
          "output_type": "stream",
          "name": "stdout",
          "text": [
            "              precision    recall  f1-score   support\n",
            "\n",
            "           0       0.94      0.86      0.90        74\n",
            "           1       0.88      0.90      0.89        72\n",
            "           2       0.86      0.91      0.88        74\n",
            "\n",
            "    accuracy                           0.89       220\n",
            "   macro avg       0.89      0.89      0.89       220\n",
            "weighted avg       0.89      0.89      0.89       220\n",
            "\n"
          ]
        }
      ]
    },
    {
      "cell_type": "markdown",
      "source": [
        "## Exercício 1.3.\n",
        "\n",
        "**Q2. Use a árvore de decisão obtida para descobrir: quais os 3 atributos apresentam maior ganho de informação para determinar o nível de stress dos estudantes?**"
      ],
      "metadata": {
        "id": "3XkY1tlx_aLl"
      }
    },
    {
      "cell_type": "code",
      "source": [
        "from sklearn import tree\n",
        "\n",
        "tree.plot_tree(dtree,max_depth=3)\n",
        "plt.show()"
      ],
      "metadata": {
        "colab": {
          "base_uri": "https://localhost:8080/",
          "height": 406
        },
        "id": "cLQk_tpIwUh1",
        "outputId": "63b1cbd6-8073-4973-a3c1-ae5b1e6c8a04"
      },
      "execution_count": null,
      "outputs": [
        {
          "output_type": "display_data",
          "data": {
            "text/plain": [
              "<Figure size 640x480 with 1 Axes>"
            ],
            "image/png": "[encoded data removed]"
          },
          "metadata": {}
        }
      ]
    },
    {
      "cell_type": "code",
      "source": [
        "df_train.columns[[5,1,19]]"
      ],
      "metadata": {
        "colab": {
          "base_uri": "https://localhost:8080/"
        },
        "id": "nD9h7Hyyx5a1",
        "outputId": "d6b39ce0-1547-4b88-f9d5-c46e88928836"
      },
      "execution_count": null,
      "outputs": [
        {
          "output_type": "execute_result",
          "data": {
            "text/plain": [
              "Index(['blood_pressure', 'self_esteem', 'bullying'], dtype='object')"
            ]
          },
          "metadata": {},
          "execution_count": 8
        }
      ]
    },
    {
      "cell_type": "code",
      "source": [
        "import graphviz\n",
        "dot_data = tree.export_graphviz(dtree, out_file=None,\n",
        "                     feature_names=list(df_train.columns[0:-1].values),\n",
        "                     class_names=list(sorted(df_train['stress_level'].unique().astype('str'))),\n",
        "                     filled=True, rounded=True,\n",
        "                     special_characters=False,\n",
        "                     proportion=False, impurity=False, node_ids=False,label=None)\n",
        "graph = graphviz.Source(dot_data)\n",
        "graph.render('Student_Stress_Decision_Tree') # para gravação em .pdf\n",
        "graph"
      ],
      "metadata": {
        "colab": {
          "base_uri": "https://localhost:8080/",
          "height": 1000
        },
        "id": "3RGrZuRKxP7H",
        "outputId": "9d0b3b28-776a-4109-aa31-634b68096fed"
      },
      "execution_count": null,
      "outputs": [
        {
          "output_type": "execute_result",
          "data": {
            "image/svg+xml": "<?xml version=\"1.0\" encoding=\"UTF-8\" standalone=\"no\"?>\n<!DOCTYPE svg PUBLIC \"-//W3C//DTD SVG 1.1//EN\"\n \"http://www.w3.org/Graphics/SVG/1.1/DTD/svg11.dtd\">\n<!-- Generated by graphviz version 2.43.0 (0)\n -->\n<!-- Title: Tree Pages: 1 -->\n<svg width=\"3341pt\" height=\"1309pt\"\n viewBox=\"0.00 0.00 3340.50 1309.00\" xmlns=\"http://www.w3.org/2000/svg\" xmlns:xlink=\"http://www.w3.org/1999/xlink\">\n<g id=\"graph0\" class=\"graph\" transform=\"scale(1 1) rotate(0) translate(4 1305)\">\n<title>Tree</title>\n<polygon fill=\"white\" stroke=\"transparent\" points=\"-4,4 -4,-1305 3336.5,-1305 3336.5,4 -4,4\"/>\n<!-- 0 -->\n<g id=\"node1\" class=\"node\">\n<title>0</title>\n<path fill=\"#fffefe\" stroke=\"black\" d=\"M1736,-1301C1736,-1301 1596,-1301 1596,-1301 1590,-1301 1584,-1295 1584,-1289 1584,-1289 1584,-1245 1584,-1245 1584,-1239 1590,-1233 1596,-1233 1596,-1233 1736,-1233 1736,-1233 1742,-1233 1748,-1239 1748,-1245 1748,-1245 1748,-1289 1748,-1289 1748,-1295 1742,-1301 1736,-1301\"/>\n<text text-anchor=\"middle\" x=\"1666\" y=\"-1285.8\" font-family=\"Helvetica,sans-Serif\" font-size=\"14.00\">blood_pressure &lt;= &#45;0.83</text>\n<text text-anchor=\"middle\" x=\"1666\" y=\"-1270.8\" font-family=\"Helvetica,sans-Serif\" font-size=\"14.00\">880</text>\n<text text-anchor=\"middle\" x=\"1666\" y=\"-1255.8\" font-family=\"Helvetica,sans-Serif\" font-size=\"14.00\">[299, 286, 295]</text>\n<text text-anchor=\"middle\" x=\"1666\" y=\"-1240.8\" font-family=\"Helvetica,sans-Serif\" font-size=\"14.00\">0</text>\n</g>\n<!-- 1 -->\n<g id=\"node2\" class=\"node\">\n<title>1</title>\n<path fill=\"#39e581\" stroke=\"black\" d=\"M1626.5,-1189.5C1626.5,-1189.5 1573.5,-1189.5 1573.5,-1189.5 1567.5,-1189.5 1561.5,-1183.5 1561.5,-1177.5 1561.5,-1177.5 1561.5,-1148.5 1561.5,-1148.5 1561.5,-1142.5 1567.5,-1136.5 1573.5,-1136.5 1573.5,-1136.5 1626.5,-1136.5 1626.5,-1136.5 1632.5,-1136.5 1638.5,-1142.5 1638.5,-1148.5 1638.5,-1148.5 1638.5,-1177.5 1638.5,-1177.5 1638.5,-1183.5 1632.5,-1189.5 1626.5,-1189.5\"/>\n<text text-anchor=\"middle\" x=\"1600\" y=\"-1174.3\" font-family=\"Helvetica,sans-Serif\" font-size=\"14.00\">237</text>\n<text text-anchor=\"middle\" x=\"1600\" y=\"-1159.3\" font-family=\"Helvetica,sans-Serif\" font-size=\"14.00\">[0, 237, 0]</text>\n<text text-anchor=\"middle\" x=\"1600\" y=\"-1144.3\" font-family=\"Helvetica,sans-Serif\" font-size=\"14.00\">1</text>\n</g>\n<!-- 0&#45;&gt;1 -->\n<g id=\"edge1\" class=\"edge\">\n<title>0&#45;&gt;1</title>\n<path fill=\"none\" stroke=\"black\" d=\"M1644.57,-1232.88C1637.38,-1221.78 1629.36,-1209.37 1622.12,-1198.18\"/>\n<polygon fill=\"black\" stroke=\"black\" points=\"1624.88,-1196.01 1616.51,-1189.52 1619.01,-1199.82 1624.88,-1196.01\"/>\n<text text-anchor=\"middle\" x=\"1611.27\" y=\"-1210.26\" font-family=\"Helvetica,sans-Serif\" font-size=\"14.00\">True</text>\n</g>\n<!-- 2 -->\n<g id=\"node3\" class=\"node\">\n<title>2</title>\n<path fill=\"#fffefd\" stroke=\"black\" d=\"M1797,-1197C1797,-1197 1669,-1197 1669,-1197 1663,-1197 1657,-1191 1657,-1185 1657,-1185 1657,-1141 1657,-1141 1657,-1135 1663,-1129 1669,-1129 1669,-1129 1797,-1129 1797,-1129 1803,-1129 1809,-1135 1809,-1141 1809,-1141 1809,-1185 1809,-1185 1809,-1191 1803,-1197 1797,-1197\"/>\n<text text-anchor=\"middle\" x=\"1733\" y=\"-1181.8\" font-family=\"Helvetica,sans-Serif\" font-size=\"14.00\">self_esteem &lt;= &#45;0.256</text>\n<text text-anchor=\"middle\" x=\"1733\" y=\"-1166.8\" font-family=\"Helvetica,sans-Serif\" font-size=\"14.00\">643</text>\n<text text-anchor=\"middle\" x=\"1733\" y=\"-1151.8\" font-family=\"Helvetica,sans-Serif\" font-size=\"14.00\">[299, 49, 295]</text>\n<text text-anchor=\"middle\" x=\"1733\" y=\"-1136.8\" font-family=\"Helvetica,sans-Serif\" font-size=\"14.00\">0</text>\n</g>\n<!-- 0&#45;&gt;2 -->\n<g id=\"edge2\" class=\"edge\">\n<title>0&#45;&gt;2</title>\n<path fill=\"none\" stroke=\"black\" d=\"M1687.75,-1232.88C1693.43,-1224.24 1699.62,-1214.82 1705.55,-1205.79\"/>\n<polygon fill=\"black\" stroke=\"black\" points=\"1708.56,-1207.58 1711.13,-1197.3 1702.71,-1203.74 1708.56,-1207.58\"/>\n<text text-anchor=\"middle\" x=\"1716.2\" y=\"-1218.08\" font-family=\"Helvetica,sans-Serif\" font-size=\"14.00\">False</text>\n</g>\n<!-- 3 -->\n<g id=\"node4\" class=\"node\">\n<title>3</title>\n<path fill=\"#965ae9\" stroke=\"black\" d=\"M1680,-1093C1680,-1093 1584,-1093 1584,-1093 1578,-1093 1572,-1087 1572,-1081 1572,-1081 1572,-1037 1572,-1037 1572,-1031 1578,-1025 1584,-1025 1584,-1025 1680,-1025 1680,-1025 1686,-1025 1692,-1031 1692,-1037 1692,-1037 1692,-1081 1692,-1081 1692,-1087 1686,-1093 1680,-1093\"/>\n<text text-anchor=\"middle\" x=\"1632\" y=\"-1077.8\" font-family=\"Helvetica,sans-Serif\" font-size=\"14.00\">bullying &lt;= 0.564</text>\n<text text-anchor=\"middle\" x=\"1632\" y=\"-1062.8\" font-family=\"Helvetica,sans-Serif\" font-size=\"14.00\">324</text>\n<text text-anchor=\"middle\" x=\"1632\" y=\"-1047.8\" font-family=\"Helvetica,sans-Serif\" font-size=\"14.00\">[28, 22, 274]</text>\n<text text-anchor=\"middle\" x=\"1632\" y=\"-1032.8\" font-family=\"Helvetica,sans-Serif\" font-size=\"14.00\">2</text>\n</g>\n<!-- 2&#45;&gt;3 -->\n<g id=\"edge3\" class=\"edge\">\n<title>2&#45;&gt;3</title>\n<path fill=\"none\" stroke=\"black\" d=\"M1700.21,-1128.88C1691.3,-1119.89 1681.55,-1110.04 1672.28,-1100.68\"/>\n<polygon fill=\"black\" stroke=\"black\" points=\"1674.5,-1097.94 1664.97,-1093.3 1669.52,-1102.87 1674.5,-1097.94\"/>\n</g>\n<!-- 60 -->\n<g id=\"node61\" class=\"node\">\n<title>60</title>\n<path fill=\"#e9965a\" stroke=\"black\" d=\"M1876.5,-1093C1876.5,-1093 1733.5,-1093 1733.5,-1093 1727.5,-1093 1721.5,-1087 1721.5,-1081 1721.5,-1081 1721.5,-1037 1721.5,-1037 1721.5,-1031 1727.5,-1025 1733.5,-1025 1733.5,-1025 1876.5,-1025 1876.5,-1025 1882.5,-1025 1888.5,-1031 1888.5,-1037 1888.5,-1037 1888.5,-1081 1888.5,-1081 1888.5,-1087 1882.5,-1093 1876.5,-1093\"/>\n<text text-anchor=\"middle\" x=\"1805\" y=\"-1077.8\" font-family=\"Helvetica,sans-Serif\" font-size=\"14.00\">blood_pressure &lt;= 0.371</text>\n<text text-anchor=\"middle\" x=\"1805\" y=\"-1062.8\" font-family=\"Helvetica,sans-Serif\" font-size=\"14.00\">319</text>\n<text text-anchor=\"middle\" x=\"1805\" y=\"-1047.8\" font-family=\"Helvetica,sans-Serif\" font-size=\"14.00\">[271, 27, 21]</text>\n<text text-anchor=\"middle\" x=\"1805\" y=\"-1032.8\" font-family=\"Helvetica,sans-Serif\" font-size=\"14.00\">0</text>\n</g>\n<!-- 2&#45;&gt;60 -->\n<g id=\"edge60\" class=\"edge\">\n<title>2&#45;&gt;60</title>\n<path fill=\"none\" stroke=\"black\" d=\"M1756.38,-1128.88C1762.54,-1120.15 1769.26,-1110.62 1775.7,-1101.51\"/>\n<polygon fill=\"black\" stroke=\"black\" points=\"1778.59,-1103.49 1781.49,-1093.3 1772.87,-1099.45 1778.59,-1103.49\"/>\n</g>\n<!-- 4 -->\n<g id=\"node5\" class=\"node\">\n<title>4</title>\n<path fill=\"#ebe0fb\" stroke=\"black\" d=\"M1216,-989C1216,-989 1074,-989 1074,-989 1068,-989 1062,-983 1062,-977 1062,-977 1062,-933 1062,-933 1062,-927 1068,-921 1074,-921 1074,-921 1216,-921 1216,-921 1222,-921 1228,-927 1228,-933 1228,-933 1228,-977 1228,-977 1228,-983 1222,-989 1216,-989\"/>\n<text text-anchor=\"middle\" x=\"1145\" y=\"-973.8\" font-family=\"Helvetica,sans-Serif\" font-size=\"14.00\">social_support &lt;= &#45;1.305</text>\n<text text-anchor=\"middle\" x=\"1145\" y=\"-958.8\" font-family=\"Helvetica,sans-Serif\" font-size=\"14.00\">64</text>\n<text text-anchor=\"middle\" x=\"1145\" y=\"-943.8\" font-family=\"Helvetica,sans-Serif\" font-size=\"14.00\">[20, 17, 27]</text>\n<text text-anchor=\"middle\" x=\"1145\" y=\"-928.8\" font-family=\"Helvetica,sans-Serif\" font-size=\"14.00\">2</text>\n</g>\n<!-- 3&#45;&gt;4 -->\n<g id=\"edge4\" class=\"edge\">\n<title>3&#45;&gt;4</title>\n<path fill=\"none\" stroke=\"black\" d=\"M1571.8,-1045.39C1488.27,-1027.9 1336.43,-996.09 1238.2,-975.52\"/>\n<polygon fill=\"black\" stroke=\"black\" points=\"1238.78,-972.07 1228.27,-973.44 1237.34,-978.92 1238.78,-972.07\"/>\n</g>\n<!-- 47 -->\n<g id=\"node48\" class=\"node\">\n<title>47</title>\n<path fill=\"#8843e6\" stroke=\"black\" d=\"M1695,-989C1695,-989 1569,-989 1569,-989 1563,-989 1557,-983 1557,-977 1557,-977 1557,-933 1557,-933 1557,-927 1563,-921 1569,-921 1569,-921 1695,-921 1695,-921 1701,-921 1707,-927 1707,-933 1707,-933 1707,-977 1707,-977 1707,-983 1701,-989 1695,-989\"/>\n<text text-anchor=\"middle\" x=\"1632\" y=\"-973.8\" font-family=\"Helvetica,sans-Serif\" font-size=\"14.00\">basic_needs &lt;= 0.484</text>\n<text text-anchor=\"middle\" x=\"1632\" y=\"-958.8\" font-family=\"Helvetica,sans-Serif\" font-size=\"14.00\">260</text>\n<text text-anchor=\"middle\" x=\"1632\" y=\"-943.8\" font-family=\"Helvetica,sans-Serif\" font-size=\"14.00\">[8, 5, 247]</text>\n<text text-anchor=\"middle\" x=\"1632\" y=\"-928.8\" font-family=\"Helvetica,sans-Serif\" font-size=\"14.00\">2</text>\n</g>\n<!-- 3&#45;&gt;47 -->\n<g id=\"edge47\" class=\"edge\">\n<title>3&#45;&gt;47</title>\n<path fill=\"none\" stroke=\"black\" d=\"M1632,-1024.88C1632,-1016.78 1632,-1007.98 1632,-999.47\"/>\n<polygon fill=\"black\" stroke=\"black\" points=\"1635.5,-999.3 1632,-989.3 1628.5,-999.3 1635.5,-999.3\"/>\n</g>\n<!-- 5 -->\n<g id=\"node6\" class=\"node\">\n<title>5</title>\n<path fill=\"#bdf6d5\" stroke=\"black\" d=\"M584,-885C584,-885 456,-885 456,-885 450,-885 444,-879 444,-873 444,-873 444,-829 444,-829 444,-823 450,-817 456,-817 456,-817 584,-817 584,-817 590,-817 596,-823 596,-829 596,-829 596,-873 596,-873 596,-879 590,-885 584,-885\"/>\n<text text-anchor=\"middle\" x=\"520\" y=\"-869.8\" font-family=\"Helvetica,sans-Serif\" font-size=\"14.00\">anxiety_level &lt;= 0.239</text>\n<text text-anchor=\"middle\" x=\"520\" y=\"-854.8\" font-family=\"Helvetica,sans-Serif\" font-size=\"14.00\">24</text>\n<text text-anchor=\"middle\" x=\"520\" y=\"-839.8\" font-family=\"Helvetica,sans-Serif\" font-size=\"14.00\">[6, 12, 6]</text>\n<text text-anchor=\"middle\" x=\"520\" y=\"-824.8\" font-family=\"Helvetica,sans-Serif\" font-size=\"14.00\">1</text>\n</g>\n<!-- 4&#45;&gt;5 -->\n<g id=\"edge5\" class=\"edge\">\n<title>4&#45;&gt;5</title>\n<path fill=\"none\" stroke=\"black\" d=\"M1061.68,-940.4C943.05,-921.04 726.53,-885.71 606.29,-866.08\"/>\n<polygon fill=\"black\" stroke=\"black\" points=\"606.81,-862.62 596.38,-864.47 605.69,-869.53 606.81,-862.62\"/>\n</g>\n<!-- 22 -->\n<g id=\"node23\" class=\"node\">\n<title>22</title>\n<path fill=\"#ddcaf8\" stroke=\"black\" d=\"M1222,-885C1222,-885 1068,-885 1068,-885 1062,-885 1056,-879 1056,-873 1056,-873 1056,-829 1056,-829 1056,-823 1062,-817 1068,-817 1068,-817 1222,-817 1222,-817 1228,-817 1234,-823 1234,-829 1234,-829 1234,-873 1234,-873 1234,-879 1228,-885 1222,-885\"/>\n<text text-anchor=\"middle\" x=\"1145\" y=\"-869.8\" font-family=\"Helvetica,sans-Serif\" font-size=\"14.00\">living_conditions &lt;= &#45;0.904</text>\n<text text-anchor=\"middle\" x=\"1145\" y=\"-854.8\" font-family=\"Helvetica,sans-Serif\" font-size=\"14.00\">40</text>\n<text text-anchor=\"middle\" x=\"1145\" y=\"-839.8\" font-family=\"Helvetica,sans-Serif\" font-size=\"14.00\">[14, 5, 21]</text>\n<text text-anchor=\"middle\" x=\"1145\" y=\"-824.8\" font-family=\"Helvetica,sans-Serif\" font-size=\"14.00\">2</text>\n</g>\n<!-- 4&#45;&gt;22 -->\n<g id=\"edge22\" class=\"edge\">\n<title>4&#45;&gt;22</title>\n<path fill=\"none\" stroke=\"black\" d=\"M1145,-920.88C1145,-912.78 1145,-903.98 1145,-895.47\"/>\n<polygon fill=\"black\" stroke=\"black\" points=\"1148.5,-895.3 1145,-885.3 1141.5,-895.3 1148.5,-895.3\"/>\n</g>\n<!-- 6 -->\n<g id=\"node7\" class=\"node\">\n<title>6</title>\n<path fill=\"#c09cf2\" stroke=\"black\" d=\"M370,-781C370,-781 206,-781 206,-781 200,-781 194,-775 194,-769 194,-769 194,-725 194,-725 194,-719 200,-713 206,-713 206,-713 370,-713 370,-713 376,-713 382,-719 382,-725 382,-725 382,-769 382,-769 382,-775 376,-781 370,-781\"/>\n<text text-anchor=\"middle\" x=\"288\" y=\"-765.8\" font-family=\"Helvetica,sans-Serif\" font-size=\"14.00\">breathing_problem &lt;= 1.226</text>\n<text text-anchor=\"middle\" x=\"288\" y=\"-750.8\" font-family=\"Helvetica,sans-Serif\" font-size=\"14.00\">10</text>\n<text text-anchor=\"middle\" x=\"288\" y=\"-735.8\" font-family=\"Helvetica,sans-Serif\" font-size=\"14.00\">[2, 2, 6]</text>\n<text text-anchor=\"middle\" x=\"288\" y=\"-720.8\" font-family=\"Helvetica,sans-Serif\" font-size=\"14.00\">2</text>\n</g>\n<!-- 5&#45;&gt;6 -->\n<g id=\"edge6\" class=\"edge\">\n<title>5&#45;&gt;6</title>\n<path fill=\"none\" stroke=\"black\" d=\"M444.68,-816.88C421.67,-806.77 396.21,-795.58 372.63,-785.21\"/>\n<polygon fill=\"black\" stroke=\"black\" points=\"373.91,-781.95 363.34,-781.12 371.09,-788.35 373.91,-781.95\"/>\n</g>\n<!-- 13 -->\n<g id=\"node14\" class=\"node\">\n<title>13</title>\n<path fill=\"#88efb3\" stroke=\"black\" d=\"M618.5,-781C618.5,-781 421.5,-781 421.5,-781 415.5,-781 409.5,-775 409.5,-769 409.5,-769 409.5,-725 409.5,-725 409.5,-719 415.5,-713 421.5,-713 421.5,-713 618.5,-713 618.5,-713 624.5,-713 630.5,-719 630.5,-725 630.5,-725 630.5,-769 630.5,-769 630.5,-775 624.5,-781 618.5,-781\"/>\n<text text-anchor=\"middle\" x=\"520\" y=\"-765.8\" font-family=\"Helvetica,sans-Serif\" font-size=\"14.00\">future_career_concerns &lt;= &#45;0.758</text>\n<text text-anchor=\"middle\" x=\"520\" y=\"-750.8\" font-family=\"Helvetica,sans-Serif\" font-size=\"14.00\">14</text>\n<text text-anchor=\"middle\" x=\"520\" y=\"-735.8\" font-family=\"Helvetica,sans-Serif\" font-size=\"14.00\">[4, 10, 0]</text>\n<text text-anchor=\"middle\" x=\"520\" y=\"-720.8\" font-family=\"Helvetica,sans-Serif\" font-size=\"14.00\">1</text>\n</g>\n<!-- 5&#45;&gt;13 -->\n<g id=\"edge13\" class=\"edge\">\n<title>5&#45;&gt;13</title>\n<path fill=\"none\" stroke=\"black\" d=\"M520,-816.88C520,-808.78 520,-799.98 520,-791.47\"/>\n<polygon fill=\"black\" stroke=\"black\" points=\"523.5,-791.3 520,-781.3 516.5,-791.3 523.5,-791.3\"/>\n</g>\n<!-- 7 -->\n<g id=\"node8\" class=\"node\">\n<title>7</title>\n<path fill=\"#ab7bee\" stroke=\"black\" d=\"M226.5,-677C226.5,-677 95.5,-677 95.5,-677 89.5,-677 83.5,-671 83.5,-665 83.5,-665 83.5,-621 83.5,-621 83.5,-615 89.5,-609 95.5,-609 95.5,-609 226.5,-609 226.5,-609 232.5,-609 238.5,-615 238.5,-621 238.5,-621 238.5,-665 238.5,-665 238.5,-671 232.5,-677 226.5,-677\"/>\n<text text-anchor=\"middle\" x=\"161\" y=\"-661.8\" font-family=\"Helvetica,sans-Serif\" font-size=\"14.00\">basic_needs &lt;= &#45;0.208</text>\n<text text-anchor=\"middle\" x=\"161\" y=\"-646.8\" font-family=\"Helvetica,sans-Serif\" font-size=\"14.00\">8</text>\n<text text-anchor=\"middle\" x=\"161\" y=\"-631.8\" font-family=\"Helvetica,sans-Serif\" font-size=\"14.00\">[0, 2, 6]</text>\n<text text-anchor=\"middle\" x=\"161\" y=\"-616.8\" font-family=\"Helvetica,sans-Serif\" font-size=\"14.00\">2</text>\n</g>\n<!-- 6&#45;&gt;7 -->\n<g id=\"edge7\" class=\"edge\">\n<title>6&#45;&gt;7</title>\n<path fill=\"none\" stroke=\"black\" d=\"M246.77,-712.88C235.12,-703.53 222.33,-693.26 210.27,-683.57\"/>\n<polygon fill=\"black\" stroke=\"black\" points=\"212.45,-680.83 202.46,-677.3 208.07,-686.29 212.45,-680.83\"/>\n</g>\n<!-- 12 -->\n<g id=\"node13\" class=\"node\">\n<title>12</title>\n<path fill=\"#e58139\" stroke=\"black\" d=\"M307,-669.5C307,-669.5 269,-669.5 269,-669.5 263,-669.5 257,-663.5 257,-657.5 257,-657.5 257,-628.5 257,-628.5 257,-622.5 263,-616.5 269,-616.5 269,-616.5 307,-616.5 307,-616.5 313,-616.5 319,-622.5 319,-628.5 319,-628.5 319,-657.5 319,-657.5 319,-663.5 313,-669.5 307,-669.5\"/>\n<text text-anchor=\"middle\" x=\"288\" y=\"-654.3\" font-family=\"Helvetica,sans-Serif\" font-size=\"14.00\">2</text>\n<text text-anchor=\"middle\" x=\"288\" y=\"-639.3\" font-family=\"Helvetica,sans-Serif\" font-size=\"14.00\">[2, 0, 0]</text>\n<text text-anchor=\"middle\" x=\"288\" y=\"-624.3\" font-family=\"Helvetica,sans-Serif\" font-size=\"14.00\">0</text>\n</g>\n<!-- 6&#45;&gt;12 -->\n<g id=\"edge12\" class=\"edge\">\n<title>6&#45;&gt;12</title>\n<path fill=\"none\" stroke=\"black\" d=\"M288,-712.88C288,-702.33 288,-690.6 288,-679.85\"/>\n<polygon fill=\"black\" stroke=\"black\" points=\"291.5,-679.52 288,-669.52 284.5,-679.52 291.5,-679.52\"/>\n</g>\n<!-- 8 -->\n<g id=\"node9\" class=\"node\">\n<title>8</title>\n<path fill=\"#8139e5\" stroke=\"black\" d=\"M50,-565.5C50,-565.5 12,-565.5 12,-565.5 6,-565.5 0,-559.5 0,-553.5 0,-553.5 0,-524.5 0,-524.5 0,-518.5 6,-512.5 12,-512.5 12,-512.5 50,-512.5 50,-512.5 56,-512.5 62,-518.5 62,-524.5 62,-524.5 62,-553.5 62,-553.5 62,-559.5 56,-565.5 50,-565.5\"/>\n<text text-anchor=\"middle\" x=\"31\" y=\"-550.3\" font-family=\"Helvetica,sans-Serif\" font-size=\"14.00\">5</text>\n<text text-anchor=\"middle\" x=\"31\" y=\"-535.3\" font-family=\"Helvetica,sans-Serif\" font-size=\"14.00\">[0, 0, 5]</text>\n<text text-anchor=\"middle\" x=\"31\" y=\"-520.3\" font-family=\"Helvetica,sans-Serif\" font-size=\"14.00\">2</text>\n</g>\n<!-- 7&#45;&gt;8 -->\n<g id=\"edge8\" class=\"edge\">\n<title>7&#45;&gt;8</title>\n<path fill=\"none\" stroke=\"black\" d=\"M117.27,-608.97C102.49,-597.67 85.95,-584.89 71,-573 70.63,-572.71 70.26,-572.41 69.89,-572.11\"/>\n<polygon fill=\"black\" stroke=\"black\" points=\"71.9,-569.24 61.92,-565.69 67.51,-574.69 71.9,-569.24\"/>\n</g>\n<!-- 9 -->\n<g id=\"node10\" class=\"node\">\n<title>9</title>\n<path fill=\"#9cf2c0\" stroke=\"black\" d=\"M246,-573C246,-573 92,-573 92,-573 86,-573 80,-567 80,-561 80,-561 80,-517 80,-517 80,-511 86,-505 92,-505 92,-505 246,-505 246,-505 252,-505 258,-511 258,-517 258,-517 258,-561 258,-561 258,-567 252,-573 246,-573\"/>\n<text text-anchor=\"middle\" x=\"169\" y=\"-557.8\" font-family=\"Helvetica,sans-Serif\" font-size=\"14.00\">living_conditions &lt;= &#45;0.904</text>\n<text text-anchor=\"middle\" x=\"169\" y=\"-542.8\" font-family=\"Helvetica,sans-Serif\" font-size=\"14.00\">3</text>\n<text text-anchor=\"middle\" x=\"169\" y=\"-527.8\" font-family=\"Helvetica,sans-Serif\" font-size=\"14.00\">[0, 2, 1]</text>\n<text text-anchor=\"middle\" x=\"169\" y=\"-512.8\" font-family=\"Helvetica,sans-Serif\" font-size=\"14.00\">1</text>\n</g>\n<!-- 7&#45;&gt;9 -->\n<g id=\"edge9\" class=\"edge\">\n<title>7&#45;&gt;9</title>\n<path fill=\"none\" stroke=\"black\" d=\"M163.6,-608.88C164.23,-600.78 164.92,-591.98 165.59,-583.47\"/>\n<polygon fill=\"black\" stroke=\"black\" points=\"169.1,-583.54 166.39,-573.3 162.12,-583 169.1,-583.54\"/>\n</g>\n<!-- 10 -->\n<g id=\"node11\" class=\"node\">\n<title>10</title>\n<path fill=\"#8139e5\" stroke=\"black\" d=\"M148,-461.5C148,-461.5 110,-461.5 110,-461.5 104,-461.5 98,-455.5 98,-449.5 98,-449.5 98,-420.5 98,-420.5 98,-414.5 104,-408.5 110,-408.5 110,-408.5 148,-408.5 148,-408.5 154,-408.5 160,-414.5 160,-420.5 160,-420.5 160,-449.5 160,-449.5 160,-455.5 154,-461.5 148,-461.5\"/>\n<text text-anchor=\"middle\" x=\"129\" y=\"-446.3\" font-family=\"Helvetica,sans-Serif\" font-size=\"14.00\">1</text>\n<text text-anchor=\"middle\" x=\"129\" y=\"-431.3\" font-family=\"Helvetica,sans-Serif\" font-size=\"14.00\">[0, 0, 1]</text>\n<text text-anchor=\"middle\" x=\"129\" y=\"-416.3\" font-family=\"Helvetica,sans-Serif\" font-size=\"14.00\">2</text>\n</g>\n<!-- 9&#45;&gt;10 -->\n<g id=\"edge10\" class=\"edge\">\n<title>9&#45;&gt;10</title>\n<path fill=\"none\" stroke=\"black\" d=\"M156.01,-504.88C151.74,-494 146.99,-481.86 142.67,-470.85\"/>\n<polygon fill=\"black\" stroke=\"black\" points=\"145.92,-469.55 139.01,-461.52 139.4,-472.11 145.92,-469.55\"/>\n</g>\n<!-- 11 -->\n<g id=\"node12\" class=\"node\">\n<title>11</title>\n<path fill=\"#39e581\" stroke=\"black\" d=\"M228,-461.5C228,-461.5 190,-461.5 190,-461.5 184,-461.5 178,-455.5 178,-449.5 178,-449.5 178,-420.5 178,-420.5 178,-414.5 184,-408.5 190,-408.5 190,-408.5 228,-408.5 228,-408.5 234,-408.5 240,-414.5 240,-420.5 240,-420.5 240,-449.5 240,-449.5 240,-455.5 234,-461.5 228,-461.5\"/>\n<text text-anchor=\"middle\" x=\"209\" y=\"-446.3\" font-family=\"Helvetica,sans-Serif\" font-size=\"14.00\">2</text>\n<text text-anchor=\"middle\" x=\"209\" y=\"-431.3\" font-family=\"Helvetica,sans-Serif\" font-size=\"14.00\">[0, 2, 0]</text>\n<text text-anchor=\"middle\" x=\"209\" y=\"-416.3\" font-family=\"Helvetica,sans-Serif\" font-size=\"14.00\">1</text>\n</g>\n<!-- 9&#45;&gt;11 -->\n<g id=\"edge11\" class=\"edge\">\n<title>9&#45;&gt;11</title>\n<path fill=\"none\" stroke=\"black\" d=\"M181.99,-504.88C186.26,-494 191.01,-481.86 195.33,-470.85\"/>\n<polygon fill=\"black\" stroke=\"black\" points=\"198.6,-472.11 198.99,-461.52 192.08,-469.55 198.6,-472.11\"/>\n</g>\n<!-- 14 -->\n<g id=\"node15\" class=\"node\">\n<title>14</title>\n<path fill=\"#f2c09c\" stroke=\"black\" d=\"M440.5,-677C440.5,-677 349.5,-677 349.5,-677 343.5,-677 337.5,-671 337.5,-665 337.5,-665 337.5,-621 337.5,-621 337.5,-615 343.5,-609 349.5,-609 349.5,-609 440.5,-609 440.5,-609 446.5,-609 452.5,-615 452.5,-621 452.5,-621 452.5,-665 452.5,-665 452.5,-671 446.5,-677 440.5,-677\"/>\n<text text-anchor=\"middle\" x=\"395\" y=\"-661.8\" font-family=\"Helvetica,sans-Serif\" font-size=\"14.00\">safety &lt;= &#45;1.591</text>\n<text text-anchor=\"middle\" x=\"395\" y=\"-646.8\" font-family=\"Helvetica,sans-Serif\" font-size=\"14.00\">3</text>\n<text text-anchor=\"middle\" x=\"395\" y=\"-631.8\" font-family=\"Helvetica,sans-Serif\" font-size=\"14.00\">[2, 1, 0]</text>\n<text text-anchor=\"middle\" x=\"395\" y=\"-616.8\" font-family=\"Helvetica,sans-Serif\" font-size=\"14.00\">0</text>\n</g>\n<!-- 13&#45;&gt;14 -->\n<g id=\"edge14\" class=\"edge\">\n<title>13&#45;&gt;14</title>\n<path fill=\"none\" stroke=\"black\" d=\"M479.42,-712.88C468.06,-703.62 455.61,-693.45 443.83,-683.85\"/>\n<polygon fill=\"black\" stroke=\"black\" points=\"445.77,-680.91 435.81,-677.3 441.34,-686.33 445.77,-680.91\"/>\n</g>\n<!-- 17 -->\n<g id=\"node18\" class=\"node\">\n<title>17</title>\n<path fill=\"#65eb9d\" stroke=\"black\" d=\"M573.5,-677C573.5,-677 482.5,-677 482.5,-677 476.5,-677 470.5,-671 470.5,-665 470.5,-665 470.5,-621 470.5,-621 470.5,-615 476.5,-609 482.5,-609 482.5,-609 573.5,-609 573.5,-609 579.5,-609 585.5,-615 585.5,-621 585.5,-621 585.5,-665 585.5,-665 585.5,-671 579.5,-677 573.5,-677\"/>\n<text text-anchor=\"middle\" x=\"528\" y=\"-661.8\" font-family=\"Helvetica,sans-Serif\" font-size=\"14.00\">safety &lt;= &#45;1.591</text>\n<text text-anchor=\"middle\" x=\"528\" y=\"-646.8\" font-family=\"Helvetica,sans-Serif\" font-size=\"14.00\">11</text>\n<text text-anchor=\"middle\" x=\"528\" y=\"-631.8\" font-family=\"Helvetica,sans-Serif\" font-size=\"14.00\">[2, 9, 0]</text>\n<text text-anchor=\"middle\" x=\"528\" y=\"-616.8\" font-family=\"Helvetica,sans-Serif\" font-size=\"14.00\">1</text>\n</g>\n<!-- 13&#45;&gt;17 -->\n<g id=\"edge17\" class=\"edge\">\n<title>13&#45;&gt;17</title>\n<path fill=\"none\" stroke=\"black\" d=\"M522.6,-712.88C523.23,-704.78 523.92,-695.98 524.59,-687.47\"/>\n<polygon fill=\"black\" stroke=\"black\" points=\"528.1,-687.54 525.39,-677.3 521.12,-687 528.1,-687.54\"/>\n</g>\n<!-- 15 -->\n<g id=\"node16\" class=\"node\">\n<title>15</title>\n<path fill=\"#39e581\" stroke=\"black\" d=\"M334,-565.5C334,-565.5 296,-565.5 296,-565.5 290,-565.5 284,-559.5 284,-553.5 284,-553.5 284,-524.5 284,-524.5 284,-518.5 290,-512.5 296,-512.5 296,-512.5 334,-512.5 334,-512.5 340,-512.5 346,-518.5 346,-524.5 346,-524.5 346,-553.5 346,-553.5 346,-559.5 340,-565.5 334,-565.5\"/>\n<text text-anchor=\"middle\" x=\"315\" y=\"-550.3\" font-family=\"Helvetica,sans-Serif\" font-size=\"14.00\">1</text>\n<text text-anchor=\"middle\" x=\"315\" y=\"-535.3\" font-family=\"Helvetica,sans-Serif\" font-size=\"14.00\">[0, 1, 0]</text>\n<text text-anchor=\"middle\" x=\"315\" y=\"-520.3\" font-family=\"Helvetica,sans-Serif\" font-size=\"14.00\">1</text>\n</g>\n<!-- 14&#45;&gt;15 -->\n<g id=\"edge15\" class=\"edge\">\n<title>14&#45;&gt;15</title>\n<path fill=\"none\" stroke=\"black\" d=\"M369.03,-608.88C360.14,-597.56 350.2,-584.88 341.29,-573.52\"/>\n<polygon fill=\"black\" stroke=\"black\" points=\"343.94,-571.23 335.02,-565.52 338.43,-575.55 343.94,-571.23\"/>\n</g>\n<!-- 16 -->\n<g id=\"node17\" class=\"node\">\n<title>16</title>\n<path fill=\"#e58139\" stroke=\"black\" d=\"M414,-565.5C414,-565.5 376,-565.5 376,-565.5 370,-565.5 364,-559.5 364,-553.5 364,-553.5 364,-524.5 364,-524.5 364,-518.5 370,-512.5 376,-512.5 376,-512.5 414,-512.5 414,-512.5 420,-512.5 426,-518.5 426,-524.5 426,-524.5 426,-553.5 426,-553.5 426,-559.5 420,-565.5 414,-565.5\"/>\n<text text-anchor=\"middle\" x=\"395\" y=\"-550.3\" font-family=\"Helvetica,sans-Serif\" font-size=\"14.00\">2</text>\n<text text-anchor=\"middle\" x=\"395\" y=\"-535.3\" font-family=\"Helvetica,sans-Serif\" font-size=\"14.00\">[2, 0, 0]</text>\n<text text-anchor=\"middle\" x=\"395\" y=\"-520.3\" font-family=\"Helvetica,sans-Serif\" font-size=\"14.00\">0</text>\n</g>\n<!-- 14&#45;&gt;16 -->\n<g id=\"edge16\" class=\"edge\">\n<title>14&#45;&gt;16</title>\n<path fill=\"none\" stroke=\"black\" d=\"M395,-608.88C395,-598.33 395,-586.6 395,-575.85\"/>\n<polygon fill=\"black\" stroke=\"black\" points=\"398.5,-575.52 395,-565.52 391.5,-575.52 398.5,-575.52\"/>\n</g>\n<!-- 18 -->\n<g id=\"node19\" class=\"node\">\n<title>18</title>\n<path fill=\"#e58139\" stroke=\"black\" d=\"M494,-565.5C494,-565.5 456,-565.5 456,-565.5 450,-565.5 444,-559.5 444,-553.5 444,-553.5 444,-524.5 444,-524.5 444,-518.5 450,-512.5 456,-512.5 456,-512.5 494,-512.5 494,-512.5 500,-512.5 506,-518.5 506,-524.5 506,-524.5 506,-553.5 506,-553.5 506,-559.5 500,-565.5 494,-565.5\"/>\n<text text-anchor=\"middle\" x=\"475\" y=\"-550.3\" font-family=\"Helvetica,sans-Serif\" font-size=\"14.00\">1</text>\n<text text-anchor=\"middle\" x=\"475\" y=\"-535.3\" font-family=\"Helvetica,sans-Serif\" font-size=\"14.00\">[1, 0, 0]</text>\n<text text-anchor=\"middle\" x=\"475\" y=\"-520.3\" font-family=\"Helvetica,sans-Serif\" font-size=\"14.00\">0</text>\n</g>\n<!-- 17&#45;&gt;18 -->\n<g id=\"edge18\" class=\"edge\">\n<title>17&#45;&gt;18</title>\n<path fill=\"none\" stroke=\"black\" d=\"M510.79,-608.88C505.08,-597.89 498.7,-585.62 492.94,-574.52\"/>\n<polygon fill=\"black\" stroke=\"black\" points=\"495.98,-572.78 488.26,-565.52 489.77,-576.01 495.98,-572.78\"/>\n</g>\n<!-- 19 -->\n<g id=\"node20\" class=\"node\">\n<title>19</title>\n<path fill=\"#4fe88f\" stroke=\"black\" d=\"M664,-573C664,-573 536,-573 536,-573 530,-573 524,-567 524,-561 524,-561 524,-517 524,-517 524,-511 530,-505 536,-505 536,-505 664,-505 664,-505 670,-505 676,-511 676,-517 676,-517 676,-561 676,-561 676,-567 670,-573 664,-573\"/>\n<text text-anchor=\"middle\" x=\"600\" y=\"-557.8\" font-family=\"Helvetica,sans-Serif\" font-size=\"14.00\">self_esteem &lt;= &#45;1.869</text>\n<text text-anchor=\"middle\" x=\"600\" y=\"-542.8\" font-family=\"Helvetica,sans-Serif\" font-size=\"14.00\">10</text>\n<text text-anchor=\"middle\" x=\"600\" y=\"-527.8\" font-family=\"Helvetica,sans-Serif\" font-size=\"14.00\">[1, 9, 0]</text>\n<text text-anchor=\"middle\" x=\"600\" y=\"-512.8\" font-family=\"Helvetica,sans-Serif\" font-size=\"14.00\">1</text>\n</g>\n<!-- 17&#45;&gt;19 -->\n<g id=\"edge19\" class=\"edge\">\n<title>17&#45;&gt;19</title>\n<path fill=\"none\" stroke=\"black\" d=\"M551.38,-608.88C557.54,-600.15 564.26,-590.62 570.7,-581.51\"/>\n<polygon fill=\"black\" stroke=\"black\" points=\"573.59,-583.49 576.49,-573.3 567.87,-579.45 573.59,-583.49\"/>\n</g>\n<!-- 20 -->\n<g id=\"node21\" class=\"node\">\n<title>20</title>\n<path fill=\"#e58139\" stroke=\"black\" d=\"M579,-461.5C579,-461.5 541,-461.5 541,-461.5 535,-461.5 529,-455.5 529,-449.5 529,-449.5 529,-420.5 529,-420.5 529,-414.5 535,-408.5 541,-408.5 541,-408.5 579,-408.5 579,-408.5 585,-408.5 591,-414.5 591,-420.5 591,-420.5 591,-449.5 591,-449.5 591,-455.5 585,-461.5 579,-461.5\"/>\n<text text-anchor=\"middle\" x=\"560\" y=\"-446.3\" font-family=\"Helvetica,sans-Serif\" font-size=\"14.00\">1</text>\n<text text-anchor=\"middle\" x=\"560\" y=\"-431.3\" font-family=\"Helvetica,sans-Serif\" font-size=\"14.00\">[1, 0, 0]</text>\n<text text-anchor=\"middle\" x=\"560\" y=\"-416.3\" font-family=\"Helvetica,sans-Serif\" font-size=\"14.00\">0</text>\n</g>\n<!-- 19&#45;&gt;20 -->\n<g id=\"edge20\" class=\"edge\">\n<title>19&#45;&gt;20</title>\n<path fill=\"none\" stroke=\"black\" d=\"M587.01,-504.88C582.74,-494 577.99,-481.86 573.67,-470.85\"/>\n<polygon fill=\"black\" stroke=\"black\" points=\"576.92,-469.55 570.01,-461.52 570.4,-472.11 576.92,-469.55\"/>\n</g>\n<!-- 21 -->\n<g id=\"node22\" class=\"node\">\n<title>21</title>\n<path fill=\"#39e581\" stroke=\"black\" d=\"M659,-461.5C659,-461.5 621,-461.5 621,-461.5 615,-461.5 609,-455.5 609,-449.5 609,-449.5 609,-420.5 609,-420.5 609,-414.5 615,-408.5 621,-408.5 621,-408.5 659,-408.5 659,-408.5 665,-408.5 671,-414.5 671,-420.5 671,-420.5 671,-449.5 671,-449.5 671,-455.5 665,-461.5 659,-461.5\"/>\n<text text-anchor=\"middle\" x=\"640\" y=\"-446.3\" font-family=\"Helvetica,sans-Serif\" font-size=\"14.00\">9</text>\n<text text-anchor=\"middle\" x=\"640\" y=\"-431.3\" font-family=\"Helvetica,sans-Serif\" font-size=\"14.00\">[0, 9, 0]</text>\n<text text-anchor=\"middle\" x=\"640\" y=\"-416.3\" font-family=\"Helvetica,sans-Serif\" font-size=\"14.00\">1</text>\n</g>\n<!-- 19&#45;&gt;21 -->\n<g id=\"edge21\" class=\"edge\">\n<title>19&#45;&gt;21</title>\n<path fill=\"none\" stroke=\"black\" d=\"M612.99,-504.88C617.26,-494 622.01,-481.86 626.33,-470.85\"/>\n<polygon fill=\"black\" stroke=\"black\" points=\"629.6,-472.11 629.99,-461.52 623.08,-469.55 629.6,-472.11\"/>\n</g>\n<!-- 23 -->\n<g id=\"node24\" class=\"node\">\n<title>23</title>\n<path fill=\"#f3c7a7\" stroke=\"black\" d=\"M1120.5,-781C1120.5,-781 999.5,-781 999.5,-781 993.5,-781 987.5,-775 987.5,-769 987.5,-769 987.5,-725 987.5,-725 987.5,-719 993.5,-713 999.5,-713 999.5,-713 1120.5,-713 1120.5,-713 1126.5,-713 1132.5,-719 1132.5,-725 1132.5,-725 1132.5,-769 1132.5,-769 1132.5,-775 1126.5,-781 1120.5,-781\"/>\n<text text-anchor=\"middle\" x=\"1060\" y=\"-765.8\" font-family=\"Helvetica,sans-Serif\" font-size=\"14.00\">anxiety_level &lt;= 0.73</text>\n<text text-anchor=\"middle\" x=\"1060\" y=\"-750.8\" font-family=\"Helvetica,sans-Serif\" font-size=\"14.00\">14</text>\n<text text-anchor=\"middle\" x=\"1060\" y=\"-735.8\" font-family=\"Helvetica,sans-Serif\" font-size=\"14.00\">[9, 0, 5]</text>\n<text text-anchor=\"middle\" x=\"1060\" y=\"-720.8\" font-family=\"Helvetica,sans-Serif\" font-size=\"14.00\">0</text>\n</g>\n<!-- 22&#45;&gt;23 -->\n<g id=\"edge23\" class=\"edge\">\n<title>22&#45;&gt;23</title>\n<path fill=\"none\" stroke=\"black\" d=\"M1117.4,-816.88C1110.05,-808.07 1102.03,-798.43 1094.36,-789.24\"/>\n<polygon fill=\"black\" stroke=\"black\" points=\"1096.84,-786.74 1087.75,-781.3 1091.46,-791.22 1096.84,-786.74\"/>\n</g>\n<!-- 30 -->\n<g id=\"node31\" class=\"node\">\n<title>30</title>\n<path fill=\"#bd97f1\" stroke=\"black\" d=\"M1314,-781C1314,-781 1180,-781 1180,-781 1174,-781 1168,-775 1168,-769 1168,-769 1168,-725 1168,-725 1168,-719 1174,-713 1180,-713 1180,-713 1314,-713 1314,-713 1320,-713 1326,-719 1326,-725 1326,-725 1326,-769 1326,-769 1326,-775 1320,-781 1314,-781\"/>\n<text text-anchor=\"middle\" x=\"1247\" y=\"-765.8\" font-family=\"Helvetica,sans-Serif\" font-size=\"14.00\">sleep_quality &lt;= &#45;0.752</text>\n<text text-anchor=\"middle\" x=\"1247\" y=\"-750.8\" font-family=\"Helvetica,sans-Serif\" font-size=\"14.00\">26</text>\n<text text-anchor=\"middle\" x=\"1247\" y=\"-735.8\" font-family=\"Helvetica,sans-Serif\" font-size=\"14.00\">[5, 5, 16]</text>\n<text text-anchor=\"middle\" x=\"1247\" y=\"-720.8\" font-family=\"Helvetica,sans-Serif\" font-size=\"14.00\">2</text>\n</g>\n<!-- 22&#45;&gt;30 -->\n<g id=\"edge30\" class=\"edge\">\n<title>22&#45;&gt;30</title>\n<path fill=\"none\" stroke=\"black\" d=\"M1178.12,-816.88C1187.2,-807.8 1197.15,-797.85 1206.6,-788.4\"/>\n<polygon fill=\"black\" stroke=\"black\" points=\"1209.1,-790.85 1213.7,-781.3 1204.15,-785.9 1209.1,-790.85\"/>\n</g>\n<!-- 24 -->\n<g id=\"node25\" class=\"node\">\n<title>24</title>\n<path fill=\"#cdb0f5\" stroke=\"black\" d=\"M966.5,-677C966.5,-677 805.5,-677 805.5,-677 799.5,-677 793.5,-671 793.5,-665 793.5,-665 793.5,-621 793.5,-621 793.5,-615 799.5,-609 805.5,-609 805.5,-609 966.5,-609 966.5,-609 972.5,-609 978.5,-615 978.5,-621 978.5,-621 978.5,-665 978.5,-665 978.5,-671 972.5,-677 966.5,-677\"/>\n<text text-anchor=\"middle\" x=\"886\" y=\"-661.8\" font-family=\"Helvetica,sans-Serif\" font-size=\"14.00\">breathing_problem &lt;= &#45;0.19</text>\n<text text-anchor=\"middle\" x=\"886\" y=\"-646.8\" font-family=\"Helvetica,sans-Serif\" font-size=\"14.00\">8</text>\n<text text-anchor=\"middle\" x=\"886\" y=\"-631.8\" font-family=\"Helvetica,sans-Serif\" font-size=\"14.00\">[3, 0, 5]</text>\n<text text-anchor=\"middle\" x=\"886\" y=\"-616.8\" font-family=\"Helvetica,sans-Serif\" font-size=\"14.00\">2</text>\n</g>\n<!-- 23&#45;&gt;24 -->\n<g id=\"edge24\" class=\"edge\">\n<title>23&#45;&gt;24</title>\n<path fill=\"none\" stroke=\"black\" d=\"M1003.51,-712.88C986.86,-703.12 968.51,-692.37 951.35,-682.31\"/>\n<polygon fill=\"black\" stroke=\"black\" points=\"952.9,-679.16 942.51,-677.12 949.36,-685.2 952.9,-679.16\"/>\n</g>\n<!-- 29 -->\n<g id=\"node30\" class=\"node\">\n<title>29</title>\n<path fill=\"#e58139\" stroke=\"black\" d=\"M1079,-669.5C1079,-669.5 1041,-669.5 1041,-669.5 1035,-669.5 1029,-663.5 1029,-657.5 1029,-657.5 1029,-628.5 1029,-628.5 1029,-622.5 1035,-616.5 1041,-616.5 1041,-616.5 1079,-616.5 1079,-616.5 1085,-616.5 1091,-622.5 1091,-628.5 1091,-628.5 1091,-657.5 1091,-657.5 1091,-663.5 1085,-669.5 1079,-669.5\"/>\n<text text-anchor=\"middle\" x=\"1060\" y=\"-654.3\" font-family=\"Helvetica,sans-Serif\" font-size=\"14.00\">6</text>\n<text text-anchor=\"middle\" x=\"1060\" y=\"-639.3\" font-family=\"Helvetica,sans-Serif\" font-size=\"14.00\">[6, 0, 0]</text>\n<text text-anchor=\"middle\" x=\"1060\" y=\"-624.3\" font-family=\"Helvetica,sans-Serif\" font-size=\"14.00\">0</text>\n</g>\n<!-- 23&#45;&gt;29 -->\n<g id=\"edge29\" class=\"edge\">\n<title>23&#45;&gt;29</title>\n<path fill=\"none\" stroke=\"black\" d=\"M1060,-712.88C1060,-702.33 1060,-690.6 1060,-679.85\"/>\n<polygon fill=\"black\" stroke=\"black\" points=\"1063.5,-679.52 1060,-669.52 1056.5,-679.52 1063.5,-679.52\"/>\n</g>\n<!-- 25 -->\n<g id=\"node26\" class=\"node\">\n<title>25</title>\n<path fill=\"#8139e5\" stroke=\"black\" d=\"M744,-565.5C744,-565.5 706,-565.5 706,-565.5 700,-565.5 694,-559.5 694,-553.5 694,-553.5 694,-524.5 694,-524.5 694,-518.5 700,-512.5 706,-512.5 706,-512.5 744,-512.5 744,-512.5 750,-512.5 756,-518.5 756,-524.5 756,-524.5 756,-553.5 756,-553.5 756,-559.5 750,-565.5 744,-565.5\"/>\n<text text-anchor=\"middle\" x=\"725\" y=\"-550.3\" font-family=\"Helvetica,sans-Serif\" font-size=\"14.00\">4</text>\n<text text-anchor=\"middle\" x=\"725\" y=\"-535.3\" font-family=\"Helvetica,sans-Serif\" font-size=\"14.00\">[0, 0, 4]</text>\n<text text-anchor=\"middle\" x=\"725\" y=\"-520.3\" font-family=\"Helvetica,sans-Serif\" font-size=\"14.00\">2</text>\n</g>\n<!-- 24&#45;&gt;25 -->\n<g id=\"edge25\" class=\"edge\">\n<title>24&#45;&gt;25</title>\n<path fill=\"none\" stroke=\"black\" d=\"M823.19,-608.89C804.09,-598.1 783.31,-585.64 765,-573 764.49,-572.65 763.98,-572.29 763.47,-571.93\"/>\n<polygon fill=\"black\" stroke=\"black\" points=\"765.27,-568.91 755.15,-565.78 761.11,-574.54 765.27,-568.91\"/>\n</g>\n<!-- 26 -->\n<g id=\"node27\" class=\"node\">\n<title>26</title>\n<path fill=\"#eeab7b\" stroke=\"black\" d=\"M986,-573C986,-573 786,-573 786,-573 780,-573 774,-567 774,-561 774,-561 774,-517 774,-517 774,-511 780,-505 786,-505 786,-505 986,-505 986,-505 992,-505 998,-511 998,-517 998,-517 998,-561 998,-561 998,-567 992,-573 986,-573\"/>\n<text text-anchor=\"middle\" x=\"886\" y=\"-557.8\" font-family=\"Helvetica,sans-Serif\" font-size=\"14.00\">extracurricular_activities &lt;= &#45;0.542</text>\n<text text-anchor=\"middle\" x=\"886\" y=\"-542.8\" font-family=\"Helvetica,sans-Serif\" font-size=\"14.00\">4</text>\n<text text-anchor=\"middle\" x=\"886\" y=\"-527.8\" font-family=\"Helvetica,sans-Serif\" font-size=\"14.00\">[3, 0, 1]</text>\n<text text-anchor=\"middle\" x=\"886\" y=\"-512.8\" font-family=\"Helvetica,sans-Serif\" font-size=\"14.00\">0</text>\n</g>\n<!-- 24&#45;&gt;26 -->\n<g id=\"edge26\" class=\"edge\">\n<title>24&#45;&gt;26</title>\n<path fill=\"none\" stroke=\"black\" d=\"M886,-608.88C886,-600.78 886,-591.98 886,-583.47\"/>\n<polygon fill=\"black\" stroke=\"black\" points=\"889.5,-583.3 886,-573.3 882.5,-583.3 889.5,-583.3\"/>\n</g>\n<!-- 27 -->\n<g id=\"node28\" class=\"node\">\n<title>27</title>\n<path fill=\"#8139e5\" stroke=\"black\" d=\"M881,-461.5C881,-461.5 843,-461.5 843,-461.5 837,-461.5 831,-455.5 831,-449.5 831,-449.5 831,-420.5 831,-420.5 831,-414.5 837,-408.5 843,-408.5 843,-408.5 881,-408.5 881,-408.5 887,-408.5 893,-414.5 893,-420.5 893,-420.5 893,-449.5 893,-449.5 893,-455.5 887,-461.5 881,-461.5\"/>\n<text text-anchor=\"middle\" x=\"862\" y=\"-446.3\" font-family=\"Helvetica,sans-Serif\" font-size=\"14.00\">1</text>\n<text text-anchor=\"middle\" x=\"862\" y=\"-431.3\" font-family=\"Helvetica,sans-Serif\" font-size=\"14.00\">[0, 0, 1]</text>\n<text text-anchor=\"middle\" x=\"862\" y=\"-416.3\" font-family=\"Helvetica,sans-Serif\" font-size=\"14.00\">2</text>\n</g>\n<!-- 26&#45;&gt;27 -->\n<g id=\"edge27\" class=\"edge\">\n<title>26&#45;&gt;27</title>\n<path fill=\"none\" stroke=\"black\" d=\"M878.21,-504.88C875.7,-494.22 872.91,-482.35 870.36,-471.52\"/>\n<polygon fill=\"black\" stroke=\"black\" points=\"873.7,-470.45 868,-461.52 866.89,-472.06 873.7,-470.45\"/>\n</g>\n<!-- 28 -->\n<g id=\"node29\" class=\"node\">\n<title>28</title>\n<path fill=\"#e58139\" stroke=\"black\" d=\"M961,-461.5C961,-461.5 923,-461.5 923,-461.5 917,-461.5 911,-455.5 911,-449.5 911,-449.5 911,-420.5 911,-420.5 911,-414.5 917,-408.5 923,-408.5 923,-408.5 961,-408.5 961,-408.5 967,-408.5 973,-414.5 973,-420.5 973,-420.5 973,-449.5 973,-449.5 973,-455.5 967,-461.5 961,-461.5\"/>\n<text text-anchor=\"middle\" x=\"942\" y=\"-446.3\" font-family=\"Helvetica,sans-Serif\" font-size=\"14.00\">3</text>\n<text text-anchor=\"middle\" x=\"942\" y=\"-431.3\" font-family=\"Helvetica,sans-Serif\" font-size=\"14.00\">[3, 0, 0]</text>\n<text text-anchor=\"middle\" x=\"942\" y=\"-416.3\" font-family=\"Helvetica,sans-Serif\" font-size=\"14.00\">0</text>\n</g>\n<!-- 26&#45;&gt;28 -->\n<g id=\"edge28\" class=\"edge\">\n<title>26&#45;&gt;28</title>\n<path fill=\"none\" stroke=\"black\" d=\"M904.18,-504.88C910.22,-493.89 916.96,-481.62 923.05,-470.52\"/>\n<polygon fill=\"black\" stroke=\"black\" points=\"926.24,-471.97 927.99,-461.52 920.11,-468.6 926.24,-471.97\"/>\n</g>\n<!-- 31 -->\n<g id=\"node32\" class=\"node\">\n<title>31</title>\n<path fill=\"#f6d5bd\" stroke=\"black\" d=\"M1343.5,-677C1343.5,-677 1150.5,-677 1150.5,-677 1144.5,-677 1138.5,-671 1138.5,-665 1138.5,-665 1138.5,-621 1138.5,-621 1138.5,-615 1144.5,-609 1150.5,-609 1150.5,-609 1343.5,-609 1343.5,-609 1349.5,-609 1355.5,-615 1355.5,-621 1355.5,-621 1355.5,-665 1355.5,-665 1355.5,-671 1349.5,-677 1343.5,-677\"/>\n<text text-anchor=\"middle\" x=\"1247\" y=\"-661.8\" font-family=\"Helvetica,sans-Serif\" font-size=\"14.00\">academic_performance &lt;= 0.515</text>\n<text text-anchor=\"middle\" x=\"1247\" y=\"-646.8\" font-family=\"Helvetica,sans-Serif\" font-size=\"14.00\">8</text>\n<text text-anchor=\"middle\" x=\"1247\" y=\"-631.8\" font-family=\"Helvetica,sans-Serif\" font-size=\"14.00\">[4, 2, 2]</text>\n<text text-anchor=\"middle\" x=\"1247\" y=\"-616.8\" font-family=\"Helvetica,sans-Serif\" font-size=\"14.00\">0</text>\n</g>\n<!-- 30&#45;&gt;31 -->\n<g id=\"edge31\" class=\"edge\">\n<title>30&#45;&gt;31</title>\n<path fill=\"none\" stroke=\"black\" d=\"M1247,-712.88C1247,-704.78 1247,-695.98 1247,-687.47\"/>\n<polygon fill=\"black\" stroke=\"black\" points=\"1250.5,-687.3 1247,-677.3 1243.5,-687.3 1250.5,-687.3\"/>\n</g>\n<!-- 38 -->\n<g id=\"node39\" class=\"node\">\n<title>38</title>\n<path fill=\"#a36eec\" stroke=\"black\" d=\"M1523,-677C1523,-677 1403,-677 1403,-677 1397,-677 1391,-671 1391,-665 1391,-665 1391,-621 1391,-621 1391,-615 1397,-609 1403,-609 1403,-609 1523,-609 1523,-609 1529,-609 1535,-615 1535,-621 1535,-621 1535,-665 1535,-665 1535,-671 1529,-677 1523,-677\"/>\n<text text-anchor=\"middle\" x=\"1463\" y=\"-661.8\" font-family=\"Helvetica,sans-Serif\" font-size=\"14.00\">study_load &lt;= &#45;1.618</text>\n<text text-anchor=\"middle\" x=\"1463\" y=\"-646.8\" font-family=\"Helvetica,sans-Serif\" font-size=\"14.00\">18</text>\n<text text-anchor=\"middle\" x=\"1463\" y=\"-631.8\" font-family=\"Helvetica,sans-Serif\" font-size=\"14.00\">[1, 3, 14]</text>\n<text text-anchor=\"middle\" x=\"1463\" y=\"-616.8\" font-family=\"Helvetica,sans-Serif\" font-size=\"14.00\">2</text>\n</g>\n<!-- 30&#45;&gt;38 -->\n<g id=\"edge38\" class=\"edge\">\n<title>30&#45;&gt;38</title>\n<path fill=\"none\" stroke=\"black\" d=\"M1317.13,-712.88C1338.36,-702.86 1361.83,-691.77 1383.63,-681.48\"/>\n<polygon fill=\"black\" stroke=\"black\" points=\"1385.31,-684.56 1392.85,-677.12 1382.32,-678.23 1385.31,-684.56\"/>\n</g>\n<!-- 32 -->\n<g id=\"node33\" class=\"node\">\n<title>32</title>\n<path fill=\"#f6d5bd\" stroke=\"black\" d=\"M1196,-573C1196,-573 1028,-573 1028,-573 1022,-573 1016,-567 1016,-561 1016,-561 1016,-517 1016,-517 1016,-511 1022,-505 1028,-505 1028,-505 1196,-505 1196,-505 1202,-505 1208,-511 1208,-517 1208,-517 1208,-561 1208,-561 1208,-567 1202,-573 1196,-573\"/>\n<text text-anchor=\"middle\" x=\"1112\" y=\"-557.8\" font-family=\"Helvetica,sans-Serif\" font-size=\"14.00\">breathing_problem &lt;= &#45;0.898</text>\n<text text-anchor=\"middle\" x=\"1112\" y=\"-542.8\" font-family=\"Helvetica,sans-Serif\" font-size=\"14.00\">5</text>\n<text text-anchor=\"middle\" x=\"1112\" y=\"-527.8\" font-family=\"Helvetica,sans-Serif\" font-size=\"14.00\">[3, 2, 0]</text>\n<text text-anchor=\"middle\" x=\"1112\" y=\"-512.8\" font-family=\"Helvetica,sans-Serif\" font-size=\"14.00\">0</text>\n</g>\n<!-- 31&#45;&gt;32 -->\n<g id=\"edge32\" class=\"edge\">\n<title>31&#45;&gt;32</title>\n<path fill=\"none\" stroke=\"black\" d=\"M1203.17,-608.88C1190.79,-599.53 1177.2,-589.26 1164.37,-579.57\"/>\n<polygon fill=\"black\" stroke=\"black\" points=\"1166.16,-576.54 1156.07,-573.3 1161.94,-582.12 1166.16,-576.54\"/>\n</g>\n<!-- 35 -->\n<g id=\"node36\" class=\"node\">\n<title>35</title>\n<path fill=\"#c09cf2\" stroke=\"black\" d=\"M1402,-573C1402,-573 1238,-573 1238,-573 1232,-573 1226,-567 1226,-561 1226,-561 1226,-517 1226,-517 1226,-511 1232,-505 1238,-505 1238,-505 1402,-505 1402,-505 1408,-505 1414,-511 1414,-517 1414,-517 1414,-561 1414,-561 1414,-567 1408,-573 1402,-573\"/>\n<text text-anchor=\"middle\" x=\"1320\" y=\"-557.8\" font-family=\"Helvetica,sans-Serif\" font-size=\"14.00\">breathing_problem &lt;= 0.164</text>\n<text text-anchor=\"middle\" x=\"1320\" y=\"-542.8\" font-family=\"Helvetica,sans-Serif\" font-size=\"14.00\">3</text>\n<text text-anchor=\"middle\" x=\"1320\" y=\"-527.8\" font-family=\"Helvetica,sans-Serif\" font-size=\"14.00\">[1, 0, 2]</text>\n<text text-anchor=\"middle\" x=\"1320\" y=\"-512.8\" font-family=\"Helvetica,sans-Serif\" font-size=\"14.00\">2</text>\n</g>\n<!-- 31&#45;&gt;35 -->\n<g id=\"edge35\" class=\"edge\">\n<title>31&#45;&gt;35</title>\n<path fill=\"none\" stroke=\"black\" d=\"M1270.7,-608.88C1276.95,-600.15 1283.77,-590.62 1290.29,-581.51\"/>\n<polygon fill=\"black\" stroke=\"black\" points=\"1293.19,-583.47 1296.17,-573.3 1287.5,-579.39 1293.19,-583.47\"/>\n</g>\n<!-- 33 -->\n<g id=\"node34\" class=\"node\">\n<title>33</title>\n<path fill=\"#e58139\" stroke=\"black\" d=\"M1074,-461.5C1074,-461.5 1036,-461.5 1036,-461.5 1030,-461.5 1024,-455.5 1024,-449.5 1024,-449.5 1024,-420.5 1024,-420.5 1024,-414.5 1030,-408.5 1036,-408.5 1036,-408.5 1074,-408.5 1074,-408.5 1080,-408.5 1086,-414.5 1086,-420.5 1086,-420.5 1086,-449.5 1086,-449.5 1086,-455.5 1080,-461.5 1074,-461.5\"/>\n<text text-anchor=\"middle\" x=\"1055\" y=\"-446.3\" font-family=\"Helvetica,sans-Serif\" font-size=\"14.00\">3</text>\n<text text-anchor=\"middle\" x=\"1055\" y=\"-431.3\" font-family=\"Helvetica,sans-Serif\" font-size=\"14.00\">[3, 0, 0]</text>\n<text text-anchor=\"middle\" x=\"1055\" y=\"-416.3\" font-family=\"Helvetica,sans-Serif\" font-size=\"14.00\">0</text>\n</g>\n<!-- 32&#45;&gt;33 -->\n<g id=\"edge33\" class=\"edge\">\n<title>32&#45;&gt;33</title>\n<path fill=\"none\" stroke=\"black\" d=\"M1093.49,-504.88C1087.35,-493.89 1080.49,-481.62 1074.29,-470.52\"/>\n<polygon fill=\"black\" stroke=\"black\" points=\"1077.19,-468.54 1069.26,-461.52 1071.08,-471.96 1077.19,-468.54\"/>\n</g>\n<!-- 34 -->\n<g id=\"node35\" class=\"node\">\n<title>34</title>\n<path fill=\"#39e581\" stroke=\"black\" d=\"M1154,-461.5C1154,-461.5 1116,-461.5 1116,-461.5 1110,-461.5 1104,-455.5 1104,-449.5 1104,-449.5 1104,-420.5 1104,-420.5 1104,-414.5 1110,-408.5 1116,-408.5 1116,-408.5 1154,-408.5 1154,-408.5 1160,-408.5 1166,-414.5 1166,-420.5 1166,-420.5 1166,-449.5 1166,-449.5 1166,-455.5 1160,-461.5 1154,-461.5\"/>\n<text text-anchor=\"middle\" x=\"1135\" y=\"-446.3\" font-family=\"Helvetica,sans-Serif\" font-size=\"14.00\">2</text>\n<text text-anchor=\"middle\" x=\"1135\" y=\"-431.3\" font-family=\"Helvetica,sans-Serif\" font-size=\"14.00\">[0, 2, 0]</text>\n<text text-anchor=\"middle\" x=\"1135\" y=\"-416.3\" font-family=\"Helvetica,sans-Serif\" font-size=\"14.00\">1</text>\n</g>\n<!-- 32&#45;&gt;34 -->\n<g id=\"edge34\" class=\"edge\">\n<title>32&#45;&gt;34</title>\n<path fill=\"none\" stroke=\"black\" d=\"M1119.47,-504.88C1121.87,-494.22 1124.55,-482.35 1126.99,-471.52\"/>\n<polygon fill=\"black\" stroke=\"black\" points=\"1130.46,-472.04 1129.25,-461.52 1123.63,-470.51 1130.46,-472.04\"/>\n</g>\n<!-- 36 -->\n<g id=\"node37\" class=\"node\">\n<title>36</title>\n<path fill=\"#8139e5\" stroke=\"black\" d=\"M1299,-461.5C1299,-461.5 1261,-461.5 1261,-461.5 1255,-461.5 1249,-455.5 1249,-449.5 1249,-449.5 1249,-420.5 1249,-420.5 1249,-414.5 1255,-408.5 1261,-408.5 1261,-408.5 1299,-408.5 1299,-408.5 1305,-408.5 1311,-414.5 1311,-420.5 1311,-420.5 1311,-449.5 1311,-449.5 1311,-455.5 1305,-461.5 1299,-461.5\"/>\n<text text-anchor=\"middle\" x=\"1280\" y=\"-446.3\" font-family=\"Helvetica,sans-Serif\" font-size=\"14.00\">2</text>\n<text text-anchor=\"middle\" x=\"1280\" y=\"-431.3\" font-family=\"Helvetica,sans-Serif\" font-size=\"14.00\">[0, 0, 2]</text>\n<text text-anchor=\"middle\" x=\"1280\" y=\"-416.3\" font-family=\"Helvetica,sans-Serif\" font-size=\"14.00\">2</text>\n</g>\n<!-- 35&#45;&gt;36 -->\n<g id=\"edge36\" class=\"edge\">\n<title>35&#45;&gt;36</title>\n<path fill=\"none\" stroke=\"black\" d=\"M1307.01,-504.88C1302.74,-494 1297.99,-481.86 1293.67,-470.85\"/>\n<polygon fill=\"black\" stroke=\"black\" points=\"1296.92,-469.55 1290.01,-461.52 1290.4,-472.11 1296.92,-469.55\"/>\n</g>\n<!-- 37 -->\n<g id=\"node38\" class=\"node\">\n<title>37</title>\n<path fill=\"#e58139\" stroke=\"black\" d=\"M1379,-461.5C1379,-461.5 1341,-461.5 1341,-461.5 1335,-461.5 1329,-455.5 1329,-449.5 1329,-449.5 1329,-420.5 1329,-420.5 1329,-414.5 1335,-408.5 1341,-408.5 1341,-408.5 1379,-408.5 1379,-408.5 1385,-408.5 1391,-414.5 1391,-420.5 1391,-420.5 1391,-449.5 1391,-449.5 1391,-455.5 1385,-461.5 1379,-461.5\"/>\n<text text-anchor=\"middle\" x=\"1360\" y=\"-446.3\" font-family=\"Helvetica,sans-Serif\" font-size=\"14.00\">1</text>\n<text text-anchor=\"middle\" x=\"1360\" y=\"-431.3\" font-family=\"Helvetica,sans-Serif\" font-size=\"14.00\">[1, 0, 0]</text>\n<text text-anchor=\"middle\" x=\"1360\" y=\"-416.3\" font-family=\"Helvetica,sans-Serif\" font-size=\"14.00\">0</text>\n</g>\n<!-- 35&#45;&gt;37 -->\n<g id=\"edge37\" class=\"edge\">\n<title>35&#45;&gt;37</title>\n<path fill=\"none\" stroke=\"black\" d=\"M1332.99,-504.88C1337.26,-494 1342.01,-481.86 1346.33,-470.85\"/>\n<polygon fill=\"black\" stroke=\"black\" points=\"1349.6,-472.11 1349.99,-461.52 1343.08,-469.55 1349.6,-472.11\"/>\n</g>\n<!-- 39 -->\n<g id=\"node40\" class=\"node\">\n<title>39</title>\n<path fill=\"#39e581\" stroke=\"black\" d=\"M1482,-565.5C1482,-565.5 1444,-565.5 1444,-565.5 1438,-565.5 1432,-559.5 1432,-553.5 1432,-553.5 1432,-524.5 1432,-524.5 1432,-518.5 1438,-512.5 1444,-512.5 1444,-512.5 1482,-512.5 1482,-512.5 1488,-512.5 1494,-518.5 1494,-524.5 1494,-524.5 1494,-553.5 1494,-553.5 1494,-559.5 1488,-565.5 1482,-565.5\"/>\n<text text-anchor=\"middle\" x=\"1463\" y=\"-550.3\" font-family=\"Helvetica,sans-Serif\" font-size=\"14.00\">2</text>\n<text text-anchor=\"middle\" x=\"1463\" y=\"-535.3\" font-family=\"Helvetica,sans-Serif\" font-size=\"14.00\">[0, 2, 0]</text>\n<text text-anchor=\"middle\" x=\"1463\" y=\"-520.3\" font-family=\"Helvetica,sans-Serif\" font-size=\"14.00\">1</text>\n</g>\n<!-- 38&#45;&gt;39 -->\n<g id=\"edge39\" class=\"edge\">\n<title>38&#45;&gt;39</title>\n<path fill=\"none\" stroke=\"black\" d=\"M1463,-608.88C1463,-598.33 1463,-586.6 1463,-575.85\"/>\n<polygon fill=\"black\" stroke=\"black\" points=\"1466.5,-575.52 1463,-565.52 1459.5,-575.52 1466.5,-575.52\"/>\n</g>\n<!-- 40 -->\n<g id=\"node41\" class=\"node\">\n<title>40</title>\n<path fill=\"#9253e8\" stroke=\"black\" d=\"M1752,-573C1752,-573 1524,-573 1524,-573 1518,-573 1512,-567 1512,-561 1512,-561 1512,-517 1512,-517 1512,-511 1518,-505 1524,-505 1524,-505 1752,-505 1752,-505 1758,-505 1764,-511 1764,-517 1764,-517 1764,-561 1764,-561 1764,-567 1758,-573 1752,-573\"/>\n<text text-anchor=\"middle\" x=\"1638\" y=\"-557.8\" font-family=\"Helvetica,sans-Serif\" font-size=\"14.00\">teacher_student_relationship &lt;= &#45;0.838</text>\n<text text-anchor=\"middle\" x=\"1638\" y=\"-542.8\" font-family=\"Helvetica,sans-Serif\" font-size=\"14.00\">16</text>\n<text text-anchor=\"middle\" x=\"1638\" y=\"-527.8\" font-family=\"Helvetica,sans-Serif\" font-size=\"14.00\">[1, 1, 14]</text>\n<text text-anchor=\"middle\" x=\"1638\" y=\"-512.8\" font-family=\"Helvetica,sans-Serif\" font-size=\"14.00\">2</text>\n</g>\n<!-- 38&#45;&gt;40 -->\n<g id=\"edge40\" class=\"edge\">\n<title>38&#45;&gt;40</title>\n<path fill=\"none\" stroke=\"black\" d=\"M1519.82,-608.88C1536.56,-599.12 1555.02,-588.37 1572.27,-578.31\"/>\n<polygon fill=\"black\" stroke=\"black\" points=\"1574.29,-581.18 1581.17,-573.12 1570.77,-575.14 1574.29,-581.18\"/>\n</g>\n<!-- 41 -->\n<g id=\"node42\" class=\"node\">\n<title>41</title>\n<path fill=\"#c09cf2\" stroke=\"black\" d=\"M1628.5,-469C1628.5,-469 1537.5,-469 1537.5,-469 1531.5,-469 1525.5,-463 1525.5,-457 1525.5,-457 1525.5,-413 1525.5,-413 1525.5,-407 1531.5,-401 1537.5,-401 1537.5,-401 1628.5,-401 1628.5,-401 1634.5,-401 1640.5,-407 1640.5,-413 1640.5,-413 1640.5,-457 1640.5,-457 1640.5,-463 1634.5,-469 1628.5,-469\"/>\n<text text-anchor=\"middle\" x=\"1583\" y=\"-453.8\" font-family=\"Helvetica,sans-Serif\" font-size=\"14.00\">safety &lt;= &#45;0.877</text>\n<text text-anchor=\"middle\" x=\"1583\" y=\"-438.8\" font-family=\"Helvetica,sans-Serif\" font-size=\"14.00\">5</text>\n<text text-anchor=\"middle\" x=\"1583\" y=\"-423.8\" font-family=\"Helvetica,sans-Serif\" font-size=\"14.00\">[1, 1, 3]</text>\n<text text-anchor=\"middle\" x=\"1583\" y=\"-408.8\" font-family=\"Helvetica,sans-Serif\" font-size=\"14.00\">2</text>\n</g>\n<!-- 40&#45;&gt;41 -->\n<g id=\"edge41\" class=\"edge\">\n<title>40&#45;&gt;41</title>\n<path fill=\"none\" stroke=\"black\" d=\"M1620.14,-504.88C1615.58,-496.42 1610.61,-487.21 1605.84,-478.35\"/>\n<polygon fill=\"black\" stroke=\"black\" points=\"1608.78,-476.44 1600.96,-469.3 1602.62,-479.76 1608.78,-476.44\"/>\n</g>\n<!-- 46 -->\n<g id=\"node47\" class=\"node\">\n<title>46</title>\n<path fill=\"#8139e5\" stroke=\"black\" d=\"M1715.5,-461.5C1715.5,-461.5 1670.5,-461.5 1670.5,-461.5 1664.5,-461.5 1658.5,-455.5 1658.5,-449.5 1658.5,-449.5 1658.5,-420.5 1658.5,-420.5 1658.5,-414.5 1664.5,-408.5 1670.5,-408.5 1670.5,-408.5 1715.5,-408.5 1715.5,-408.5 1721.5,-408.5 1727.5,-414.5 1727.5,-420.5 1727.5,-420.5 1727.5,-449.5 1727.5,-449.5 1727.5,-455.5 1721.5,-461.5 1715.5,-461.5\"/>\n<text text-anchor=\"middle\" x=\"1693\" y=\"-446.3\" font-family=\"Helvetica,sans-Serif\" font-size=\"14.00\">11</text>\n<text text-anchor=\"middle\" x=\"1693\" y=\"-431.3\" font-family=\"Helvetica,sans-Serif\" font-size=\"14.00\">[0, 0, 11]</text>\n<text text-anchor=\"middle\" x=\"1693\" y=\"-416.3\" font-family=\"Helvetica,sans-Serif\" font-size=\"14.00\">2</text>\n</g>\n<!-- 40&#45;&gt;46 -->\n<g id=\"edge46\" class=\"edge\">\n<title>40&#45;&gt;46</title>\n<path fill=\"none\" stroke=\"black\" d=\"M1655.86,-504.88C1661.79,-493.89 1668.4,-481.62 1674.39,-470.52\"/>\n<polygon fill=\"black\" stroke=\"black\" points=\"1677.57,-471.98 1679.24,-461.52 1671.41,-468.66 1677.57,-471.98\"/>\n</g>\n<!-- 42 -->\n<g id=\"node43\" class=\"node\">\n<title>42</title>\n<path fill=\"#ffffff\" stroke=\"black\" d=\"M1601.5,-365C1601.5,-365 1406.5,-365 1406.5,-365 1400.5,-365 1394.5,-359 1394.5,-353 1394.5,-353 1394.5,-309 1394.5,-309 1394.5,-303 1400.5,-297 1406.5,-297 1406.5,-297 1601.5,-297 1601.5,-297 1607.5,-297 1613.5,-303 1613.5,-309 1613.5,-309 1613.5,-353 1613.5,-353 1613.5,-359 1607.5,-365 1601.5,-365\"/>\n<text text-anchor=\"middle\" x=\"1504\" y=\"-349.8\" font-family=\"Helvetica,sans-Serif\" font-size=\"14.00\">extracurricular_activities &lt;= 0.159</text>\n<text text-anchor=\"middle\" x=\"1504\" y=\"-334.8\" font-family=\"Helvetica,sans-Serif\" font-size=\"14.00\">2</text>\n<text text-anchor=\"middle\" x=\"1504\" y=\"-319.8\" font-family=\"Helvetica,sans-Serif\" font-size=\"14.00\">[1, 1, 0]</text>\n<text text-anchor=\"middle\" x=\"1504\" y=\"-304.8\" font-family=\"Helvetica,sans-Serif\" font-size=\"14.00\">0</text>\n</g>\n<!-- 41&#45;&gt;42 -->\n<g id=\"edge42\" class=\"edge\">\n<title>41&#45;&gt;42</title>\n<path fill=\"none\" stroke=\"black\" d=\"M1557.35,-400.88C1550.52,-392.07 1543.06,-382.43 1535.94,-373.24\"/>\n<polygon fill=\"black\" stroke=\"black\" points=\"1538.68,-371.06 1529.79,-365.3 1533.15,-375.35 1538.68,-371.06\"/>\n</g>\n<!-- 45 -->\n<g id=\"node46\" class=\"node\">\n<title>45</title>\n<path fill=\"#8139e5\" stroke=\"black\" d=\"M1682,-357.5C1682,-357.5 1644,-357.5 1644,-357.5 1638,-357.5 1632,-351.5 1632,-345.5 1632,-345.5 1632,-316.5 1632,-316.5 1632,-310.5 1638,-304.5 1644,-304.5 1644,-304.5 1682,-304.5 1682,-304.5 1688,-304.5 1694,-310.5 1694,-316.5 1694,-316.5 1694,-345.5 1694,-345.5 1694,-351.5 1688,-357.5 1682,-357.5\"/>\n<text text-anchor=\"middle\" x=\"1663\" y=\"-342.3\" font-family=\"Helvetica,sans-Serif\" font-size=\"14.00\">3</text>\n<text text-anchor=\"middle\" x=\"1663\" y=\"-327.3\" font-family=\"Helvetica,sans-Serif\" font-size=\"14.00\">[0, 0, 3]</text>\n<text text-anchor=\"middle\" x=\"1663\" y=\"-312.3\" font-family=\"Helvetica,sans-Serif\" font-size=\"14.00\">2</text>\n</g>\n<!-- 41&#45;&gt;45 -->\n<g id=\"edge45\" class=\"edge\">\n<title>41&#45;&gt;45</title>\n<path fill=\"none\" stroke=\"black\" d=\"M1608.97,-400.88C1617.86,-389.56 1627.8,-376.88 1636.71,-365.52\"/>\n<polygon fill=\"black\" stroke=\"black\" points=\"1639.57,-367.55 1642.98,-357.52 1634.06,-363.23 1639.57,-367.55\"/>\n</g>\n<!-- 43 -->\n<g id=\"node44\" class=\"node\">\n<title>43</title>\n<path fill=\"#39e581\" stroke=\"black\" d=\"M1483,-253.5C1483,-253.5 1445,-253.5 1445,-253.5 1439,-253.5 1433,-247.5 1433,-241.5 1433,-241.5 1433,-212.5 1433,-212.5 1433,-206.5 1439,-200.5 1445,-200.5 1445,-200.5 1483,-200.5 1483,-200.5 1489,-200.5 1495,-206.5 1495,-212.5 1495,-212.5 1495,-241.5 1495,-241.5 1495,-247.5 1489,-253.5 1483,-253.5\"/>\n<text text-anchor=\"middle\" x=\"1464\" y=\"-238.3\" font-family=\"Helvetica,sans-Serif\" font-size=\"14.00\">1</text>\n<text text-anchor=\"middle\" x=\"1464\" y=\"-223.3\" font-family=\"Helvetica,sans-Serif\" font-size=\"14.00\">[0, 1, 0]</text>\n<text text-anchor=\"middle\" x=\"1464\" y=\"-208.3\" font-family=\"Helvetica,sans-Serif\" font-size=\"14.00\">1</text>\n</g>\n<!-- 42&#45;&gt;43 -->\n<g id=\"edge43\" class=\"edge\">\n<title>42&#45;&gt;43</title>\n<path fill=\"none\" stroke=\"black\" d=\"M1491.01,-296.88C1486.74,-286 1481.99,-273.86 1477.67,-262.85\"/>\n<polygon fill=\"black\" stroke=\"black\" points=\"1480.92,-261.55 1474.01,-253.52 1474.4,-264.11 1480.92,-261.55\"/>\n</g>\n<!-- 44 -->\n<g id=\"node45\" class=\"node\">\n<title>44</title>\n<path fill=\"#e58139\" stroke=\"black\" d=\"M1563,-253.5C1563,-253.5 1525,-253.5 1525,-253.5 1519,-253.5 1513,-247.5 1513,-241.5 1513,-241.5 1513,-212.5 1513,-212.5 1513,-206.5 1519,-200.5 1525,-200.5 1525,-200.5 1563,-200.5 1563,-200.5 1569,-200.5 1575,-206.5 1575,-212.5 1575,-212.5 1575,-241.5 1575,-241.5 1575,-247.5 1569,-253.5 1563,-253.5\"/>\n<text text-anchor=\"middle\" x=\"1544\" y=\"-238.3\" font-family=\"Helvetica,sans-Serif\" font-size=\"14.00\">1</text>\n<text text-anchor=\"middle\" x=\"1544\" y=\"-223.3\" font-family=\"Helvetica,sans-Serif\" font-size=\"14.00\">[1, 0, 0]</text>\n<text text-anchor=\"middle\" x=\"1544\" y=\"-208.3\" font-family=\"Helvetica,sans-Serif\" font-size=\"14.00\">0</text>\n</g>\n<!-- 42&#45;&gt;44 -->\n<g id=\"edge44\" class=\"edge\">\n<title>42&#45;&gt;44</title>\n<path fill=\"none\" stroke=\"black\" d=\"M1516.99,-296.88C1521.26,-286 1526.01,-273.86 1530.33,-262.85\"/>\n<polygon fill=\"black\" stroke=\"black\" points=\"1533.6,-264.11 1533.99,-253.52 1527.08,-261.55 1533.6,-264.11\"/>\n</g>\n<!-- 48 -->\n<g id=\"node49\" class=\"node\">\n<title>48</title>\n<path fill=\"#853fe6\" stroke=\"black\" d=\"M1679,-885C1679,-885 1545,-885 1545,-885 1539,-885 1533,-879 1533,-873 1533,-873 1533,-829 1533,-829 1533,-823 1539,-817 1545,-817 1545,-817 1679,-817 1679,-817 1685,-817 1691,-823 1691,-829 1691,-829 1691,-873 1691,-873 1691,-879 1685,-885 1679,-885\"/>\n<text text-anchor=\"middle\" x=\"1612\" y=\"-869.8\" font-family=\"Helvetica,sans-Serif\" font-size=\"14.00\">sleep_quality &lt;= &#45;0.752</text>\n<text text-anchor=\"middle\" x=\"1612\" y=\"-854.8\" font-family=\"Helvetica,sans-Serif\" font-size=\"14.00\">254</text>\n<text text-anchor=\"middle\" x=\"1612\" y=\"-839.8\" font-family=\"Helvetica,sans-Serif\" font-size=\"14.00\">[3, 4, 247]</text>\n<text text-anchor=\"middle\" x=\"1612\" y=\"-824.8\" font-family=\"Helvetica,sans-Serif\" font-size=\"14.00\">2</text>\n</g>\n<!-- 47&#45;&gt;48 -->\n<g id=\"edge48\" class=\"edge\">\n<title>47&#45;&gt;48</title>\n<path fill=\"none\" stroke=\"black\" d=\"M1625.51,-920.88C1623.9,-912.69 1622.15,-903.79 1620.47,-895.19\"/>\n<polygon fill=\"black\" stroke=\"black\" points=\"1623.89,-894.44 1618.53,-885.3 1617.02,-895.79 1623.89,-894.44\"/>\n</g>\n<!-- 57 -->\n<g id=\"node58\" class=\"node\">\n<title>57</title>\n<path fill=\"#ea9a61\" stroke=\"black\" d=\"M1841,-885C1841,-885 1721,-885 1721,-885 1715,-885 1709,-879 1709,-873 1709,-873 1709,-829 1709,-829 1709,-823 1715,-817 1721,-817 1721,-817 1841,-817 1841,-817 1847,-817 1853,-823 1853,-829 1853,-829 1853,-873 1853,-873 1853,-879 1847,-885 1841,-885\"/>\n<text text-anchor=\"middle\" x=\"1781\" y=\"-869.8\" font-family=\"Helvetica,sans-Serif\" font-size=\"14.00\">study_load &lt;= &#45;1.618</text>\n<text text-anchor=\"middle\" x=\"1781\" y=\"-854.8\" font-family=\"Helvetica,sans-Serif\" font-size=\"14.00\">6</text>\n<text text-anchor=\"middle\" x=\"1781\" y=\"-839.8\" font-family=\"Helvetica,sans-Serif\" font-size=\"14.00\">[5, 1, 0]</text>\n<text text-anchor=\"middle\" x=\"1781\" y=\"-824.8\" font-family=\"Helvetica,sans-Serif\" font-size=\"14.00\">0</text>\n</g>\n<!-- 47&#45;&gt;57 -->\n<g id=\"edge57\" class=\"edge\">\n<title>47&#45;&gt;57</title>\n<path fill=\"none\" stroke=\"black\" d=\"M1680.38,-920.88C1694.37,-911.3 1709.77,-900.76 1724.23,-890.86\"/>\n<polygon fill=\"black\" stroke=\"black\" points=\"1726.34,-893.66 1732.61,-885.12 1722.38,-887.89 1726.34,-893.66\"/>\n</g>\n<!-- 49 -->\n<g id=\"node50\" class=\"node\">\n<title>49</title>\n<path fill=\"#8139e5\" stroke=\"black\" d=\"M1545.5,-773.5C1545.5,-773.5 1492.5,-773.5 1492.5,-773.5 1486.5,-773.5 1480.5,-767.5 1480.5,-761.5 1480.5,-761.5 1480.5,-732.5 1480.5,-732.5 1480.5,-726.5 1486.5,-720.5 1492.5,-720.5 1492.5,-720.5 1545.5,-720.5 1545.5,-720.5 1551.5,-720.5 1557.5,-726.5 1557.5,-732.5 1557.5,-732.5 1557.5,-761.5 1557.5,-761.5 1557.5,-767.5 1551.5,-773.5 1545.5,-773.5\"/>\n<text text-anchor=\"middle\" x=\"1519\" y=\"-758.3\" font-family=\"Helvetica,sans-Serif\" font-size=\"14.00\">242</text>\n<text text-anchor=\"middle\" x=\"1519\" y=\"-743.3\" font-family=\"Helvetica,sans-Serif\" font-size=\"14.00\">[0, 0, 242]</text>\n<text text-anchor=\"middle\" x=\"1519\" y=\"-728.3\" font-family=\"Helvetica,sans-Serif\" font-size=\"14.00\">2</text>\n</g>\n<!-- 48&#45;&gt;49 -->\n<g id=\"edge49\" class=\"edge\">\n<title>48&#45;&gt;49</title>\n<path fill=\"none\" stroke=\"black\" d=\"M1581.81,-816.88C1571.38,-805.45 1559.7,-792.63 1549.26,-781.19\"/>\n<polygon fill=\"black\" stroke=\"black\" points=\"1551.59,-778.55 1542.27,-773.52 1546.42,-783.27 1551.59,-778.55\"/>\n</g>\n<!-- 50 -->\n<g id=\"node51\" class=\"node\">\n<title>50</title>\n<path fill=\"#efe6fc\" stroke=\"black\" d=\"M1710,-781C1710,-781 1588,-781 1588,-781 1582,-781 1576,-775 1576,-769 1576,-769 1576,-725 1576,-725 1576,-719 1582,-713 1588,-713 1588,-713 1710,-713 1710,-713 1716,-713 1722,-719 1722,-725 1722,-725 1722,-769 1722,-769 1722,-775 1716,-781 1710,-781\"/>\n<text text-anchor=\"middle\" x=\"1649\" y=\"-765.8\" font-family=\"Helvetica,sans-Serif\" font-size=\"14.00\">noise_level &lt;= &#45;1.611</text>\n<text text-anchor=\"middle\" x=\"1649\" y=\"-750.8\" font-family=\"Helvetica,sans-Serif\" font-size=\"14.00\">12</text>\n<text text-anchor=\"middle\" x=\"1649\" y=\"-735.8\" font-family=\"Helvetica,sans-Serif\" font-size=\"14.00\">[3, 4, 5]</text>\n<text text-anchor=\"middle\" x=\"1649\" y=\"-720.8\" font-family=\"Helvetica,sans-Serif\" font-size=\"14.00\">2</text>\n</g>\n<!-- 48&#45;&gt;50 -->\n<g id=\"edge50\" class=\"edge\">\n<title>48&#45;&gt;50</title>\n<path fill=\"none\" stroke=\"black\" d=\"M1624.01,-816.88C1627.02,-808.6 1630.28,-799.6 1633.43,-790.91\"/>\n<polygon fill=\"black\" stroke=\"black\" points=\"1636.8,-791.89 1636.92,-781.3 1630.22,-789.51 1636.8,-791.89\"/>\n</g>\n<!-- 51 -->\n<g id=\"node52\" class=\"node\">\n<title>51</title>\n<path fill=\"#8139e5\" stroke=\"black\" d=\"M1668,-669.5C1668,-669.5 1630,-669.5 1630,-669.5 1624,-669.5 1618,-663.5 1618,-657.5 1618,-657.5 1618,-628.5 1618,-628.5 1618,-622.5 1624,-616.5 1630,-616.5 1630,-616.5 1668,-616.5 1668,-616.5 1674,-616.5 1680,-622.5 1680,-628.5 1680,-628.5 1680,-657.5 1680,-657.5 1680,-663.5 1674,-669.5 1668,-669.5\"/>\n<text text-anchor=\"middle\" x=\"1649\" y=\"-654.3\" font-family=\"Helvetica,sans-Serif\" font-size=\"14.00\">4</text>\n<text text-anchor=\"middle\" x=\"1649\" y=\"-639.3\" font-family=\"Helvetica,sans-Serif\" font-size=\"14.00\">[0, 0, 4]</text>\n<text text-anchor=\"middle\" x=\"1649\" y=\"-624.3\" font-family=\"Helvetica,sans-Serif\" font-size=\"14.00\">2</text>\n</g>\n<!-- 50&#45;&gt;51 -->\n<g id=\"edge51\" class=\"edge\">\n<title>50&#45;&gt;51</title>\n<path fill=\"none\" stroke=\"black\" d=\"M1649,-712.88C1649,-702.33 1649,-690.6 1649,-679.85\"/>\n<polygon fill=\"black\" stroke=\"black\" points=\"1652.5,-679.52 1649,-669.52 1645.5,-679.52 1652.5,-679.52\"/>\n</g>\n<!-- 52 -->\n<g id=\"node53\" class=\"node\">\n<title>52</title>\n<path fill=\"#d7fae6\" stroke=\"black\" d=\"M1877,-677C1877,-677 1749,-677 1749,-677 1743,-677 1737,-671 1737,-665 1737,-665 1737,-621 1737,-621 1737,-615 1743,-609 1749,-609 1749,-609 1877,-609 1877,-609 1883,-609 1889,-615 1889,-621 1889,-621 1889,-665 1889,-665 1889,-671 1883,-677 1877,-677\"/>\n<text text-anchor=\"middle\" x=\"1813\" y=\"-661.8\" font-family=\"Helvetica,sans-Serif\" font-size=\"14.00\">self_esteem &lt;= &#45;1.368</text>\n<text text-anchor=\"middle\" x=\"1813\" y=\"-646.8\" font-family=\"Helvetica,sans-Serif\" font-size=\"14.00\">8</text>\n<text text-anchor=\"middle\" x=\"1813\" y=\"-631.8\" font-family=\"Helvetica,sans-Serif\" font-size=\"14.00\">[3, 4, 1]</text>\n<text text-anchor=\"middle\" x=\"1813\" y=\"-616.8\" font-family=\"Helvetica,sans-Serif\" font-size=\"14.00\">1</text>\n</g>\n<!-- 50&#45;&gt;52 -->\n<g id=\"edge52\" class=\"edge\">\n<title>50&#45;&gt;52</title>\n<path fill=\"none\" stroke=\"black\" d=\"M1702.25,-712.88C1717.79,-703.21 1734.92,-692.56 1750.96,-682.59\"/>\n<polygon fill=\"black\" stroke=\"black\" points=\"1753.1,-685.38 1759.74,-677.12 1749.4,-679.43 1753.1,-685.38\"/>\n</g>\n<!-- 53 -->\n<g id=\"node54\" class=\"node\">\n<title>53</title>\n<path fill=\"#39e581\" stroke=\"black\" d=\"M1832,-565.5C1832,-565.5 1794,-565.5 1794,-565.5 1788,-565.5 1782,-559.5 1782,-553.5 1782,-553.5 1782,-524.5 1782,-524.5 1782,-518.5 1788,-512.5 1794,-512.5 1794,-512.5 1832,-512.5 1832,-512.5 1838,-512.5 1844,-518.5 1844,-524.5 1844,-524.5 1844,-553.5 1844,-553.5 1844,-559.5 1838,-565.5 1832,-565.5\"/>\n<text text-anchor=\"middle\" x=\"1813\" y=\"-550.3\" font-family=\"Helvetica,sans-Serif\" font-size=\"14.00\">4</text>\n<text text-anchor=\"middle\" x=\"1813\" y=\"-535.3\" font-family=\"Helvetica,sans-Serif\" font-size=\"14.00\">[0, 4, 0]</text>\n<text text-anchor=\"middle\" x=\"1813\" y=\"-520.3\" font-family=\"Helvetica,sans-Serif\" font-size=\"14.00\">1</text>\n</g>\n<!-- 52&#45;&gt;53 -->\n<g id=\"edge53\" class=\"edge\">\n<title>52&#45;&gt;53</title>\n<path fill=\"none\" stroke=\"black\" d=\"M1813,-608.88C1813,-598.33 1813,-586.6 1813,-575.85\"/>\n<polygon fill=\"black\" stroke=\"black\" points=\"1816.5,-575.52 1813,-565.52 1809.5,-575.52 1816.5,-575.52\"/>\n</g>\n<!-- 54 -->\n<g id=\"node55\" class=\"node\">\n<title>54</title>\n<path fill=\"#eeab7b\" stroke=\"black\" d=\"M2038,-573C2038,-573 1874,-573 1874,-573 1868,-573 1862,-567 1862,-561 1862,-561 1862,-517 1862,-517 1862,-511 1868,-505 1874,-505 1874,-505 2038,-505 2038,-505 2044,-505 2050,-511 2050,-517 2050,-517 2050,-561 2050,-561 2050,-567 2044,-573 2038,-573\"/>\n<text text-anchor=\"middle\" x=\"1956\" y=\"-557.8\" font-family=\"Helvetica,sans-Serif\" font-size=\"14.00\">breathing_problem &lt;= 1.226</text>\n<text text-anchor=\"middle\" x=\"1956\" y=\"-542.8\" font-family=\"Helvetica,sans-Serif\" font-size=\"14.00\">4</text>\n<text text-anchor=\"middle\" x=\"1956\" y=\"-527.8\" font-family=\"Helvetica,sans-Serif\" font-size=\"14.00\">[3, 0, 1]</text>\n<text text-anchor=\"middle\" x=\"1956\" y=\"-512.8\" font-family=\"Helvetica,sans-Serif\" font-size=\"14.00\">0</text>\n</g>\n<!-- 52&#45;&gt;54 -->\n<g id=\"edge54\" class=\"edge\">\n<title>52&#45;&gt;54</title>\n<path fill=\"none\" stroke=\"black\" d=\"M1859.43,-608.88C1872.67,-599.44 1887.21,-589.06 1900.91,-579.29\"/>\n<polygon fill=\"black\" stroke=\"black\" points=\"1903.21,-581.96 1909.32,-573.3 1899.14,-576.26 1903.21,-581.96\"/>\n</g>\n<!-- 55 -->\n<g id=\"node56\" class=\"node\">\n<title>55</title>\n<path fill=\"#e58139\" stroke=\"black\" d=\"M1935,-461.5C1935,-461.5 1897,-461.5 1897,-461.5 1891,-461.5 1885,-455.5 1885,-449.5 1885,-449.5 1885,-420.5 1885,-420.5 1885,-414.5 1891,-408.5 1897,-408.5 1897,-408.5 1935,-408.5 1935,-408.5 1941,-408.5 1947,-414.5 1947,-420.5 1947,-420.5 1947,-449.5 1947,-449.5 1947,-455.5 1941,-461.5 1935,-461.5\"/>\n<text text-anchor=\"middle\" x=\"1916\" y=\"-446.3\" font-family=\"Helvetica,sans-Serif\" font-size=\"14.00\">3</text>\n<text text-anchor=\"middle\" x=\"1916\" y=\"-431.3\" font-family=\"Helvetica,sans-Serif\" font-size=\"14.00\">[3, 0, 0]</text>\n<text text-anchor=\"middle\" x=\"1916\" y=\"-416.3\" font-family=\"Helvetica,sans-Serif\" font-size=\"14.00\">0</text>\n</g>\n<!-- 54&#45;&gt;55 -->\n<g id=\"edge55\" class=\"edge\">\n<title>54&#45;&gt;55</title>\n<path fill=\"none\" stroke=\"black\" d=\"M1943.01,-504.88C1938.74,-494 1933.99,-481.86 1929.67,-470.85\"/>\n<polygon fill=\"black\" stroke=\"black\" points=\"1932.92,-469.55 1926.01,-461.52 1926.4,-472.11 1932.92,-469.55\"/>\n</g>\n<!-- 56 -->\n<g id=\"node57\" class=\"node\">\n<title>56</title>\n<path fill=\"#8139e5\" stroke=\"black\" d=\"M2015,-461.5C2015,-461.5 1977,-461.5 1977,-461.5 1971,-461.5 1965,-455.5 1965,-449.5 1965,-449.5 1965,-420.5 1965,-420.5 1965,-414.5 1971,-408.5 1977,-408.5 1977,-408.5 2015,-408.5 2015,-408.5 2021,-408.5 2027,-414.5 2027,-420.5 2027,-420.5 2027,-449.5 2027,-449.5 2027,-455.5 2021,-461.5 2015,-461.5\"/>\n<text text-anchor=\"middle\" x=\"1996\" y=\"-446.3\" font-family=\"Helvetica,sans-Serif\" font-size=\"14.00\">1</text>\n<text text-anchor=\"middle\" x=\"1996\" y=\"-431.3\" font-family=\"Helvetica,sans-Serif\" font-size=\"14.00\">[0, 0, 1]</text>\n<text text-anchor=\"middle\" x=\"1996\" y=\"-416.3\" font-family=\"Helvetica,sans-Serif\" font-size=\"14.00\">2</text>\n</g>\n<!-- 54&#45;&gt;56 -->\n<g id=\"edge56\" class=\"edge\">\n<title>54&#45;&gt;56</title>\n<path fill=\"none\" stroke=\"black\" d=\"M1968.99,-504.88C1973.26,-494 1978.01,-481.86 1982.33,-470.85\"/>\n<polygon fill=\"black\" stroke=\"black\" points=\"1985.6,-472.11 1985.99,-461.52 1979.08,-469.55 1985.6,-472.11\"/>\n</g>\n<!-- 58 -->\n<g id=\"node59\" class=\"node\">\n<title>58</title>\n<path fill=\"#39e581\" stroke=\"black\" d=\"M1790,-773.5C1790,-773.5 1752,-773.5 1752,-773.5 1746,-773.5 1740,-767.5 1740,-761.5 1740,-761.5 1740,-732.5 1740,-732.5 1740,-726.5 1746,-720.5 1752,-720.5 1752,-720.5 1790,-720.5 1790,-720.5 1796,-720.5 1802,-726.5 1802,-732.5 1802,-732.5 1802,-761.5 1802,-761.5 1802,-767.5 1796,-773.5 1790,-773.5\"/>\n<text text-anchor=\"middle\" x=\"1771\" y=\"-758.3\" font-family=\"Helvetica,sans-Serif\" font-size=\"14.00\">1</text>\n<text text-anchor=\"middle\" x=\"1771\" y=\"-743.3\" font-family=\"Helvetica,sans-Serif\" font-size=\"14.00\">[0, 1, 0]</text>\n<text text-anchor=\"middle\" x=\"1771\" y=\"-728.3\" font-family=\"Helvetica,sans-Serif\" font-size=\"14.00\">1</text>\n</g>\n<!-- 57&#45;&gt;58 -->\n<g id=\"edge58\" class=\"edge\">\n<title>57&#45;&gt;58</title>\n<path fill=\"none\" stroke=\"black\" d=\"M1777.75,-816.88C1776.71,-806.22 1775.54,-794.35 1774.48,-783.52\"/>\n<polygon fill=\"black\" stroke=\"black\" points=\"1777.96,-783.13 1773.5,-773.52 1770.99,-783.81 1777.96,-783.13\"/>\n</g>\n<!-- 59 -->\n<g id=\"node60\" class=\"node\">\n<title>59</title>\n<path fill=\"#e58139\" stroke=\"black\" d=\"M1870,-773.5C1870,-773.5 1832,-773.5 1832,-773.5 1826,-773.5 1820,-767.5 1820,-761.5 1820,-761.5 1820,-732.5 1820,-732.5 1820,-726.5 1826,-720.5 1832,-720.5 1832,-720.5 1870,-720.5 1870,-720.5 1876,-720.5 1882,-726.5 1882,-732.5 1882,-732.5 1882,-761.5 1882,-761.5 1882,-767.5 1876,-773.5 1870,-773.5\"/>\n<text text-anchor=\"middle\" x=\"1851\" y=\"-758.3\" font-family=\"Helvetica,sans-Serif\" font-size=\"14.00\">5</text>\n<text text-anchor=\"middle\" x=\"1851\" y=\"-743.3\" font-family=\"Helvetica,sans-Serif\" font-size=\"14.00\">[5, 0, 0]</text>\n<text text-anchor=\"middle\" x=\"1851\" y=\"-728.3\" font-family=\"Helvetica,sans-Serif\" font-size=\"14.00\">0</text>\n</g>\n<!-- 57&#45;&gt;59 -->\n<g id=\"edge59\" class=\"edge\">\n<title>57&#45;&gt;59</title>\n<path fill=\"none\" stroke=\"black\" d=\"M1803.73,-816.88C1811.43,-805.67 1820.03,-793.13 1827.77,-781.85\"/>\n<polygon fill=\"black\" stroke=\"black\" points=\"1830.71,-783.75 1833.49,-773.52 1824.94,-779.78 1830.71,-783.75\"/>\n</g>\n<!-- 61 -->\n<g id=\"node62\" class=\"node\">\n<title>61</title>\n<path fill=\"#e58139\" stroke=\"black\" d=\"M1831.5,-981.5C1831.5,-981.5 1778.5,-981.5 1778.5,-981.5 1772.5,-981.5 1766.5,-975.5 1766.5,-969.5 1766.5,-969.5 1766.5,-940.5 1766.5,-940.5 1766.5,-934.5 1772.5,-928.5 1778.5,-928.5 1778.5,-928.5 1831.5,-928.5 1831.5,-928.5 1837.5,-928.5 1843.5,-934.5 1843.5,-940.5 1843.5,-940.5 1843.5,-969.5 1843.5,-969.5 1843.5,-975.5 1837.5,-981.5 1831.5,-981.5\"/>\n<text text-anchor=\"middle\" x=\"1805\" y=\"-966.3\" font-family=\"Helvetica,sans-Serif\" font-size=\"14.00\">238</text>\n<text text-anchor=\"middle\" x=\"1805\" y=\"-951.3\" font-family=\"Helvetica,sans-Serif\" font-size=\"14.00\">[238, 0, 0]</text>\n<text text-anchor=\"middle\" x=\"1805\" y=\"-936.3\" font-family=\"Helvetica,sans-Serif\" font-size=\"14.00\">0</text>\n</g>\n<!-- 60&#45;&gt;61 -->\n<g id=\"edge61\" class=\"edge\">\n<title>60&#45;&gt;61</title>\n<path fill=\"none\" stroke=\"black\" d=\"M1805,-1024.88C1805,-1014.33 1805,-1002.6 1805,-991.85\"/>\n<polygon fill=\"black\" stroke=\"black\" points=\"1808.5,-991.52 1805,-981.52 1801.5,-991.52 1808.5,-991.52\"/>\n</g>\n<!-- 62 -->\n<g id=\"node63\" class=\"node\">\n<title>62</title>\n<path fill=\"#fcf1e9\" stroke=\"black\" d=\"M2075.5,-989C2075.5,-989 1954.5,-989 1954.5,-989 1948.5,-989 1942.5,-983 1942.5,-977 1942.5,-977 1942.5,-933 1942.5,-933 1942.5,-927 1948.5,-921 1954.5,-921 1954.5,-921 2075.5,-921 2075.5,-921 2081.5,-921 2087.5,-927 2087.5,-933 2087.5,-933 2087.5,-977 2087.5,-977 2087.5,-983 2081.5,-989 2075.5,-989\"/>\n<text text-anchor=\"middle\" x=\"2015\" y=\"-973.8\" font-family=\"Helvetica,sans-Serif\" font-size=\"14.00\">depression &lt;= &#45;1.442</text>\n<text text-anchor=\"middle\" x=\"2015\" y=\"-958.8\" font-family=\"Helvetica,sans-Serif\" font-size=\"14.00\">81</text>\n<text text-anchor=\"middle\" x=\"2015\" y=\"-943.8\" font-family=\"Helvetica,sans-Serif\" font-size=\"14.00\">[33, 27, 21]</text>\n<text text-anchor=\"middle\" x=\"2015\" y=\"-928.8\" font-family=\"Helvetica,sans-Serif\" font-size=\"14.00\">0</text>\n</g>\n<!-- 60&#45;&gt;62 -->\n<g id=\"edge62\" class=\"edge\">\n<title>60&#45;&gt;62</title>\n<path fill=\"none\" stroke=\"black\" d=\"M1873.18,-1024.88C1893.73,-1014.9 1916.44,-1003.87 1937.55,-993.62\"/>\n<polygon fill=\"black\" stroke=\"black\" points=\"1939.34,-996.64 1946.8,-989.12 1936.28,-990.35 1939.34,-996.64\"/>\n</g>\n<!-- 63 -->\n<g id=\"node64\" class=\"node\">\n<title>63</title>\n<path fill=\"#a572ec\" stroke=\"black\" d=\"M2077,-885C2077,-885 1953,-885 1953,-885 1947,-885 1941,-879 1941,-873 1941,-873 1941,-829 1941,-829 1941,-823 1947,-817 1953,-817 1953,-817 2077,-817 2077,-817 2083,-817 2089,-823 2089,-829 2089,-829 2089,-873 2089,-873 2089,-879 2083,-885 2077,-885\"/>\n<text text-anchor=\"middle\" x=\"2015\" y=\"-869.8\" font-family=\"Helvetica,sans-Serif\" font-size=\"14.00\">self_esteem &lt;= 1.135</text>\n<text text-anchor=\"middle\" x=\"2015\" y=\"-854.8\" font-family=\"Helvetica,sans-Serif\" font-size=\"14.00\">8</text>\n<text text-anchor=\"middle\" x=\"2015\" y=\"-839.8\" font-family=\"Helvetica,sans-Serif\" font-size=\"14.00\">[1, 1, 6]</text>\n<text text-anchor=\"middle\" x=\"2015\" y=\"-824.8\" font-family=\"Helvetica,sans-Serif\" font-size=\"14.00\">2</text>\n</g>\n<!-- 62&#45;&gt;63 -->\n<g id=\"edge63\" class=\"edge\">\n<title>62&#45;&gt;63</title>\n<path fill=\"none\" stroke=\"black\" d=\"M2015,-920.88C2015,-912.78 2015,-903.98 2015,-895.47\"/>\n<polygon fill=\"black\" stroke=\"black\" points=\"2018.5,-895.3 2015,-885.3 2011.5,-895.3 2018.5,-895.3\"/>\n</g>\n<!-- 68 -->\n<g id=\"node69\" class=\"node\">\n<title>68</title>\n<path fill=\"#fcefe6\" stroke=\"black\" d=\"M2329,-885C2329,-885 2195,-885 2195,-885 2189,-885 2183,-879 2183,-873 2183,-873 2183,-829 2183,-829 2183,-823 2189,-817 2195,-817 2195,-817 2329,-817 2329,-817 2335,-817 2341,-823 2341,-829 2341,-829 2341,-873 2341,-873 2341,-879 2335,-885 2329,-885\"/>\n<text text-anchor=\"middle\" x=\"2262\" y=\"-869.8\" font-family=\"Helvetica,sans-Serif\" font-size=\"14.00\">sleep_quality &lt;= &#45;0.752</text>\n<text text-anchor=\"middle\" x=\"2262\" y=\"-854.8\" font-family=\"Helvetica,sans-Serif\" font-size=\"14.00\">73</text>\n<text text-anchor=\"middle\" x=\"2262\" y=\"-839.8\" font-family=\"Helvetica,sans-Serif\" font-size=\"14.00\">[32, 26, 15]</text>\n<text text-anchor=\"middle\" x=\"2262\" y=\"-824.8\" font-family=\"Helvetica,sans-Serif\" font-size=\"14.00\">0</text>\n</g>\n<!-- 62&#45;&gt;68 -->\n<g id=\"edge68\" class=\"edge\">\n<title>62&#45;&gt;68</title>\n<path fill=\"none\" stroke=\"black\" d=\"M2087.77,-923.95C2114.62,-912.86 2145.34,-900.18 2173.43,-888.57\"/>\n<polygon fill=\"black\" stroke=\"black\" points=\"2174.94,-891.74 2182.85,-884.69 2172.27,-885.27 2174.94,-891.74\"/>\n</g>\n<!-- 64 -->\n<g id=\"node65\" class=\"node\">\n<title>64</title>\n<path fill=\"#8139e5\" stroke=\"black\" d=\"M1950,-773.5C1950,-773.5 1912,-773.5 1912,-773.5 1906,-773.5 1900,-767.5 1900,-761.5 1900,-761.5 1900,-732.5 1900,-732.5 1900,-726.5 1906,-720.5 1912,-720.5 1912,-720.5 1950,-720.5 1950,-720.5 1956,-720.5 1962,-726.5 1962,-732.5 1962,-732.5 1962,-761.5 1962,-761.5 1962,-767.5 1956,-773.5 1950,-773.5\"/>\n<text text-anchor=\"middle\" x=\"1931\" y=\"-758.3\" font-family=\"Helvetica,sans-Serif\" font-size=\"14.00\">6</text>\n<text text-anchor=\"middle\" x=\"1931\" y=\"-743.3\" font-family=\"Helvetica,sans-Serif\" font-size=\"14.00\">[0, 0, 6]</text>\n<text text-anchor=\"middle\" x=\"1931\" y=\"-728.3\" font-family=\"Helvetica,sans-Serif\" font-size=\"14.00\">2</text>\n</g>\n<!-- 63&#45;&gt;64 -->\n<g id=\"edge64\" class=\"edge\">\n<title>63&#45;&gt;64</title>\n<path fill=\"none\" stroke=\"black\" d=\"M1987.73,-816.88C1978.4,-805.56 1967.96,-792.88 1958.61,-781.52\"/>\n<polygon fill=\"black\" stroke=\"black\" points=\"1961.08,-779.01 1952.02,-773.52 1955.67,-783.46 1961.08,-779.01\"/>\n</g>\n<!-- 65 -->\n<g id=\"node66\" class=\"node\">\n<title>65</title>\n<path fill=\"#ffffff\" stroke=\"black\" d=\"M2120,-781C2120,-781 1992,-781 1992,-781 1986,-781 1980,-775 1980,-769 1980,-769 1980,-725 1980,-725 1980,-719 1986,-713 1992,-713 1992,-713 2120,-713 2120,-713 2126,-713 2132,-719 2132,-725 2132,-725 2132,-769 2132,-769 2132,-775 2126,-781 2120,-781\"/>\n<text text-anchor=\"middle\" x=\"2056\" y=\"-765.8\" font-family=\"Helvetica,sans-Serif\" font-size=\"14.00\">anxiety_level &lt;= 0.403</text>\n<text text-anchor=\"middle\" x=\"2056\" y=\"-750.8\" font-family=\"Helvetica,sans-Serif\" font-size=\"14.00\">2</text>\n<text text-anchor=\"middle\" x=\"2056\" y=\"-735.8\" font-family=\"Helvetica,sans-Serif\" font-size=\"14.00\">[1, 1, 0]</text>\n<text text-anchor=\"middle\" x=\"2056\" y=\"-720.8\" font-family=\"Helvetica,sans-Serif\" font-size=\"14.00\">0</text>\n</g>\n<!-- 63&#45;&gt;65 -->\n<g id=\"edge65\" class=\"edge\">\n<title>63&#45;&gt;65</title>\n<path fill=\"none\" stroke=\"black\" d=\"M2028.31,-816.88C2031.68,-808.51 2035.34,-799.4 2038.86,-790.63\"/>\n<polygon fill=\"black\" stroke=\"black\" points=\"2042.13,-791.88 2042.61,-781.3 2035.64,-789.27 2042.13,-791.88\"/>\n</g>\n<!-- 66 -->\n<g id=\"node67\" class=\"node\">\n<title>66</title>\n<path fill=\"#39e581\" stroke=\"black\" d=\"M1995,-669.5C1995,-669.5 1957,-669.5 1957,-669.5 1951,-669.5 1945,-663.5 1945,-657.5 1945,-657.5 1945,-628.5 1945,-628.5 1945,-622.5 1951,-616.5 1957,-616.5 1957,-616.5 1995,-616.5 1995,-616.5 2001,-616.5 2007,-622.5 2007,-628.5 2007,-628.5 2007,-657.5 2007,-657.5 2007,-663.5 2001,-669.5 1995,-669.5\"/>\n<text text-anchor=\"middle\" x=\"1976\" y=\"-654.3\" font-family=\"Helvetica,sans-Serif\" font-size=\"14.00\">1</text>\n<text text-anchor=\"middle\" x=\"1976\" y=\"-639.3\" font-family=\"Helvetica,sans-Serif\" font-size=\"14.00\">[0, 1, 0]</text>\n<text text-anchor=\"middle\" x=\"1976\" y=\"-624.3\" font-family=\"Helvetica,sans-Serif\" font-size=\"14.00\">1</text>\n</g>\n<!-- 65&#45;&gt;66 -->\n<g id=\"edge66\" class=\"edge\">\n<title>65&#45;&gt;66</title>\n<path fill=\"none\" stroke=\"black\" d=\"M2030.03,-712.88C2021.14,-701.56 2011.2,-688.88 2002.29,-677.52\"/>\n<polygon fill=\"black\" stroke=\"black\" points=\"2004.94,-675.23 1996.02,-669.52 1999.43,-679.55 2004.94,-675.23\"/>\n</g>\n<!-- 67 -->\n<g id=\"node68\" class=\"node\">\n<title>67</title>\n<path fill=\"#e58139\" stroke=\"black\" d=\"M2075,-669.5C2075,-669.5 2037,-669.5 2037,-669.5 2031,-669.5 2025,-663.5 2025,-657.5 2025,-657.5 2025,-628.5 2025,-628.5 2025,-622.5 2031,-616.5 2037,-616.5 2037,-616.5 2075,-616.5 2075,-616.5 2081,-616.5 2087,-622.5 2087,-628.5 2087,-628.5 2087,-657.5 2087,-657.5 2087,-663.5 2081,-669.5 2075,-669.5\"/>\n<text text-anchor=\"middle\" x=\"2056\" y=\"-654.3\" font-family=\"Helvetica,sans-Serif\" font-size=\"14.00\">1</text>\n<text text-anchor=\"middle\" x=\"2056\" y=\"-639.3\" font-family=\"Helvetica,sans-Serif\" font-size=\"14.00\">[1, 0, 0]</text>\n<text text-anchor=\"middle\" x=\"2056\" y=\"-624.3\" font-family=\"Helvetica,sans-Serif\" font-size=\"14.00\">0</text>\n</g>\n<!-- 65&#45;&gt;67 -->\n<g id=\"edge67\" class=\"edge\">\n<title>65&#45;&gt;67</title>\n<path fill=\"none\" stroke=\"black\" d=\"M2056,-712.88C2056,-702.33 2056,-690.6 2056,-679.85\"/>\n<polygon fill=\"black\" stroke=\"black\" points=\"2059.5,-679.52 2056,-669.52 2052.5,-679.52 2059.5,-679.52\"/>\n</g>\n<!-- 69 -->\n<g id=\"node70\" class=\"node\">\n<title>69</title>\n<path fill=\"#e0cef8\" stroke=\"black\" d=\"M2322.5,-781C2322.5,-781 2201.5,-781 2201.5,-781 2195.5,-781 2189.5,-775 2189.5,-769 2189.5,-769 2189.5,-725 2189.5,-725 2189.5,-719 2195.5,-713 2201.5,-713 2201.5,-713 2322.5,-713 2322.5,-713 2328.5,-713 2334.5,-719 2334.5,-725 2334.5,-725 2334.5,-769 2334.5,-769 2334.5,-775 2328.5,-781 2322.5,-781\"/>\n<text text-anchor=\"middle\" x=\"2262\" y=\"-765.8\" font-family=\"Helvetica,sans-Serif\" font-size=\"14.00\">depression &lt;= &#45;0.525</text>\n<text text-anchor=\"middle\" x=\"2262\" y=\"-750.8\" font-family=\"Helvetica,sans-Serif\" font-size=\"14.00\">17</text>\n<text text-anchor=\"middle\" x=\"2262\" y=\"-735.8\" font-family=\"Helvetica,sans-Serif\" font-size=\"14.00\">[4, 5, 8]</text>\n<text text-anchor=\"middle\" x=\"2262\" y=\"-720.8\" font-family=\"Helvetica,sans-Serif\" font-size=\"14.00\">2</text>\n</g>\n<!-- 68&#45;&gt;69 -->\n<g id=\"edge69\" class=\"edge\">\n<title>68&#45;&gt;69</title>\n<path fill=\"none\" stroke=\"black\" d=\"M2262,-816.88C2262,-808.78 2262,-799.98 2262,-791.47\"/>\n<polygon fill=\"black\" stroke=\"black\" points=\"2265.5,-791.3 2262,-781.3 2258.5,-791.3 2265.5,-791.3\"/>\n</g>\n<!-- 80 -->\n<g id=\"node81\" class=\"node\">\n<title>80</title>\n<path fill=\"#fae6d7\" stroke=\"black\" d=\"M2687.5,-781C2687.5,-781 2558.5,-781 2558.5,-781 2552.5,-781 2546.5,-775 2546.5,-769 2546.5,-769 2546.5,-725 2546.5,-725 2546.5,-719 2552.5,-713 2558.5,-713 2558.5,-713 2687.5,-713 2687.5,-713 2693.5,-713 2699.5,-719 2699.5,-725 2699.5,-725 2699.5,-769 2699.5,-769 2699.5,-775 2693.5,-781 2687.5,-781\"/>\n<text text-anchor=\"middle\" x=\"2623\" y=\"-765.8\" font-family=\"Helvetica,sans-Serif\" font-size=\"14.00\">sleep_quality &lt;= 0.551</text>\n<text text-anchor=\"middle\" x=\"2623\" y=\"-750.8\" font-family=\"Helvetica,sans-Serif\" font-size=\"14.00\">56</text>\n<text text-anchor=\"middle\" x=\"2623\" y=\"-735.8\" font-family=\"Helvetica,sans-Serif\" font-size=\"14.00\">[28, 21, 7]</text>\n<text text-anchor=\"middle\" x=\"2623\" y=\"-720.8\" font-family=\"Helvetica,sans-Serif\" font-size=\"14.00\">0</text>\n</g>\n<!-- 68&#45;&gt;80 -->\n<g id=\"edge80\" class=\"edge\">\n<title>68&#45;&gt;80</title>\n<path fill=\"none\" stroke=\"black\" d=\"M2341.22,-827.62C2399.03,-811.28 2477.31,-789.16 2536.7,-772.38\"/>\n<polygon fill=\"black\" stroke=\"black\" points=\"2537.77,-775.72 2546.44,-769.63 2535.86,-768.98 2537.77,-775.72\"/>\n</g>\n<!-- 70 -->\n<g id=\"node71\" class=\"node\">\n<title>70</title>\n<path fill=\"#39e581\" stroke=\"black\" d=\"M2155,-669.5C2155,-669.5 2117,-669.5 2117,-669.5 2111,-669.5 2105,-663.5 2105,-657.5 2105,-657.5 2105,-628.5 2105,-628.5 2105,-622.5 2111,-616.5 2117,-616.5 2117,-616.5 2155,-616.5 2155,-616.5 2161,-616.5 2167,-622.5 2167,-628.5 2167,-628.5 2167,-657.5 2167,-657.5 2167,-663.5 2161,-669.5 2155,-669.5\"/>\n<text text-anchor=\"middle\" x=\"2136\" y=\"-654.3\" font-family=\"Helvetica,sans-Serif\" font-size=\"14.00\">3</text>\n<text text-anchor=\"middle\" x=\"2136\" y=\"-639.3\" font-family=\"Helvetica,sans-Serif\" font-size=\"14.00\">[0, 3, 0]</text>\n<text text-anchor=\"middle\" x=\"2136\" y=\"-624.3\" font-family=\"Helvetica,sans-Serif\" font-size=\"14.00\">1</text>\n</g>\n<!-- 69&#45;&gt;70 -->\n<g id=\"edge70\" class=\"edge\">\n<title>69&#45;&gt;70</title>\n<path fill=\"none\" stroke=\"black\" d=\"M2220.35,-712.77C2206.24,-701.46 2190.4,-688.72 2176,-677 2175.63,-676.7 2175.26,-676.4 2174.89,-676.1\"/>\n<polygon fill=\"black\" stroke=\"black\" points=\"2176.93,-673.24 2166.97,-669.62 2172.5,-678.66 2176.93,-673.24\"/>\n</g>\n<!-- 71 -->\n<g id=\"node72\" class=\"node\">\n<title>71</title>\n<path fill=\"#cdb0f5\" stroke=\"black\" d=\"M2394.5,-677C2394.5,-677 2197.5,-677 2197.5,-677 2191.5,-677 2185.5,-671 2185.5,-665 2185.5,-665 2185.5,-621 2185.5,-621 2185.5,-615 2191.5,-609 2197.5,-609 2197.5,-609 2394.5,-609 2394.5,-609 2400.5,-609 2406.5,-615 2406.5,-621 2406.5,-621 2406.5,-665 2406.5,-665 2406.5,-671 2400.5,-677 2394.5,-677\"/>\n<text text-anchor=\"middle\" x=\"2296\" y=\"-661.8\" font-family=\"Helvetica,sans-Serif\" font-size=\"14.00\">academic_performance &lt;= &#45;1.598</text>\n<text text-anchor=\"middle\" x=\"2296\" y=\"-646.8\" font-family=\"Helvetica,sans-Serif\" font-size=\"14.00\">14</text>\n<text text-anchor=\"middle\" x=\"2296\" y=\"-631.8\" font-family=\"Helvetica,sans-Serif\" font-size=\"14.00\">[4, 2, 8]</text>\n<text text-anchor=\"middle\" x=\"2296\" y=\"-616.8\" font-family=\"Helvetica,sans-Serif\" font-size=\"14.00\">2</text>\n</g>\n<!-- 69&#45;&gt;71 -->\n<g id=\"edge71\" class=\"edge\">\n<title>69&#45;&gt;71</title>\n<path fill=\"none\" stroke=\"black\" d=\"M2273.04,-712.88C2275.8,-704.6 2278.8,-695.6 2281.7,-686.91\"/>\n<polygon fill=\"black\" stroke=\"black\" points=\"2285.06,-687.89 2284.9,-677.3 2278.42,-685.68 2285.06,-687.89\"/>\n</g>\n<!-- 72 -->\n<g id=\"node73\" class=\"node\">\n<title>72</title>\n<path fill=\"#e58139\" stroke=\"black\" d=\"M2189,-565.5C2189,-565.5 2151,-565.5 2151,-565.5 2145,-565.5 2139,-559.5 2139,-553.5 2139,-553.5 2139,-524.5 2139,-524.5 2139,-518.5 2145,-512.5 2151,-512.5 2151,-512.5 2189,-512.5 2189,-512.5 2195,-512.5 2201,-518.5 2201,-524.5 2201,-524.5 2201,-553.5 2201,-553.5 2201,-559.5 2195,-565.5 2189,-565.5\"/>\n<text text-anchor=\"middle\" x=\"2170\" y=\"-550.3\" font-family=\"Helvetica,sans-Serif\" font-size=\"14.00\">3</text>\n<text text-anchor=\"middle\" x=\"2170\" y=\"-535.3\" font-family=\"Helvetica,sans-Serif\" font-size=\"14.00\">[3, 0, 0]</text>\n<text text-anchor=\"middle\" x=\"2170\" y=\"-520.3\" font-family=\"Helvetica,sans-Serif\" font-size=\"14.00\">0</text>\n</g>\n<!-- 71&#45;&gt;72 -->\n<g id=\"edge72\" class=\"edge\">\n<title>71&#45;&gt;72</title>\n<path fill=\"none\" stroke=\"black\" d=\"M2254.35,-608.77C2240.24,-597.46 2224.4,-584.72 2210,-573 2209.63,-572.7 2209.26,-572.4 2208.89,-572.1\"/>\n<polygon fill=\"black\" stroke=\"black\" points=\"2210.93,-569.24 2200.97,-565.62 2206.5,-574.66 2210.93,-569.24\"/>\n</g>\n<!-- 73 -->\n<g id=\"node74\" class=\"node\">\n<title>73</title>\n<path fill=\"#ab7bee\" stroke=\"black\" d=\"M2361,-573C2361,-573 2231,-573 2231,-573 2225,-573 2219,-567 2219,-561 2219,-561 2219,-517 2219,-517 2219,-511 2225,-505 2231,-505 2231,-505 2361,-505 2361,-505 2367,-505 2373,-511 2373,-517 2373,-517 2373,-561 2373,-561 2373,-567 2367,-573 2361,-573\"/>\n<text text-anchor=\"middle\" x=\"2296\" y=\"-557.8\" font-family=\"Helvetica,sans-Serif\" font-size=\"14.00\">peer_pressure &lt;= 0.54</text>\n<text text-anchor=\"middle\" x=\"2296\" y=\"-542.8\" font-family=\"Helvetica,sans-Serif\" font-size=\"14.00\">11</text>\n<text text-anchor=\"middle\" x=\"2296\" y=\"-527.8\" font-family=\"Helvetica,sans-Serif\" font-size=\"14.00\">[1, 2, 8]</text>\n<text text-anchor=\"middle\" x=\"2296\" y=\"-512.8\" font-family=\"Helvetica,sans-Serif\" font-size=\"14.00\">2</text>\n</g>\n<!-- 71&#45;&gt;73 -->\n<g id=\"edge73\" class=\"edge\">\n<title>71&#45;&gt;73</title>\n<path fill=\"none\" stroke=\"black\" d=\"M2296,-608.88C2296,-600.78 2296,-591.98 2296,-583.47\"/>\n<polygon fill=\"black\" stroke=\"black\" points=\"2299.5,-583.3 2296,-573.3 2292.5,-583.3 2299.5,-583.3\"/>\n</g>\n<!-- 74 -->\n<g id=\"node75\" class=\"node\">\n<title>74</title>\n<path fill=\"#8139e5\" stroke=\"black\" d=\"M2199,-461.5C2199,-461.5 2161,-461.5 2161,-461.5 2155,-461.5 2149,-455.5 2149,-449.5 2149,-449.5 2149,-420.5 2149,-420.5 2149,-414.5 2155,-408.5 2161,-408.5 2161,-408.5 2199,-408.5 2199,-408.5 2205,-408.5 2211,-414.5 2211,-420.5 2211,-420.5 2211,-449.5 2211,-449.5 2211,-455.5 2205,-461.5 2199,-461.5\"/>\n<text text-anchor=\"middle\" x=\"2180\" y=\"-446.3\" font-family=\"Helvetica,sans-Serif\" font-size=\"14.00\">7</text>\n<text text-anchor=\"middle\" x=\"2180\" y=\"-431.3\" font-family=\"Helvetica,sans-Serif\" font-size=\"14.00\">[0, 0, 7]</text>\n<text text-anchor=\"middle\" x=\"2180\" y=\"-416.3\" font-family=\"Helvetica,sans-Serif\" font-size=\"14.00\">2</text>\n</g>\n<!-- 73&#45;&gt;74 -->\n<g id=\"edge74\" class=\"edge\">\n<title>73&#45;&gt;74</title>\n<path fill=\"none\" stroke=\"black\" d=\"M2258.34,-504.88C2244.96,-493.12 2229.92,-479.89 2216.62,-468.2\"/>\n<polygon fill=\"black\" stroke=\"black\" points=\"2218.84,-465.49 2209.02,-461.52 2214.22,-470.75 2218.84,-465.49\"/>\n</g>\n<!-- 75 -->\n<g id=\"node76\" class=\"node\">\n<title>75</title>\n<path fill=\"#bdf6d5\" stroke=\"black\" d=\"M2351,-469C2351,-469 2241,-469 2241,-469 2235,-469 2229,-463 2229,-457 2229,-457 2229,-413 2229,-413 2229,-407 2235,-401 2241,-401 2241,-401 2351,-401 2351,-401 2357,-401 2363,-407 2363,-413 2363,-413 2363,-457 2363,-457 2363,-463 2357,-469 2351,-469\"/>\n<text text-anchor=\"middle\" x=\"2296\" y=\"-453.8\" font-family=\"Helvetica,sans-Serif\" font-size=\"14.00\">headache &lt;= 0.703</text>\n<text text-anchor=\"middle\" x=\"2296\" y=\"-438.8\" font-family=\"Helvetica,sans-Serif\" font-size=\"14.00\">4</text>\n<text text-anchor=\"middle\" x=\"2296\" y=\"-423.8\" font-family=\"Helvetica,sans-Serif\" font-size=\"14.00\">[1, 2, 1]</text>\n<text text-anchor=\"middle\" x=\"2296\" y=\"-408.8\" font-family=\"Helvetica,sans-Serif\" font-size=\"14.00\">1</text>\n</g>\n<!-- 73&#45;&gt;75 -->\n<g id=\"edge75\" class=\"edge\">\n<title>73&#45;&gt;75</title>\n<path fill=\"none\" stroke=\"black\" d=\"M2296,-504.88C2296,-496.78 2296,-487.98 2296,-479.47\"/>\n<polygon fill=\"black\" stroke=\"black\" points=\"2299.5,-479.3 2296,-469.3 2292.5,-479.3 2299.5,-479.3\"/>\n</g>\n<!-- 76 -->\n<g id=\"node77\" class=\"node\">\n<title>76</title>\n<path fill=\"#39e581\" stroke=\"black\" d=\"M2216,-357.5C2216,-357.5 2178,-357.5 2178,-357.5 2172,-357.5 2166,-351.5 2166,-345.5 2166,-345.5 2166,-316.5 2166,-316.5 2166,-310.5 2172,-304.5 2178,-304.5 2178,-304.5 2216,-304.5 2216,-304.5 2222,-304.5 2228,-310.5 2228,-316.5 2228,-316.5 2228,-345.5 2228,-345.5 2228,-351.5 2222,-357.5 2216,-357.5\"/>\n<text text-anchor=\"middle\" x=\"2197\" y=\"-342.3\" font-family=\"Helvetica,sans-Serif\" font-size=\"14.00\">2</text>\n<text text-anchor=\"middle\" x=\"2197\" y=\"-327.3\" font-family=\"Helvetica,sans-Serif\" font-size=\"14.00\">[0, 2, 0]</text>\n<text text-anchor=\"middle\" x=\"2197\" y=\"-312.3\" font-family=\"Helvetica,sans-Serif\" font-size=\"14.00\">1</text>\n</g>\n<!-- 75&#45;&gt;76 -->\n<g id=\"edge76\" class=\"edge\">\n<title>75&#45;&gt;76</title>\n<path fill=\"none\" stroke=\"black\" d=\"M2263.86,-400.88C2252.65,-389.34 2240.08,-376.39 2228.89,-364.86\"/>\n<polygon fill=\"black\" stroke=\"black\" points=\"2231.25,-362.26 2221.77,-357.52 2226.22,-367.13 2231.25,-362.26\"/>\n</g>\n<!-- 77 -->\n<g id=\"node78\" class=\"node\">\n<title>77</title>\n<path fill=\"#ffffff\" stroke=\"black\" d=\"M2374,-365C2374,-365 2258,-365 2258,-365 2252,-365 2246,-359 2246,-353 2246,-353 2246,-309 2246,-309 2246,-303 2252,-297 2258,-297 2258,-297 2374,-297 2374,-297 2380,-297 2386,-303 2386,-309 2386,-309 2386,-353 2386,-353 2386,-359 2380,-365 2374,-365\"/>\n<text text-anchor=\"middle\" x=\"2316\" y=\"-349.8\" font-family=\"Helvetica,sans-Serif\" font-size=\"14.00\">depression &lt;= 1.504</text>\n<text text-anchor=\"middle\" x=\"2316\" y=\"-334.8\" font-family=\"Helvetica,sans-Serif\" font-size=\"14.00\">2</text>\n<text text-anchor=\"middle\" x=\"2316\" y=\"-319.8\" font-family=\"Helvetica,sans-Serif\" font-size=\"14.00\">[1, 0, 1]</text>\n<text text-anchor=\"middle\" x=\"2316\" y=\"-304.8\" font-family=\"Helvetica,sans-Serif\" font-size=\"14.00\">0</text>\n</g>\n<!-- 75&#45;&gt;77 -->\n<g id=\"edge77\" class=\"edge\">\n<title>75&#45;&gt;77</title>\n<path fill=\"none\" stroke=\"black\" d=\"M2302.49,-400.88C2304.1,-392.69 2305.85,-383.79 2307.53,-375.19\"/>\n<polygon fill=\"black\" stroke=\"black\" points=\"2310.98,-375.79 2309.47,-365.3 2304.11,-374.44 2310.98,-375.79\"/>\n</g>\n<!-- 78 -->\n<g id=\"node79\" class=\"node\">\n<title>78</title>\n<path fill=\"#e58139\" stroke=\"black\" d=\"M2295,-253.5C2295,-253.5 2257,-253.5 2257,-253.5 2251,-253.5 2245,-247.5 2245,-241.5 2245,-241.5 2245,-212.5 2245,-212.5 2245,-206.5 2251,-200.5 2257,-200.5 2257,-200.5 2295,-200.5 2295,-200.5 2301,-200.5 2307,-206.5 2307,-212.5 2307,-212.5 2307,-241.5 2307,-241.5 2307,-247.5 2301,-253.5 2295,-253.5\"/>\n<text text-anchor=\"middle\" x=\"2276\" y=\"-238.3\" font-family=\"Helvetica,sans-Serif\" font-size=\"14.00\">1</text>\n<text text-anchor=\"middle\" x=\"2276\" y=\"-223.3\" font-family=\"Helvetica,sans-Serif\" font-size=\"14.00\">[1, 0, 0]</text>\n<text text-anchor=\"middle\" x=\"2276\" y=\"-208.3\" font-family=\"Helvetica,sans-Serif\" font-size=\"14.00\">0</text>\n</g>\n<!-- 77&#45;&gt;78 -->\n<g id=\"edge78\" class=\"edge\">\n<title>77&#45;&gt;78</title>\n<path fill=\"none\" stroke=\"black\" d=\"M2303.01,-296.88C2298.74,-286 2293.99,-273.86 2289.67,-262.85\"/>\n<polygon fill=\"black\" stroke=\"black\" points=\"2292.92,-261.55 2286.01,-253.52 2286.4,-264.11 2292.92,-261.55\"/>\n</g>\n<!-- 79 -->\n<g id=\"node80\" class=\"node\">\n<title>79</title>\n<path fill=\"#8139e5\" stroke=\"black\" d=\"M2375,-253.5C2375,-253.5 2337,-253.5 2337,-253.5 2331,-253.5 2325,-247.5 2325,-241.5 2325,-241.5 2325,-212.5 2325,-212.5 2325,-206.5 2331,-200.5 2337,-200.5 2337,-200.5 2375,-200.5 2375,-200.5 2381,-200.5 2387,-206.5 2387,-212.5 2387,-212.5 2387,-241.5 2387,-241.5 2387,-247.5 2381,-253.5 2375,-253.5\"/>\n<text text-anchor=\"middle\" x=\"2356\" y=\"-238.3\" font-family=\"Helvetica,sans-Serif\" font-size=\"14.00\">1</text>\n<text text-anchor=\"middle\" x=\"2356\" y=\"-223.3\" font-family=\"Helvetica,sans-Serif\" font-size=\"14.00\">[0, 0, 1]</text>\n<text text-anchor=\"middle\" x=\"2356\" y=\"-208.3\" font-family=\"Helvetica,sans-Serif\" font-size=\"14.00\">2</text>\n</g>\n<!-- 77&#45;&gt;79 -->\n<g id=\"edge79\" class=\"edge\">\n<title>77&#45;&gt;79</title>\n<path fill=\"none\" stroke=\"black\" d=\"M2328.99,-296.88C2333.26,-286 2338.01,-273.86 2342.33,-262.85\"/>\n<polygon fill=\"black\" stroke=\"black\" points=\"2345.6,-264.11 2345.99,-253.52 2339.08,-261.55 2345.6,-264.11\"/>\n</g>\n<!-- 81 -->\n<g id=\"node82\" class=\"node\">\n<title>81</title>\n<path fill=\"#efb388\" stroke=\"black\" d=\"M2685,-677C2685,-677 2561,-677 2561,-677 2555,-677 2549,-671 2549,-665 2549,-665 2549,-621 2549,-621 2549,-615 2555,-609 2561,-609 2561,-609 2685,-609 2685,-609 2691,-609 2697,-615 2697,-621 2697,-621 2697,-665 2697,-665 2697,-671 2691,-677 2685,-677\"/>\n<text text-anchor=\"middle\" x=\"2623\" y=\"-661.8\" font-family=\"Helvetica,sans-Serif\" font-size=\"14.00\">self_esteem &lt;= 0.468</text>\n<text text-anchor=\"middle\" x=\"2623\" y=\"-646.8\" font-family=\"Helvetica,sans-Serif\" font-size=\"14.00\">25</text>\n<text text-anchor=\"middle\" x=\"2623\" y=\"-631.8\" font-family=\"Helvetica,sans-Serif\" font-size=\"14.00\">[17, 5, 3]</text>\n<text text-anchor=\"middle\" x=\"2623\" y=\"-616.8\" font-family=\"Helvetica,sans-Serif\" font-size=\"14.00\">0</text>\n</g>\n<!-- 80&#45;&gt;81 -->\n<g id=\"edge81\" class=\"edge\">\n<title>80&#45;&gt;81</title>\n<path fill=\"none\" stroke=\"black\" d=\"M2623,-712.88C2623,-704.78 2623,-695.98 2623,-687.47\"/>\n<polygon fill=\"black\" stroke=\"black\" points=\"2626.5,-687.3 2623,-677.3 2619.5,-687.3 2626.5,-687.3\"/>\n</g>\n<!-- 96 -->\n<g id=\"node97\" class=\"node\">\n<title>96</title>\n<path fill=\"#cef8e0\" stroke=\"black\" d=\"M3003,-677C3003,-677 2879,-677 2879,-677 2873,-677 2867,-671 2867,-665 2867,-665 2867,-621 2867,-621 2867,-615 2873,-609 2879,-609 2879,-609 3003,-609 3003,-609 3009,-609 3015,-615 3015,-621 3015,-621 3015,-665 3015,-665 3015,-671 3009,-677 3003,-677\"/>\n<text text-anchor=\"middle\" x=\"2941\" y=\"-661.8\" font-family=\"Helvetica,sans-Serif\" font-size=\"14.00\">self_esteem &lt;= 0.523</text>\n<text text-anchor=\"middle\" x=\"2941\" y=\"-646.8\" font-family=\"Helvetica,sans-Serif\" font-size=\"14.00\">31</text>\n<text text-anchor=\"middle\" x=\"2941\" y=\"-631.8\" font-family=\"Helvetica,sans-Serif\" font-size=\"14.00\">[11, 16, 4]</text>\n<text text-anchor=\"middle\" x=\"2941\" y=\"-616.8\" font-family=\"Helvetica,sans-Serif\" font-size=\"14.00\">1</text>\n</g>\n<!-- 80&#45;&gt;96 -->\n<g id=\"edge96\" class=\"edge\">\n<title>80&#45;&gt;96</title>\n<path fill=\"none\" stroke=\"black\" d=\"M2699.57,-721.44C2747.13,-706.19 2808.28,-686.57 2857.13,-670.9\"/>\n<polygon fill=\"black\" stroke=\"black\" points=\"2858.28,-674.21 2866.73,-667.82 2856.14,-667.54 2858.28,-674.21\"/>\n</g>\n<!-- 82 -->\n<g id=\"node83\" class=\"node\">\n<title>82</title>\n<path fill=\"#e78c49\" stroke=\"black\" d=\"M2601.5,-573C2601.5,-573 2404.5,-573 2404.5,-573 2398.5,-573 2392.5,-567 2392.5,-561 2392.5,-561 2392.5,-517 2392.5,-517 2392.5,-511 2398.5,-505 2404.5,-505 2404.5,-505 2601.5,-505 2601.5,-505 2607.5,-505 2613.5,-511 2613.5,-517 2613.5,-517 2613.5,-561 2613.5,-561 2613.5,-567 2607.5,-573 2601.5,-573\"/>\n<text text-anchor=\"middle\" x=\"2503\" y=\"-557.8\" font-family=\"Helvetica,sans-Serif\" font-size=\"14.00\">academic_performance &lt;= &#45;0.894</text>\n<text text-anchor=\"middle\" x=\"2503\" y=\"-542.8\" font-family=\"Helvetica,sans-Serif\" font-size=\"14.00\">13</text>\n<text text-anchor=\"middle\" x=\"2503\" y=\"-527.8\" font-family=\"Helvetica,sans-Serif\" font-size=\"14.00\">[12, 1, 0]</text>\n<text text-anchor=\"middle\" x=\"2503\" y=\"-512.8\" font-family=\"Helvetica,sans-Serif\" font-size=\"14.00\">0</text>\n</g>\n<!-- 81&#45;&gt;82 -->\n<g id=\"edge82\" class=\"edge\">\n<title>81&#45;&gt;82</title>\n<path fill=\"none\" stroke=\"black\" d=\"M2584.04,-608.88C2573.14,-599.62 2561.18,-589.45 2549.88,-579.85\"/>\n<polygon fill=\"black\" stroke=\"black\" points=\"2552.06,-577.11 2542.18,-573.3 2547.53,-582.44 2552.06,-577.11\"/>\n</g>\n<!-- 87 -->\n<g id=\"node88\" class=\"node\">\n<title>87</title>\n<path fill=\"#fcefe6\" stroke=\"black\" d=\"M2840.5,-573C2840.5,-573 2643.5,-573 2643.5,-573 2637.5,-573 2631.5,-567 2631.5,-561 2631.5,-561 2631.5,-517 2631.5,-517 2631.5,-511 2637.5,-505 2643.5,-505 2643.5,-505 2840.5,-505 2840.5,-505 2846.5,-505 2852.5,-511 2852.5,-517 2852.5,-517 2852.5,-561 2852.5,-561 2852.5,-567 2846.5,-573 2840.5,-573\"/>\n<text text-anchor=\"middle\" x=\"2742\" y=\"-557.8\" font-family=\"Helvetica,sans-Serif\" font-size=\"14.00\">future_career_concerns &lt;= &#45;1.087</text>\n<text text-anchor=\"middle\" x=\"2742\" y=\"-542.8\" font-family=\"Helvetica,sans-Serif\" font-size=\"14.00\">12</text>\n<text text-anchor=\"middle\" x=\"2742\" y=\"-527.8\" font-family=\"Helvetica,sans-Serif\" font-size=\"14.00\">[5, 4, 3]</text>\n<text text-anchor=\"middle\" x=\"2742\" y=\"-512.8\" font-family=\"Helvetica,sans-Serif\" font-size=\"14.00\">0</text>\n</g>\n<!-- 81&#45;&gt;87 -->\n<g id=\"edge87\" class=\"edge\">\n<title>81&#45;&gt;87</title>\n<path fill=\"none\" stroke=\"black\" d=\"M2661.64,-608.88C2672.44,-599.62 2684.3,-589.45 2695.51,-579.85\"/>\n<polygon fill=\"black\" stroke=\"black\" points=\"2697.84,-582.46 2703.15,-573.3 2693.28,-577.15 2697.84,-582.46\"/>\n</g>\n<!-- 83 -->\n<g id=\"node84\" class=\"node\">\n<title>83</title>\n<path fill=\"#eeab7b\" stroke=\"black\" d=\"M2519,-469C2519,-469 2393,-469 2393,-469 2387,-469 2381,-463 2381,-457 2381,-457 2381,-413 2381,-413 2381,-407 2387,-401 2393,-401 2393,-401 2519,-401 2519,-401 2525,-401 2531,-407 2531,-413 2531,-413 2531,-457 2531,-457 2531,-463 2525,-469 2519,-469\"/>\n<text text-anchor=\"middle\" x=\"2456\" y=\"-453.8\" font-family=\"Helvetica,sans-Serif\" font-size=\"14.00\">basic_needs &lt;= 0.484</text>\n<text text-anchor=\"middle\" x=\"2456\" y=\"-438.8\" font-family=\"Helvetica,sans-Serif\" font-size=\"14.00\">4</text>\n<text text-anchor=\"middle\" x=\"2456\" y=\"-423.8\" font-family=\"Helvetica,sans-Serif\" font-size=\"14.00\">[3, 1, 0]</text>\n<text text-anchor=\"middle\" x=\"2456\" y=\"-408.8\" font-family=\"Helvetica,sans-Serif\" font-size=\"14.00\">0</text>\n</g>\n<!-- 82&#45;&gt;83 -->\n<g id=\"edge83\" class=\"edge\">\n<title>82&#45;&gt;83</title>\n<path fill=\"none\" stroke=\"black\" d=\"M2487.74,-504.88C2483.88,-496.51 2479.68,-487.4 2475.64,-478.63\"/>\n<polygon fill=\"black\" stroke=\"black\" points=\"2478.71,-476.92 2471.34,-469.3 2472.35,-479.85 2478.71,-476.92\"/>\n</g>\n<!-- 86 -->\n<g id=\"node87\" class=\"node\">\n<title>86</title>\n<path fill=\"#e58139\" stroke=\"black\" d=\"M2599,-461.5C2599,-461.5 2561,-461.5 2561,-461.5 2555,-461.5 2549,-455.5 2549,-449.5 2549,-449.5 2549,-420.5 2549,-420.5 2549,-414.5 2555,-408.5 2561,-408.5 2561,-408.5 2599,-408.5 2599,-408.5 2605,-408.5 2611,-414.5 2611,-420.5 2611,-420.5 2611,-449.5 2611,-449.5 2611,-455.5 2605,-461.5 2599,-461.5\"/>\n<text text-anchor=\"middle\" x=\"2580\" y=\"-446.3\" font-family=\"Helvetica,sans-Serif\" font-size=\"14.00\">9</text>\n<text text-anchor=\"middle\" x=\"2580\" y=\"-431.3\" font-family=\"Helvetica,sans-Serif\" font-size=\"14.00\">[9, 0, 0]</text>\n<text text-anchor=\"middle\" x=\"2580\" y=\"-416.3\" font-family=\"Helvetica,sans-Serif\" font-size=\"14.00\">0</text>\n</g>\n<!-- 82&#45;&gt;86 -->\n<g id=\"edge86\" class=\"edge\">\n<title>82&#45;&gt;86</title>\n<path fill=\"none\" stroke=\"black\" d=\"M2528,-504.88C2536.55,-493.56 2546.12,-480.88 2554.7,-469.52\"/>\n<polygon fill=\"black\" stroke=\"black\" points=\"2557.5,-471.61 2560.73,-461.52 2551.92,-467.39 2557.5,-471.61\"/>\n</g>\n<!-- 84 -->\n<g id=\"node85\" class=\"node\">\n<title>84</title>\n<path fill=\"#e58139\" stroke=\"black\" d=\"M2465,-357.5C2465,-357.5 2427,-357.5 2427,-357.5 2421,-357.5 2415,-351.5 2415,-345.5 2415,-345.5 2415,-316.5 2415,-316.5 2415,-310.5 2421,-304.5 2427,-304.5 2427,-304.5 2465,-304.5 2465,-304.5 2471,-304.5 2477,-310.5 2477,-316.5 2477,-316.5 2477,-345.5 2477,-345.5 2477,-351.5 2471,-357.5 2465,-357.5\"/>\n<text text-anchor=\"middle\" x=\"2446\" y=\"-342.3\" font-family=\"Helvetica,sans-Serif\" font-size=\"14.00\">3</text>\n<text text-anchor=\"middle\" x=\"2446\" y=\"-327.3\" font-family=\"Helvetica,sans-Serif\" font-size=\"14.00\">[3, 0, 0]</text>\n<text text-anchor=\"middle\" x=\"2446\" y=\"-312.3\" font-family=\"Helvetica,sans-Serif\" font-size=\"14.00\">0</text>\n</g>\n<!-- 83&#45;&gt;84 -->\n<g id=\"edge84\" class=\"edge\">\n<title>83&#45;&gt;84</title>\n<path fill=\"none\" stroke=\"black\" d=\"M2452.75,-400.88C2451.71,-390.22 2450.54,-378.35 2449.48,-367.52\"/>\n<polygon fill=\"black\" stroke=\"black\" points=\"2452.96,-367.13 2448.5,-357.52 2445.99,-367.81 2452.96,-367.13\"/>\n</g>\n<!-- 85 -->\n<g id=\"node86\" class=\"node\">\n<title>85</title>\n<path fill=\"#39e581\" stroke=\"black\" d=\"M2545,-357.5C2545,-357.5 2507,-357.5 2507,-357.5 2501,-357.5 2495,-351.5 2495,-345.5 2495,-345.5 2495,-316.5 2495,-316.5 2495,-310.5 2501,-304.5 2507,-304.5 2507,-304.5 2545,-304.5 2545,-304.5 2551,-304.5 2557,-310.5 2557,-316.5 2557,-316.5 2557,-345.5 2557,-345.5 2557,-351.5 2551,-357.5 2545,-357.5\"/>\n<text text-anchor=\"middle\" x=\"2526\" y=\"-342.3\" font-family=\"Helvetica,sans-Serif\" font-size=\"14.00\">1</text>\n<text text-anchor=\"middle\" x=\"2526\" y=\"-327.3\" font-family=\"Helvetica,sans-Serif\" font-size=\"14.00\">[0, 1, 0]</text>\n<text text-anchor=\"middle\" x=\"2526\" y=\"-312.3\" font-family=\"Helvetica,sans-Serif\" font-size=\"14.00\">1</text>\n</g>\n<!-- 83&#45;&gt;85 -->\n<g id=\"edge85\" class=\"edge\">\n<title>83&#45;&gt;85</title>\n<path fill=\"none\" stroke=\"black\" d=\"M2478.73,-400.88C2486.43,-389.67 2495.03,-377.13 2502.77,-365.85\"/>\n<polygon fill=\"black\" stroke=\"black\" points=\"2505.71,-367.75 2508.49,-357.52 2499.94,-363.78 2505.71,-367.75\"/>\n</g>\n<!-- 88 -->\n<g id=\"node89\" class=\"node\">\n<title>88</title>\n<path fill=\"#8139e5\" stroke=\"black\" d=\"M2679,-461.5C2679,-461.5 2641,-461.5 2641,-461.5 2635,-461.5 2629,-455.5 2629,-449.5 2629,-449.5 2629,-420.5 2629,-420.5 2629,-414.5 2635,-408.5 2641,-408.5 2641,-408.5 2679,-408.5 2679,-408.5 2685,-408.5 2691,-414.5 2691,-420.5 2691,-420.5 2691,-449.5 2691,-449.5 2691,-455.5 2685,-461.5 2679,-461.5\"/>\n<text text-anchor=\"middle\" x=\"2660\" y=\"-446.3\" font-family=\"Helvetica,sans-Serif\" font-size=\"14.00\">3</text>\n<text text-anchor=\"middle\" x=\"2660\" y=\"-431.3\" font-family=\"Helvetica,sans-Serif\" font-size=\"14.00\">[0, 0, 3]</text>\n<text text-anchor=\"middle\" x=\"2660\" y=\"-416.3\" font-family=\"Helvetica,sans-Serif\" font-size=\"14.00\">2</text>\n</g>\n<!-- 87&#45;&gt;88 -->\n<g id=\"edge88\" class=\"edge\">\n<title>87&#45;&gt;88</title>\n<path fill=\"none\" stroke=\"black\" d=\"M2715.38,-504.88C2706.27,-493.56 2696.08,-480.88 2686.95,-469.52\"/>\n<polygon fill=\"black\" stroke=\"black\" points=\"2689.51,-467.12 2680.52,-461.52 2684.05,-471.51 2689.51,-467.12\"/>\n</g>\n<!-- 89 -->\n<g id=\"node90\" class=\"node\">\n<title>89</title>\n<path fill=\"#fae6d7\" stroke=\"black\" d=\"M2831,-469C2831,-469 2721,-469 2721,-469 2715,-469 2709,-463 2709,-457 2709,-457 2709,-413 2709,-413 2709,-407 2715,-401 2721,-401 2721,-401 2831,-401 2831,-401 2837,-401 2843,-407 2843,-413 2843,-413 2843,-457 2843,-457 2843,-463 2837,-469 2831,-469\"/>\n<text text-anchor=\"middle\" x=\"2776\" y=\"-453.8\" font-family=\"Helvetica,sans-Serif\" font-size=\"14.00\">noise_level &lt;= 0.27</text>\n<text text-anchor=\"middle\" x=\"2776\" y=\"-438.8\" font-family=\"Helvetica,sans-Serif\" font-size=\"14.00\">9</text>\n<text text-anchor=\"middle\" x=\"2776\" y=\"-423.8\" font-family=\"Helvetica,sans-Serif\" font-size=\"14.00\">[5, 4, 0]</text>\n<text text-anchor=\"middle\" x=\"2776\" y=\"-408.8\" font-family=\"Helvetica,sans-Serif\" font-size=\"14.00\">0</text>\n</g>\n<!-- 87&#45;&gt;89 -->\n<g id=\"edge89\" class=\"edge\">\n<title>87&#45;&gt;89</title>\n<path fill=\"none\" stroke=\"black\" d=\"M2753.04,-504.88C2755.8,-496.6 2758.8,-487.6 2761.7,-478.91\"/>\n<polygon fill=\"black\" stroke=\"black\" points=\"2765.06,-479.89 2764.9,-469.3 2758.42,-477.68 2765.06,-479.89\"/>\n</g>\n<!-- 90 -->\n<g id=\"node91\" class=\"node\">\n<title>90</title>\n<path fill=\"#9cf2c0\" stroke=\"black\" d=\"M2765,-365C2765,-365 2649,-365 2649,-365 2643,-365 2637,-359 2637,-353 2637,-353 2637,-309 2637,-309 2637,-303 2643,-297 2649,-297 2649,-297 2765,-297 2765,-297 2771,-297 2777,-303 2777,-309 2777,-309 2777,-353 2777,-353 2777,-359 2771,-365 2765,-365\"/>\n<text text-anchor=\"middle\" x=\"2707\" y=\"-349.8\" font-family=\"Helvetica,sans-Serif\" font-size=\"14.00\">depression &lt;= 0.653</text>\n<text text-anchor=\"middle\" x=\"2707\" y=\"-334.8\" font-family=\"Helvetica,sans-Serif\" font-size=\"14.00\">6</text>\n<text text-anchor=\"middle\" x=\"2707\" y=\"-319.8\" font-family=\"Helvetica,sans-Serif\" font-size=\"14.00\">[2, 4, 0]</text>\n<text text-anchor=\"middle\" x=\"2707\" y=\"-304.8\" font-family=\"Helvetica,sans-Serif\" font-size=\"14.00\">1</text>\n</g>\n<!-- 89&#45;&gt;90 -->\n<g id=\"edge90\" class=\"edge\">\n<title>89&#45;&gt;90</title>\n<path fill=\"none\" stroke=\"black\" d=\"M2753.6,-400.88C2747.75,-392.24 2741.38,-382.82 2735.27,-373.79\"/>\n<polygon fill=\"black\" stroke=\"black\" points=\"2738.03,-371.62 2729.53,-365.3 2732.23,-375.54 2738.03,-371.62\"/>\n</g>\n<!-- 95 -->\n<g id=\"node96\" class=\"node\">\n<title>95</title>\n<path fill=\"#e58139\" stroke=\"black\" d=\"M2845,-357.5C2845,-357.5 2807,-357.5 2807,-357.5 2801,-357.5 2795,-351.5 2795,-345.5 2795,-345.5 2795,-316.5 2795,-316.5 2795,-310.5 2801,-304.5 2807,-304.5 2807,-304.5 2845,-304.5 2845,-304.5 2851,-304.5 2857,-310.5 2857,-316.5 2857,-316.5 2857,-345.5 2857,-345.5 2857,-351.5 2851,-357.5 2845,-357.5\"/>\n<text text-anchor=\"middle\" x=\"2826\" y=\"-342.3\" font-family=\"Helvetica,sans-Serif\" font-size=\"14.00\">3</text>\n<text text-anchor=\"middle\" x=\"2826\" y=\"-327.3\" font-family=\"Helvetica,sans-Serif\" font-size=\"14.00\">[3, 0, 0]</text>\n<text text-anchor=\"middle\" x=\"2826\" y=\"-312.3\" font-family=\"Helvetica,sans-Serif\" font-size=\"14.00\">0</text>\n</g>\n<!-- 89&#45;&gt;95 -->\n<g id=\"edge95\" class=\"edge\">\n<title>89&#45;&gt;95</title>\n<path fill=\"none\" stroke=\"black\" d=\"M2792.23,-400.88C2797.62,-389.89 2803.64,-377.62 2809.08,-366.52\"/>\n<polygon fill=\"black\" stroke=\"black\" points=\"2812.23,-368.04 2813.49,-357.52 2805.95,-364.96 2812.23,-368.04\"/>\n</g>\n<!-- 91 -->\n<g id=\"node92\" class=\"node\">\n<title>91</title>\n<path fill=\"#f2c09c\" stroke=\"black\" d=\"M2684,-261C2684,-261 2574,-261 2574,-261 2568,-261 2562,-255 2562,-249 2562,-249 2562,-205 2562,-205 2562,-199 2568,-193 2574,-193 2574,-193 2684,-193 2684,-193 2690,-193 2696,-199 2696,-205 2696,-205 2696,-249 2696,-249 2696,-255 2690,-261 2684,-261\"/>\n<text text-anchor=\"middle\" x=\"2629\" y=\"-245.8\" font-family=\"Helvetica,sans-Serif\" font-size=\"14.00\">headache &lt;= 0.703</text>\n<text text-anchor=\"middle\" x=\"2629\" y=\"-230.8\" font-family=\"Helvetica,sans-Serif\" font-size=\"14.00\">3</text>\n<text text-anchor=\"middle\" x=\"2629\" y=\"-215.8\" font-family=\"Helvetica,sans-Serif\" font-size=\"14.00\">[2, 1, 0]</text>\n<text text-anchor=\"middle\" x=\"2629\" y=\"-200.8\" font-family=\"Helvetica,sans-Serif\" font-size=\"14.00\">0</text>\n</g>\n<!-- 90&#45;&gt;91 -->\n<g id=\"edge91\" class=\"edge\">\n<title>90&#45;&gt;91</title>\n<path fill=\"none\" stroke=\"black\" d=\"M2681.68,-296.88C2675,-288.15 2667.71,-278.62 2660.75,-269.51\"/>\n<polygon fill=\"black\" stroke=\"black\" points=\"2663.32,-267.12 2654.46,-261.3 2657.76,-271.37 2663.32,-267.12\"/>\n</g>\n<!-- 94 -->\n<g id=\"node95\" class=\"node\">\n<title>94</title>\n<path fill=\"#39e581\" stroke=\"black\" d=\"M2764,-253.5C2764,-253.5 2726,-253.5 2726,-253.5 2720,-253.5 2714,-247.5 2714,-241.5 2714,-241.5 2714,-212.5 2714,-212.5 2714,-206.5 2720,-200.5 2726,-200.5 2726,-200.5 2764,-200.5 2764,-200.5 2770,-200.5 2776,-206.5 2776,-212.5 2776,-212.5 2776,-241.5 2776,-241.5 2776,-247.5 2770,-253.5 2764,-253.5\"/>\n<text text-anchor=\"middle\" x=\"2745\" y=\"-238.3\" font-family=\"Helvetica,sans-Serif\" font-size=\"14.00\">3</text>\n<text text-anchor=\"middle\" x=\"2745\" y=\"-223.3\" font-family=\"Helvetica,sans-Serif\" font-size=\"14.00\">[0, 3, 0]</text>\n<text text-anchor=\"middle\" x=\"2745\" y=\"-208.3\" font-family=\"Helvetica,sans-Serif\" font-size=\"14.00\">1</text>\n</g>\n<!-- 90&#45;&gt;94 -->\n<g id=\"edge94\" class=\"edge\">\n<title>90&#45;&gt;94</title>\n<path fill=\"none\" stroke=\"black\" d=\"M2719.34,-296.88C2723.35,-286.11 2727.82,-274.11 2731.89,-263.18\"/>\n<polygon fill=\"black\" stroke=\"black\" points=\"2735.28,-264.11 2735.49,-253.52 2728.72,-261.67 2735.28,-264.11\"/>\n</g>\n<!-- 92 -->\n<g id=\"node93\" class=\"node\">\n<title>92</title>\n<path fill=\"#e58139\" stroke=\"black\" d=\"M2627,-149.5C2627,-149.5 2589,-149.5 2589,-149.5 2583,-149.5 2577,-143.5 2577,-137.5 2577,-137.5 2577,-108.5 2577,-108.5 2577,-102.5 2583,-96.5 2589,-96.5 2589,-96.5 2627,-96.5 2627,-96.5 2633,-96.5 2639,-102.5 2639,-108.5 2639,-108.5 2639,-137.5 2639,-137.5 2639,-143.5 2633,-149.5 2627,-149.5\"/>\n<text text-anchor=\"middle\" x=\"2608\" y=\"-134.3\" font-family=\"Helvetica,sans-Serif\" font-size=\"14.00\">2</text>\n<text text-anchor=\"middle\" x=\"2608\" y=\"-119.3\" font-family=\"Helvetica,sans-Serif\" font-size=\"14.00\">[2, 0, 0]</text>\n<text text-anchor=\"middle\" x=\"2608\" y=\"-104.3\" font-family=\"Helvetica,sans-Serif\" font-size=\"14.00\">0</text>\n</g>\n<!-- 91&#45;&gt;92 -->\n<g id=\"edge92\" class=\"edge\">\n<title>91&#45;&gt;92</title>\n<path fill=\"none\" stroke=\"black\" d=\"M2622.18,-192.88C2619.99,-182.22 2617.54,-170.35 2615.31,-159.52\"/>\n<polygon fill=\"black\" stroke=\"black\" points=\"2618.7,-158.61 2613.25,-149.52 2611.84,-160.02 2618.7,-158.61\"/>\n</g>\n<!-- 93 -->\n<g id=\"node94\" class=\"node\">\n<title>93</title>\n<path fill=\"#39e581\" stroke=\"black\" d=\"M2707,-149.5C2707,-149.5 2669,-149.5 2669,-149.5 2663,-149.5 2657,-143.5 2657,-137.5 2657,-137.5 2657,-108.5 2657,-108.5 2657,-102.5 2663,-96.5 2669,-96.5 2669,-96.5 2707,-96.5 2707,-96.5 2713,-96.5 2719,-102.5 2719,-108.5 2719,-108.5 2719,-137.5 2719,-137.5 2719,-143.5 2713,-149.5 2707,-149.5\"/>\n<text text-anchor=\"middle\" x=\"2688\" y=\"-134.3\" font-family=\"Helvetica,sans-Serif\" font-size=\"14.00\">1</text>\n<text text-anchor=\"middle\" x=\"2688\" y=\"-119.3\" font-family=\"Helvetica,sans-Serif\" font-size=\"14.00\">[0, 1, 0]</text>\n<text text-anchor=\"middle\" x=\"2688\" y=\"-104.3\" font-family=\"Helvetica,sans-Serif\" font-size=\"14.00\">1</text>\n</g>\n<!-- 91&#45;&gt;93 -->\n<g id=\"edge93\" class=\"edge\">\n<title>91&#45;&gt;93</title>\n<path fill=\"none\" stroke=\"black\" d=\"M2648.16,-192.88C2654.58,-181.78 2661.76,-169.37 2668.23,-158.18\"/>\n<polygon fill=\"black\" stroke=\"black\" points=\"2671.26,-159.93 2673.24,-149.52 2665.2,-156.42 2671.26,-159.93\"/>\n</g>\n<!-- 97 -->\n<g id=\"node98\" class=\"node\">\n<title>97</title>\n<path fill=\"#4de88e\" stroke=\"black\" d=\"M2998,-573C2998,-573 2884,-573 2884,-573 2878,-573 2872,-567 2872,-561 2872,-561 2872,-517 2872,-517 2872,-511 2878,-505 2884,-505 2884,-505 2998,-505 2998,-505 3004,-505 3010,-511 3010,-517 3010,-517 3010,-561 3010,-561 3010,-567 3004,-573 2998,-573\"/>\n<text text-anchor=\"middle\" x=\"2941\" y=\"-557.8\" font-family=\"Helvetica,sans-Serif\" font-size=\"14.00\">headache &lt;= &#45;1.426</text>\n<text text-anchor=\"middle\" x=\"2941\" y=\"-542.8\" font-family=\"Helvetica,sans-Serif\" font-size=\"14.00\">11</text>\n<text text-anchor=\"middle\" x=\"2941\" y=\"-527.8\" font-family=\"Helvetica,sans-Serif\" font-size=\"14.00\">[1, 10, 0]</text>\n<text text-anchor=\"middle\" x=\"2941\" y=\"-512.8\" font-family=\"Helvetica,sans-Serif\" font-size=\"14.00\">1</text>\n</g>\n<!-- 96&#45;&gt;97 -->\n<g id=\"edge97\" class=\"edge\">\n<title>96&#45;&gt;97</title>\n<path fill=\"none\" stroke=\"black\" d=\"M2941,-608.88C2941,-600.78 2941,-591.98 2941,-583.47\"/>\n<polygon fill=\"black\" stroke=\"black\" points=\"2944.5,-583.3 2941,-573.3 2937.5,-583.3 2944.5,-583.3\"/>\n</g>\n<!-- 100 -->\n<g id=\"node101\" class=\"node\">\n<title>100</title>\n<path fill=\"#f8dbc6\" stroke=\"black\" d=\"M3158,-573C3158,-573 3040,-573 3040,-573 3034,-573 3028,-567 3028,-561 3028,-561 3028,-517 3028,-517 3028,-511 3034,-505 3040,-505 3040,-505 3158,-505 3158,-505 3164,-505 3170,-511 3170,-517 3170,-517 3170,-561 3170,-561 3170,-567 3164,-573 3158,-573\"/>\n<text text-anchor=\"middle\" x=\"3099\" y=\"-557.8\" font-family=\"Helvetica,sans-Serif\" font-size=\"14.00\">noise_level &lt;= 0.646</text>\n<text text-anchor=\"middle\" x=\"3099\" y=\"-542.8\" font-family=\"Helvetica,sans-Serif\" font-size=\"14.00\">20</text>\n<text text-anchor=\"middle\" x=\"3099\" y=\"-527.8\" font-family=\"Helvetica,sans-Serif\" font-size=\"14.00\">[10, 6, 4]</text>\n<text text-anchor=\"middle\" x=\"3099\" y=\"-512.8\" font-family=\"Helvetica,sans-Serif\" font-size=\"14.00\">0</text>\n</g>\n<!-- 96&#45;&gt;100 -->\n<g id=\"edge100\" class=\"edge\">\n<title>96&#45;&gt;100</title>\n<path fill=\"none\" stroke=\"black\" d=\"M2992.3,-608.88C3007.28,-599.21 3023.77,-588.56 3039.23,-578.59\"/>\n<polygon fill=\"black\" stroke=\"black\" points=\"3041.19,-581.49 3047.69,-573.12 3037.39,-575.61 3041.19,-581.49\"/>\n</g>\n<!-- 98 -->\n<g id=\"node99\" class=\"node\">\n<title>98</title>\n<path fill=\"#e58139\" stroke=\"black\" d=\"M2911,-461.5C2911,-461.5 2873,-461.5 2873,-461.5 2867,-461.5 2861,-455.5 2861,-449.5 2861,-449.5 2861,-420.5 2861,-420.5 2861,-414.5 2867,-408.5 2873,-408.5 2873,-408.5 2911,-408.5 2911,-408.5 2917,-408.5 2923,-414.5 2923,-420.5 2923,-420.5 2923,-449.5 2923,-449.5 2923,-455.5 2917,-461.5 2911,-461.5\"/>\n<text text-anchor=\"middle\" x=\"2892\" y=\"-446.3\" font-family=\"Helvetica,sans-Serif\" font-size=\"14.00\">1</text>\n<text text-anchor=\"middle\" x=\"2892\" y=\"-431.3\" font-family=\"Helvetica,sans-Serif\" font-size=\"14.00\">[1, 0, 0]</text>\n<text text-anchor=\"middle\" x=\"2892\" y=\"-416.3\" font-family=\"Helvetica,sans-Serif\" font-size=\"14.00\">0</text>\n</g>\n<!-- 97&#45;&gt;98 -->\n<g id=\"edge98\" class=\"edge\">\n<title>97&#45;&gt;98</title>\n<path fill=\"none\" stroke=\"black\" d=\"M2925.09,-504.88C2919.86,-494 2914.03,-481.86 2908.74,-470.85\"/>\n<polygon fill=\"black\" stroke=\"black\" points=\"2911.74,-469.02 2904.26,-461.52 2905.43,-472.05 2911.74,-469.02\"/>\n</g>\n<!-- 99 -->\n<g id=\"node100\" class=\"node\">\n<title>99</title>\n<path fill=\"#39e581\" stroke=\"black\" d=\"M2998.5,-461.5C2998.5,-461.5 2953.5,-461.5 2953.5,-461.5 2947.5,-461.5 2941.5,-455.5 2941.5,-449.5 2941.5,-449.5 2941.5,-420.5 2941.5,-420.5 2941.5,-414.5 2947.5,-408.5 2953.5,-408.5 2953.5,-408.5 2998.5,-408.5 2998.5,-408.5 3004.5,-408.5 3010.5,-414.5 3010.5,-420.5 3010.5,-420.5 3010.5,-449.5 3010.5,-449.5 3010.5,-455.5 3004.5,-461.5 2998.5,-461.5\"/>\n<text text-anchor=\"middle\" x=\"2976\" y=\"-446.3\" font-family=\"Helvetica,sans-Serif\" font-size=\"14.00\">10</text>\n<text text-anchor=\"middle\" x=\"2976\" y=\"-431.3\" font-family=\"Helvetica,sans-Serif\" font-size=\"14.00\">[0, 10, 0]</text>\n<text text-anchor=\"middle\" x=\"2976\" y=\"-416.3\" font-family=\"Helvetica,sans-Serif\" font-size=\"14.00\">1</text>\n</g>\n<!-- 97&#45;&gt;99 -->\n<g id=\"edge99\" class=\"edge\">\n<title>97&#45;&gt;99</title>\n<path fill=\"none\" stroke=\"black\" d=\"M2952.36,-504.88C2956.06,-494.11 2960.18,-482.11 2963.93,-471.18\"/>\n<polygon fill=\"black\" stroke=\"black\" points=\"2967.31,-472.11 2967.24,-461.52 2960.69,-469.84 2967.31,-472.11\"/>\n</g>\n<!-- 101 -->\n<g id=\"node102\" class=\"node\">\n<title>101</title>\n<path fill=\"#ffffff\" stroke=\"black\" d=\"M3157,-469C3157,-469 3041,-469 3041,-469 3035,-469 3029,-463 3029,-457 3029,-457 3029,-413 3029,-413 3029,-407 3035,-401 3041,-401 3041,-401 3157,-401 3157,-401 3163,-401 3169,-407 3169,-413 3169,-413 3169,-457 3169,-457 3169,-463 3163,-469 3157,-469\"/>\n<text text-anchor=\"middle\" x=\"3099\" y=\"-453.8\" font-family=\"Helvetica,sans-Serif\" font-size=\"14.00\">depression &lt;= 0.784</text>\n<text text-anchor=\"middle\" x=\"3099\" y=\"-438.8\" font-family=\"Helvetica,sans-Serif\" font-size=\"14.00\">11</text>\n<text text-anchor=\"middle\" x=\"3099\" y=\"-423.8\" font-family=\"Helvetica,sans-Serif\" font-size=\"14.00\">[3, 4, 4]</text>\n<text text-anchor=\"middle\" x=\"3099\" y=\"-408.8\" font-family=\"Helvetica,sans-Serif\" font-size=\"14.00\">1</text>\n</g>\n<!-- 100&#45;&gt;101 -->\n<g id=\"edge101\" class=\"edge\">\n<title>100&#45;&gt;101</title>\n<path fill=\"none\" stroke=\"black\" d=\"M3099,-504.88C3099,-496.78 3099,-487.98 3099,-479.47\"/>\n<polygon fill=\"black\" stroke=\"black\" points=\"3102.5,-479.3 3099,-469.3 3095.5,-479.3 3102.5,-479.3\"/>\n</g>\n<!-- 110 -->\n<g id=\"node111\" class=\"node\">\n<title>110</title>\n<path fill=\"#eca572\" stroke=\"black\" d=\"M3320.5,-469C3320.5,-469 3199.5,-469 3199.5,-469 3193.5,-469 3187.5,-463 3187.5,-457 3187.5,-457 3187.5,-413 3187.5,-413 3187.5,-407 3193.5,-401 3199.5,-401 3199.5,-401 3320.5,-401 3320.5,-401 3326.5,-401 3332.5,-407 3332.5,-413 3332.5,-413 3332.5,-457 3332.5,-457 3332.5,-463 3326.5,-469 3320.5,-469\"/>\n<text text-anchor=\"middle\" x=\"3260\" y=\"-453.8\" font-family=\"Helvetica,sans-Serif\" font-size=\"14.00\">depression &lt;= &#45;1.049</text>\n<text text-anchor=\"middle\" x=\"3260\" y=\"-438.8\" font-family=\"Helvetica,sans-Serif\" font-size=\"14.00\">9</text>\n<text text-anchor=\"middle\" x=\"3260\" y=\"-423.8\" font-family=\"Helvetica,sans-Serif\" font-size=\"14.00\">[7, 2, 0]</text>\n<text text-anchor=\"middle\" x=\"3260\" y=\"-408.8\" font-family=\"Helvetica,sans-Serif\" font-size=\"14.00\">0</text>\n</g>\n<!-- 100&#45;&gt;110 -->\n<g id=\"edge110\" class=\"edge\">\n<title>100&#45;&gt;110</title>\n<path fill=\"none\" stroke=\"black\" d=\"M3151.27,-504.88C3166.53,-495.21 3183.35,-484.56 3199.09,-474.59\"/>\n<polygon fill=\"black\" stroke=\"black\" points=\"3201.14,-477.43 3207.71,-469.12 3197.39,-471.52 3201.14,-477.43\"/>\n</g>\n<!-- 102 -->\n<g id=\"node103\" class=\"node\">\n<title>102</title>\n<path fill=\"#d7fae6\" stroke=\"black\" d=\"M3058,-365C3058,-365 2916,-365 2916,-365 2910,-365 2904,-359 2904,-353 2904,-353 2904,-309 2904,-309 2904,-303 2910,-297 2916,-297 2916,-297 3058,-297 3058,-297 3064,-297 3070,-303 3070,-309 3070,-309 3070,-353 3070,-353 3070,-359 3064,-365 3058,-365\"/>\n<text text-anchor=\"middle\" x=\"2987\" y=\"-349.8\" font-family=\"Helvetica,sans-Serif\" font-size=\"14.00\">peer_pressure &lt;= &#45;0.156</text>\n<text text-anchor=\"middle\" x=\"2987\" y=\"-334.8\" font-family=\"Helvetica,sans-Serif\" font-size=\"14.00\">8</text>\n<text text-anchor=\"middle\" x=\"2987\" y=\"-319.8\" font-family=\"Helvetica,sans-Serif\" font-size=\"14.00\">[3, 4, 1]</text>\n<text text-anchor=\"middle\" x=\"2987\" y=\"-304.8\" font-family=\"Helvetica,sans-Serif\" font-size=\"14.00\">1</text>\n</g>\n<!-- 101&#45;&gt;102 -->\n<g id=\"edge102\" class=\"edge\">\n<title>101&#45;&gt;102</title>\n<path fill=\"none\" stroke=\"black\" d=\"M3062.64,-400.88C3052.56,-391.71 3041.52,-381.65 3031.06,-372.12\"/>\n<polygon fill=\"black\" stroke=\"black\" points=\"3033.31,-369.44 3023.56,-365.3 3028.6,-374.62 3033.31,-369.44\"/>\n</g>\n<!-- 109 -->\n<g id=\"node110\" class=\"node\">\n<title>109</title>\n<path fill=\"#8139e5\" stroke=\"black\" d=\"M3138,-357.5C3138,-357.5 3100,-357.5 3100,-357.5 3094,-357.5 3088,-351.5 3088,-345.5 3088,-345.5 3088,-316.5 3088,-316.5 3088,-310.5 3094,-304.5 3100,-304.5 3100,-304.5 3138,-304.5 3138,-304.5 3144,-304.5 3150,-310.5 3150,-316.5 3150,-316.5 3150,-345.5 3150,-345.5 3150,-351.5 3144,-357.5 3138,-357.5\"/>\n<text text-anchor=\"middle\" x=\"3119\" y=\"-342.3\" font-family=\"Helvetica,sans-Serif\" font-size=\"14.00\">3</text>\n<text text-anchor=\"middle\" x=\"3119\" y=\"-327.3\" font-family=\"Helvetica,sans-Serif\" font-size=\"14.00\">[0, 0, 3]</text>\n<text text-anchor=\"middle\" x=\"3119\" y=\"-312.3\" font-family=\"Helvetica,sans-Serif\" font-size=\"14.00\">2</text>\n</g>\n<!-- 101&#45;&gt;109 -->\n<g id=\"edge109\" class=\"edge\">\n<title>101&#45;&gt;109</title>\n<path fill=\"none\" stroke=\"black\" d=\"M3105.49,-400.88C3107.59,-390.22 3109.91,-378.35 3112.04,-367.52\"/>\n<polygon fill=\"black\" stroke=\"black\" points=\"3115.51,-368.01 3114,-357.52 3108.64,-366.66 3115.51,-368.01\"/>\n</g>\n<!-- 103 -->\n<g id=\"node104\" class=\"node\">\n<title>103</title>\n<path fill=\"#f2c09c\" stroke=\"black\" d=\"M3048,-261C3048,-261 2848,-261 2848,-261 2842,-261 2836,-255 2836,-249 2836,-249 2836,-205 2836,-205 2836,-199 2842,-193 2848,-193 2848,-193 3048,-193 3048,-193 3054,-193 3060,-199 3060,-205 3060,-205 3060,-249 3060,-249 3060,-255 3054,-261 3048,-261\"/>\n<text text-anchor=\"middle\" x=\"2948\" y=\"-245.8\" font-family=\"Helvetica,sans-Serif\" font-size=\"14.00\">extracurricular_activities &lt;= &#45;1.594</text>\n<text text-anchor=\"middle\" x=\"2948\" y=\"-230.8\" font-family=\"Helvetica,sans-Serif\" font-size=\"14.00\">5</text>\n<text text-anchor=\"middle\" x=\"2948\" y=\"-215.8\" font-family=\"Helvetica,sans-Serif\" font-size=\"14.00\">[3, 1, 1]</text>\n<text text-anchor=\"middle\" x=\"2948\" y=\"-200.8\" font-family=\"Helvetica,sans-Serif\" font-size=\"14.00\">0</text>\n</g>\n<!-- 102&#45;&gt;103 -->\n<g id=\"edge103\" class=\"edge\">\n<title>102&#45;&gt;103</title>\n<path fill=\"none\" stroke=\"black\" d=\"M2974.34,-296.88C2971.17,-288.6 2967.73,-279.6 2964.41,-270.91\"/>\n<polygon fill=\"black\" stroke=\"black\" points=\"2967.57,-269.39 2960.73,-261.3 2961.03,-271.89 2967.57,-269.39\"/>\n</g>\n<!-- 108 -->\n<g id=\"node109\" class=\"node\">\n<title>108</title>\n<path fill=\"#39e581\" stroke=\"black\" d=\"M3128,-253.5C3128,-253.5 3090,-253.5 3090,-253.5 3084,-253.5 3078,-247.5 3078,-241.5 3078,-241.5 3078,-212.5 3078,-212.5 3078,-206.5 3084,-200.5 3090,-200.5 3090,-200.5 3128,-200.5 3128,-200.5 3134,-200.5 3140,-206.5 3140,-212.5 3140,-212.5 3140,-241.5 3140,-241.5 3140,-247.5 3134,-253.5 3128,-253.5\"/>\n<text text-anchor=\"middle\" x=\"3109\" y=\"-238.3\" font-family=\"Helvetica,sans-Serif\" font-size=\"14.00\">3</text>\n<text text-anchor=\"middle\" x=\"3109\" y=\"-223.3\" font-family=\"Helvetica,sans-Serif\" font-size=\"14.00\">[0, 3, 0]</text>\n<text text-anchor=\"middle\" x=\"3109\" y=\"-208.3\" font-family=\"Helvetica,sans-Serif\" font-size=\"14.00\">1</text>\n</g>\n<!-- 102&#45;&gt;108 -->\n<g id=\"edge108\" class=\"edge\">\n<title>102&#45;&gt;108</title>\n<path fill=\"none\" stroke=\"black\" d=\"M3026.61,-296.88C3040.69,-285.12 3056.5,-271.89 3070.48,-260.2\"/>\n<polygon fill=\"black\" stroke=\"black\" points=\"3073.05,-262.62 3078.48,-253.52 3068.56,-257.25 3073.05,-262.62\"/>\n</g>\n<!-- 104 -->\n<g id=\"node105\" class=\"node\">\n<title>104</title>\n<path fill=\"#ffffff\" stroke=\"black\" d=\"M2907.5,-157C2907.5,-157 2786.5,-157 2786.5,-157 2780.5,-157 2774.5,-151 2774.5,-145 2774.5,-145 2774.5,-101 2774.5,-101 2774.5,-95 2780.5,-89 2786.5,-89 2786.5,-89 2907.5,-89 2907.5,-89 2913.5,-89 2919.5,-95 2919.5,-101 2919.5,-101 2919.5,-145 2919.5,-145 2919.5,-151 2913.5,-157 2907.5,-157\"/>\n<text text-anchor=\"middle\" x=\"2847\" y=\"-141.8\" font-family=\"Helvetica,sans-Serif\" font-size=\"14.00\">depression &lt;= &#45;0.983</text>\n<text text-anchor=\"middle\" x=\"2847\" y=\"-126.8\" font-family=\"Helvetica,sans-Serif\" font-size=\"14.00\">2</text>\n<text text-anchor=\"middle\" x=\"2847\" y=\"-111.8\" font-family=\"Helvetica,sans-Serif\" font-size=\"14.00\">[0, 1, 1]</text>\n<text text-anchor=\"middle\" x=\"2847\" y=\"-96.8\" font-family=\"Helvetica,sans-Serif\" font-size=\"14.00\">1</text>\n</g>\n<!-- 103&#45;&gt;104 -->\n<g id=\"edge104\" class=\"edge\">\n<title>103&#45;&gt;104</title>\n<path fill=\"none\" stroke=\"black\" d=\"M2915.21,-192.88C2906.3,-183.89 2896.55,-174.04 2887.28,-164.68\"/>\n<polygon fill=\"black\" stroke=\"black\" points=\"2889.5,-161.94 2879.97,-157.3 2884.52,-166.87 2889.5,-161.94\"/>\n</g>\n<!-- 107 -->\n<g id=\"node108\" class=\"node\">\n<title>107</title>\n<path fill=\"#e58139\" stroke=\"black\" d=\"M2988,-149.5C2988,-149.5 2950,-149.5 2950,-149.5 2944,-149.5 2938,-143.5 2938,-137.5 2938,-137.5 2938,-108.5 2938,-108.5 2938,-102.5 2944,-96.5 2950,-96.5 2950,-96.5 2988,-96.5 2988,-96.5 2994,-96.5 3000,-102.5 3000,-108.5 3000,-108.5 3000,-137.5 3000,-137.5 3000,-143.5 2994,-149.5 2988,-149.5\"/>\n<text text-anchor=\"middle\" x=\"2969\" y=\"-134.3\" font-family=\"Helvetica,sans-Serif\" font-size=\"14.00\">3</text>\n<text text-anchor=\"middle\" x=\"2969\" y=\"-119.3\" font-family=\"Helvetica,sans-Serif\" font-size=\"14.00\">[3, 0, 0]</text>\n<text text-anchor=\"middle\" x=\"2969\" y=\"-104.3\" font-family=\"Helvetica,sans-Serif\" font-size=\"14.00\">0</text>\n</g>\n<!-- 103&#45;&gt;107 -->\n<g id=\"edge107\" class=\"edge\">\n<title>103&#45;&gt;107</title>\n<path fill=\"none\" stroke=\"black\" d=\"M2954.82,-192.88C2957.01,-182.22 2959.46,-170.35 2961.69,-159.52\"/>\n<polygon fill=\"black\" stroke=\"black\" points=\"2965.16,-160.02 2963.75,-149.52 2958.3,-158.61 2965.16,-160.02\"/>\n</g>\n<!-- 105 -->\n<g id=\"node106\" class=\"node\">\n<title>105</title>\n<path fill=\"#39e581\" stroke=\"black\" d=\"M2826,-53C2826,-53 2788,-53 2788,-53 2782,-53 2776,-47 2776,-41 2776,-41 2776,-12 2776,-12 2776,-6 2782,0 2788,0 2788,0 2826,0 2826,0 2832,0 2838,-6 2838,-12 2838,-12 2838,-41 2838,-41 2838,-47 2832,-53 2826,-53\"/>\n<text text-anchor=\"middle\" x=\"2807\" y=\"-37.8\" font-family=\"Helvetica,sans-Serif\" font-size=\"14.00\">1</text>\n<text text-anchor=\"middle\" x=\"2807\" y=\"-22.8\" font-family=\"Helvetica,sans-Serif\" font-size=\"14.00\">[0, 1, 0]</text>\n<text text-anchor=\"middle\" x=\"2807\" y=\"-7.8\" font-family=\"Helvetica,sans-Serif\" font-size=\"14.00\">1</text>\n</g>\n<!-- 104&#45;&gt;105 -->\n<g id=\"edge105\" class=\"edge\">\n<title>104&#45;&gt;105</title>\n<path fill=\"none\" stroke=\"black\" d=\"M2833.01,-88.95C2829.41,-80.44 2825.52,-71.26 2821.88,-62.65\"/>\n<polygon fill=\"black\" stroke=\"black\" points=\"2825.02,-61.08 2817.89,-53.24 2818.57,-63.81 2825.02,-61.08\"/>\n</g>\n<!-- 106 -->\n<g id=\"node107\" class=\"node\">\n<title>106</title>\n<path fill=\"#8139e5\" stroke=\"black\" d=\"M2906,-53C2906,-53 2868,-53 2868,-53 2862,-53 2856,-47 2856,-41 2856,-41 2856,-12 2856,-12 2856,-6 2862,0 2868,0 2868,0 2906,0 2906,0 2912,0 2918,-6 2918,-12 2918,-12 2918,-41 2918,-41 2918,-47 2912,-53 2906,-53\"/>\n<text text-anchor=\"middle\" x=\"2887\" y=\"-37.8\" font-family=\"Helvetica,sans-Serif\" font-size=\"14.00\">1</text>\n<text text-anchor=\"middle\" x=\"2887\" y=\"-22.8\" font-family=\"Helvetica,sans-Serif\" font-size=\"14.00\">[0, 0, 1]</text>\n<text text-anchor=\"middle\" x=\"2887\" y=\"-7.8\" font-family=\"Helvetica,sans-Serif\" font-size=\"14.00\">2</text>\n</g>\n<!-- 104&#45;&gt;106 -->\n<g id=\"edge106\" class=\"edge\">\n<title>104&#45;&gt;106</title>\n<path fill=\"none\" stroke=\"black\" d=\"M2860.99,-88.95C2864.59,-80.44 2868.48,-71.26 2872.12,-62.65\"/>\n<polygon fill=\"black\" stroke=\"black\" points=\"2875.43,-63.81 2876.11,-53.24 2868.98,-61.08 2875.43,-63.81\"/>\n</g>\n<!-- 111 -->\n<g id=\"node112\" class=\"node\">\n<title>111</title>\n<path fill=\"#39e581\" stroke=\"black\" d=\"M3239,-357.5C3239,-357.5 3201,-357.5 3201,-357.5 3195,-357.5 3189,-351.5 3189,-345.5 3189,-345.5 3189,-316.5 3189,-316.5 3189,-310.5 3195,-304.5 3201,-304.5 3201,-304.5 3239,-304.5 3239,-304.5 3245,-304.5 3251,-310.5 3251,-316.5 3251,-316.5 3251,-345.5 3251,-345.5 3251,-351.5 3245,-357.5 3239,-357.5\"/>\n<text text-anchor=\"middle\" x=\"3220\" y=\"-342.3\" font-family=\"Helvetica,sans-Serif\" font-size=\"14.00\">2</text>\n<text text-anchor=\"middle\" x=\"3220\" y=\"-327.3\" font-family=\"Helvetica,sans-Serif\" font-size=\"14.00\">[0, 2, 0]</text>\n<text text-anchor=\"middle\" x=\"3220\" y=\"-312.3\" font-family=\"Helvetica,sans-Serif\" font-size=\"14.00\">1</text>\n</g>\n<!-- 110&#45;&gt;111 -->\n<g id=\"edge111\" class=\"edge\">\n<title>110&#45;&gt;111</title>\n<path fill=\"none\" stroke=\"black\" d=\"M3247.01,-400.88C3242.74,-390 3237.99,-377.86 3233.67,-366.85\"/>\n<polygon fill=\"black\" stroke=\"black\" points=\"3236.92,-365.55 3230.01,-357.52 3230.4,-368.11 3236.92,-365.55\"/>\n</g>\n<!-- 112 -->\n<g id=\"node113\" class=\"node\">\n<title>112</title>\n<path fill=\"#e58139\" stroke=\"black\" d=\"M3319,-357.5C3319,-357.5 3281,-357.5 3281,-357.5 3275,-357.5 3269,-351.5 3269,-345.5 3269,-345.5 3269,-316.5 3269,-316.5 3269,-310.5 3275,-304.5 3281,-304.5 3281,-304.5 3319,-304.5 3319,-304.5 3325,-304.5 3331,-310.5 3331,-316.5 3331,-316.5 3331,-345.5 3331,-345.5 3331,-351.5 3325,-357.5 3319,-357.5\"/>\n<text text-anchor=\"middle\" x=\"3300\" y=\"-342.3\" font-family=\"Helvetica,sans-Serif\" font-size=\"14.00\">7</text>\n<text text-anchor=\"middle\" x=\"3300\" y=\"-327.3\" font-family=\"Helvetica,sans-Serif\" font-size=\"14.00\">[7, 0, 0]</text>\n<text text-anchor=\"middle\" x=\"3300\" y=\"-312.3\" font-family=\"Helvetica,sans-Serif\" font-size=\"14.00\">0</text>\n</g>\n<!-- 110&#45;&gt;112 -->\n<g id=\"edge112\" class=\"edge\">\n<title>110&#45;&gt;112</title>\n<path fill=\"none\" stroke=\"black\" d=\"M3272.99,-400.88C3277.26,-390 3282.01,-377.86 3286.33,-366.85\"/>\n<polygon fill=\"black\" stroke=\"black\" points=\"3289.6,-368.11 3289.99,-357.52 3283.08,-365.55 3289.6,-368.11\"/>\n</g>\n</g>\n</svg>\n",
            "text/plain": [
              "<graphviz.sources.Source at 0x7e9acd209300>"
            ]
          },
          "metadata": {},
          "execution_count": 9
        }
      ]
    },
    {
      "cell_type": "markdown",
      "source": [
        "## Exercício 1.4.\n",
        "\n",
        "Faça um modelo Multi-Layer Perceptron. Empregue uma rede neural com 3 camadas ocultas com 4,8,4 elementos respectivamente. Configure ainda a tangente hiperbólica como função de ativação e 1000 iterações de treinamento do modelo.\n",
        "\n",
        "**Q3. Qual a acuracidade do seu modelo MLP obtida sobre o conjunto de teste?**"
      ],
      "metadata": {
        "id": "Hqb6rxrvVACP"
      }
    },
    {
      "cell_type": "code",
      "source": [
        "from sklearn.neural_network import MLPClassifier\n",
        "\n",
        "from sklearn.metrics import classification_report\n",
        "\n",
        "mlp = MLPClassifier(hidden_layer_sizes=(4,8,4),random_state=1,activation='tanh',max_iter=1000)\n",
        "mlp.fit(X_train, y_train)\n",
        "\n",
        "y_pred = mlp.predict(X_test)\n",
        "print(classification_report(y_test, y_pred))"
      ],
      "metadata": {
        "colab": {
          "base_uri": "https://localhost:8080/"
        },
        "id": "bSFGaALbLAw7",
        "outputId": "0146e301-c5a3-490e-9502-0416cba0d17f"
      },
      "execution_count": null,
      "outputs": [
        {
          "output_type": "stream",
          "name": "stdout",
          "text": [
            "              precision    recall  f1-score   support\n",
            "\n",
            "           0       0.88      0.89      0.89        74\n",
            "           1       0.93      0.90      0.92        72\n",
            "           2       0.88      0.89      0.89        74\n",
            "\n",
            "    accuracy                           0.90       220\n",
            "   macro avg       0.90      0.90      0.90       220\n",
            "weighted avg       0.90      0.90      0.90       220\n",
            "\n"
          ]
        }
      ]
    },
    {
      "cell_type": "markdown",
      "source": [
        "## Exercício 1.5.\n",
        "\n",
        "**Q4. No modelo de maior acuracidade, qual classe apresenta melhores resultados, e qual o seu f1-score?**\n",
        "\n",
        "**Q5. Qual o número de falsos negativos e falsos positivos para a classe da questão anterior?**"
      ],
      "metadata": {
        "id": "AU9PNX3LVxIq"
      }
    },
    {
      "cell_type": "code",
      "source": [
        "from sklearn.metrics import confusion_matrix\n",
        "\n",
        "cm = confusion_matrix(y_test, y_pred)\n",
        "print('\\nMatriz de Confusão:\\n')\n",
        "print(cm)\n",
        "print()"
      ],
      "metadata": {
        "colab": {
          "base_uri": "https://localhost:8080/"
        },
        "id": "dneL2zjxNlGr",
        "outputId": "309b609b-c0eb-40fd-ae23-3caf2a062e3d"
      },
      "execution_count": null,
      "outputs": [
        {
          "output_type": "stream",
          "name": "stdout",
          "text": [
            "\n",
            "Matriz de Confusão:\n",
            "\n",
            "[[66  4  4]\n",
            " [ 2 65  5]\n",
            " [ 7  1 66]]\n",
            "\n"
          ]
        }
      ]
    },
    {
      "cell_type": "markdown",
      "source": [
        "# Exercício 2. **Clustering $\\times$ Test**\n",
        "\n",
        "Neste exercício você vai aplicar algoritmos de clusterização Kmédias e Hierárquica sobre o conjunto de teste.\n",
        "\n",
        "Para normalização dos dados empregue o `StandardScaler`, caso você ainda não tenha feito, faça o exercício 1.1. Em todos lugares onde for necessário para reprodutibilidade dos resultados, empregue o `random_state=1`.\n",
        "\n",
        "\n",
        "\n",
        "\n",
        "\n"
      ],
      "metadata": {
        "id": "l-rPksOU_0WC"
      }
    },
    {
      "cell_type": "markdown",
      "source": [
        "## Exercício 2.1.\n",
        "\n",
        "Faça uma clusterização kmédias em 3 grupos do conjunto de teste (sem a classe `stress_level`!) e analise os grupos formados.\n",
        "\n",
        "**Q6. Qual dos grupos parece apresentar indivíduos com uma saúde geral muito melhor (menos dor de cabeça, maior autoestima, menos depressão, maior qualidade do sono, etc.) e qual grupo apresenta indicadores menores no geral (seja para os indicadores positivos ou negativos)?**"
      ],
      "metadata": {
        "id": "HICt00lpYVvE"
      }
    },
    {
      "cell_type": "code",
      "source": [
        "from sklearn.cluster import KMeans\n",
        "\n",
        "clf = KMeans(n_clusters = 3, random_state= 1, n_init=10)\n",
        "clf.fit(X_test)"
      ],
      "metadata": {
        "colab": {
          "base_uri": "https://localhost:8080/",
          "height": 75
        },
        "id": "MHKJg9hARVBL",
        "outputId": "6b4d5b87-0677-48a6-ed11-f2d52931d4fd"
      },
      "execution_count": null,
      "outputs": [
        {
          "output_type": "execute_result",
          "data": {
            "text/plain": [
              "KMeans(n_clusters=3, n_init=10, random_state=1)"
            ],
            "text/html": [
              "<style>#sk-container-id-1 {color: black;background-color: white;}#sk-container-id-1 pre{padding: 0;}#sk-container-id-1 div.sk-toggleable {background-color: white;}#sk-container-id-1 label.sk-toggleable__label {cursor: pointer;display: block;width: 100%;margin-bottom: 0;padding: 0.3em;box-sizing: border-box;text-align: center;}#sk-container-id-1 label.sk-toggleable__label-arrow:before {content: \"▸\";float: left;margin-right: 0.25em;color: #696969;}#sk-container-id-1 label.sk-toggleable__label-arrow:hover:before {color: black;}#sk-container-id-1 div.sk-estimator:hover label.sk-toggleable__label-arrow:before {color: black;}#sk-container-id-1 div.sk-toggleable__content {max-height: 0;max-width: 0;overflow: hidden;text-align: left;background-color: #f0f8ff;}#sk-container-id-1 div.sk-toggleable__content pre {margin: 0.2em;color: black;border-radius: 0.25em;background-color: #f0f8ff;}#sk-container-id-1 input.sk-toggleable__control:checked~div.sk-toggleable__content {max-height: 200px;max-width: 100%;overflow: auto;}#sk-container-id-1 input.sk-toggleable__control:checked~label.sk-toggleable__label-arrow:before {content: \"▾\";}#sk-container-id-1 div.sk-estimator input.sk-toggleable__control:checked~label.sk-toggleable__label {background-color: #d4ebff;}#sk-container-id-1 div.sk-label input.sk-toggleable__control:checked~label.sk-toggleable__label {background-color: #d4ebff;}#sk-container-id-1 input.sk-hidden--visually {border: 0;clip: rect(1px 1px 1px 1px);clip: rect(1px, 1px, 1px, 1px);height: 1px;margin: -1px;overflow: hidden;padding: 0;position: absolute;width: 1px;}#sk-container-id-1 div.sk-estimator {font-family: monospace;background-color: #f0f8ff;border: 1px dotted black;border-radius: 0.25em;box-sizing: border-box;margin-bottom: 0.5em;}#sk-container-id-1 div.sk-estimator:hover {background-color: #d4ebff;}#sk-container-id-1 div.sk-parallel-item::after {content: \"\";width: 100%;border-bottom: 1px solid gray;flex-grow: 1;}#sk-container-id-1 div.sk-label:hover label.sk-toggleable__label {background-color: #d4ebff;}#sk-container-id-1 div.sk-serial::before {content: \"\";position: absolute;border-left: 1px solid gray;box-sizing: border-box;top: 0;bottom: 0;left: 50%;z-index: 0;}#sk-container-id-1 div.sk-serial {display: flex;flex-direction: column;align-items: center;background-color: white;padding-right: 0.2em;padding-left: 0.2em;position: relative;}#sk-container-id-1 div.sk-item {position: relative;z-index: 1;}#sk-container-id-1 div.sk-parallel {display: flex;align-items: stretch;justify-content: center;background-color: white;position: relative;}#sk-container-id-1 div.sk-item::before, #sk-container-id-1 div.sk-parallel-item::before {content: \"\";position: absolute;border-left: 1px solid gray;box-sizing: border-box;top: 0;bottom: 0;left: 50%;z-index: -1;}#sk-container-id-1 div.sk-parallel-item {display: flex;flex-direction: column;z-index: 1;position: relative;background-color: white;}#sk-container-id-1 div.sk-parallel-item:first-child::after {align-self: flex-end;width: 50%;}#sk-container-id-1 div.sk-parallel-item:last-child::after {align-self: flex-start;width: 50%;}#sk-container-id-1 div.sk-parallel-item:only-child::after {width: 0;}#sk-container-id-1 div.sk-dashed-wrapped {border: 1px dashed gray;margin: 0 0.4em 0.5em 0.4em;box-sizing: border-box;padding-bottom: 0.4em;background-color: white;}#sk-container-id-1 div.sk-label label {font-family: monospace;font-weight: bold;display: inline-block;line-height: 1.2em;}#sk-container-id-1 div.sk-label-container {text-align: center;}#sk-container-id-1 div.sk-container {/* jupyter's `normalize.less` sets `[hidden] { display: none; }` but bootstrap.min.css set `[hidden] { display: none !important; }` so we also need the `!important` here to be able to override the default hidden behavior on the sphinx rendered scikit-learn.org. See: https://github.com/scikit-learn/scikit-learn/issues/21755 */display: inline-block !important;position: relative;}#sk-container-id-1 div.sk-text-repr-fallback {display: none;}</style><div id=\"sk-container-id-1\" class=\"sk-top-container\"><div class=\"sk-text-repr-fallback\"><pre>KMeans(n_clusters=3, n_init=10, random_state=1)</pre><b>In a Jupyter environment, please rerun this cell to show the HTML representation or trust the notebook. <br />On GitHub, the HTML representation is unable to render, please try loading this page with nbviewer.org.</b></div><div class=\"sk-container\" hidden><div class=\"sk-item\"><div class=\"sk-estimator sk-toggleable\"><input class=\"sk-toggleable__control sk-hidden--visually\" id=\"sk-estimator-id-1\" type=\"checkbox\" checked><label for=\"sk-estimator-id-1\" class=\"sk-toggleable__label sk-toggleable__label-arrow\">KMeans</label><div class=\"sk-toggleable__content\"><pre>KMeans(n_clusters=3, n_init=10, random_state=1)</pre></div></div></div></div></div>"
            ]
          },
          "metadata": {},
          "execution_count": 13
        }
      ]
    },
    {
      "cell_type": "code",
      "source": [
        "clf.cluster_centers_"
      ],
      "metadata": {
        "colab": {
          "base_uri": "https://localhost:8080/"
        },
        "id": "1rFz0IocRcCE",
        "outputId": "38a73c64-21b5-4af2-ec74-ead550de30eb"
      },
      "execution_count": null,
      "outputs": [
        {
          "output_type": "execute_result",
          "data": {
            "text/plain": [
              "array([[-1.15128747,  1.07173529, -0.97752522, -1.09153249, -1.0707672 ,\n",
              "        -0.21024703,  1.26900515, -0.91495214, -0.90020627,  0.98420665,\n",
              "         1.28194966,  1.12602688,  1.15739495, -0.88528907,  1.32504618,\n",
              "        -1.07653167,  1.05312611, -0.77972525, -0.85377454, -1.04088447],\n",
              "       [ 0.03032159,  0.01658581,  0.04447789, -0.0016364 ,  0.02439936,\n",
              "        -0.67322157, -0.07233025,  0.01021671, -0.04877143, -0.04222962,\n",
              "        -0.2174159 , -0.34372938, -0.13608831, -0.11680104, -0.30115424,\n",
              "        -0.14437398,  0.05541412, -0.20869219, -0.25992144, -0.18535112],\n",
              "       [ 1.12965708, -1.09861034,  1.02299151,  1.15542612,  0.99236997,\n",
              "         0.97185088, -1.0674702 ,  0.69801992,  1.04571482, -0.84273281,\n",
              "        -0.82767511, -0.9375162 , -0.88853413,  1.04097757, -0.92233236,\n",
              "         1.18711046, -0.84194468,  1.17688456,  1.13064492,  1.09868397]])"
            ]
          },
          "metadata": {},
          "execution_count": 14
        }
      ]
    },
    {
      "cell_type": "code",
      "source": [
        "fig, ax = plt.subplots(1,3,figsize=(12,4.5),sharey=True)\n",
        "\n",
        "ax[0].tick_params(axis='x', labelrotation = 90)\n",
        "sns.barplot(x=df_train.columns[0:-1],y=clf.cluster_centers_[0],ax=ax[0])\n",
        "ax[1].tick_params(axis='x', labelrotation = 90)\n",
        "sns.barplot(x=df_train.columns[0:-1],y=clf.cluster_centers_[1],ax=ax[1])\n",
        "ax[2].tick_params(axis='x', labelrotation = 90)\n",
        "sns.barplot(x=df_train.columns[0:-1],y=clf.cluster_centers_[2],ax=ax[2])\n",
        "\n",
        "plt.tight_layout()\n",
        "plt.show()"
      ],
      "metadata": {
        "colab": {
          "base_uri": "https://localhost:8080/",
          "height": 457
        },
        "id": "k59jRWx1RMIS",
        "outputId": "a0fe6dbb-8779-4847-89bc-7cf14ab14fcb"
      },
      "execution_count": null,
      "outputs": [
        {
          "output_type": "display_data",
          "data": {
            "text/plain": [
              "<Figure size 1200x450 with 3 Axes>"
            ],
            "image/png": "[encoded data removed]"
          },
          "metadata": {}
        }
      ]
    },
    {
      "cell_type": "markdown",
      "source": [
        "## Exercício 2.2.\n",
        "\n",
        "Faça agora uma clusterização hierárquica empregando o linkage `complete` e outra empregando o linkage padrão `ward`. Ambas criando 3 grupos cada.\n",
        "\n"
      ],
      "metadata": {
        "id": "b92Pu_FaacpT"
      }
    },
    {
      "cell_type": "code",
      "source": [
        "from sklearn.cluster import AgglomerativeClustering\n",
        "\n",
        "hclust1 = AgglomerativeClustering(n_clusters=3,linkage='complete').fit(X_test)\n",
        "hclust2 = AgglomerativeClustering(n_clusters=3,linkage='ward').fit(X_test)"
      ],
      "metadata": {
        "id": "YxPop3_LOE76"
      },
      "execution_count": null,
      "outputs": []
    },
    {
      "cell_type": "markdown",
      "source": [
        "**Q7. A que grupos pertencem o 10 e 15 elementos do conjunto de teste no cluster hierárquico complete e ward respectivamente?**"
      ],
      "metadata": {
        "id": "0JSl7e8YbHLr"
      }
    },
    {
      "cell_type": "code",
      "source": [
        "hclust1.labels_[[9,14]], hclust2.labels_[[9,14]]"
      ],
      "metadata": {
        "colab": {
          "base_uri": "https://localhost:8080/"
        },
        "id": "jrp3jJUWbEIj",
        "outputId": "643301c9-c94e-4e00-b359-dc49c0eae80a"
      },
      "execution_count": null,
      "outputs": [
        {
          "output_type": "execute_result",
          "data": {
            "text/plain": [
              "(array([2, 0]), array([1, 2]))"
            ]
          },
          "metadata": {},
          "execution_count": 18
        }
      ]
    },
    {
      "cell_type": "markdown",
      "source": [
        "**Q8. Qual o percentual de coincidências do cluster associado a cada instância dos dados há entre as duas clusterizações?**"
      ],
      "metadata": {
        "id": "IiTgpxA5cRdk"
      }
    },
    {
      "cell_type": "code",
      "source": [
        "(hclust1.labels_ == hclust2.labels_).sum() / len(hclust1.labels_)"
      ],
      "metadata": {
        "colab": {
          "base_uri": "https://localhost:8080/"
        },
        "id": "stqG4xApcd5L",
        "outputId": "9480bee5-357b-4519-b9e2-f7c0f75b00c7"
      },
      "execution_count": null,
      "outputs": [
        {
          "output_type": "execute_result",
          "data": {
            "text/plain": [
              "0.05454545454545454"
            ]
          },
          "metadata": {},
          "execution_count": 19
        }
      ]
    },
    {
      "cell_type": "markdown",
      "source": [
        "## Exercício 2.3. (2.0)\n",
        "\n",
        "A taxa de coincidência pode ter sido baixa por que podem ter sido apenas empregados 'rótulos' diferentes para cada cluster. Imagine todos elementos de um cluster (digamos A), mas que no método 1 (complete) foi associado o rótulo 1, e no método 2 (ward) foi associado o rótulo 0, serão dados como diferentes mas são o mesmo cluster. Desse modo, procure uma ordem diferente dos rótulos, que permita identificar melhor os grupos comuns entre os dois métodos de clusterização.\n",
        "\n",
        "**Dica:** Empregue a matriz de confusão do `scikit-learn` comparando os dois agrupamentos.\n",
        "\n",
        "**Q9. Depois de rearranjar os rótulos dos grupos de forma mais favorável, qual o percentual de coincidência obtido entre os grupos assinalados para os dados?**\n"
      ],
      "metadata": {
        "id": "hzgVRFxgc6eT"
      }
    },
    {
      "cell_type": "code",
      "source": [
        "cm = confusion_matrix(hclust1.labels_, hclust2.labels_)\n",
        "cm"
      ],
      "metadata": {
        "colab": {
          "base_uri": "https://localhost:8080/"
        },
        "id": "BOtAYAbwc66j",
        "outputId": "ba1abff0-8920-48ad-8492-321e03e93533"
      },
      "execution_count": null,
      "outputs": [
        {
          "output_type": "execute_result",
          "data": {
            "text/plain": [
              "array([[12,  0, 63],\n",
              "       [19,  0,  0],\n",
              "       [64, 62,  0]])"
            ]
          },
          "metadata": {},
          "execution_count": 20
        }
      ]
    },
    {
      "cell_type": "code",
      "source": [
        "cm = cm[[1,2,0],:]\n",
        "\n",
        "print(cm, '\\n', cm.diagonal().sum() / cm.sum())"
      ],
      "metadata": {
        "colab": {
          "base_uri": "https://localhost:8080/"
        },
        "id": "n8S1_eu_a_bz",
        "outputId": "4dc56f8e-6b55-4e43-c3b1-cc07cc9056bf"
      },
      "execution_count": null,
      "outputs": [
        {
          "output_type": "stream",
          "name": "stdout",
          "text": [
            "[[19  0  0]\n",
            " [64 62  0]\n",
            " [12  0 63]] \n",
            " 0.6545454545454545\n"
          ]
        }
      ]
    }
  ]
}